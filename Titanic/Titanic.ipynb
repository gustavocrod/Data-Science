{
  "nbformat": 4,
  "nbformat_minor": 0,
  "metadata": {
    "colab": {
      "name": "Titanic.ipynb",
      "provenance": []
    },
    "kernelspec": {
      "name": "python3",
      "display_name": "Python 3"
    }
  },
  "cells": [
    {
      "cell_type": "markdown",
      "metadata": {
        "id": "xOrCfP0llK-S",
        "colab_type": "text"
      },
      "source": [
        "# **Titanic: Data Science - Machine Learning**\n",
        "\n",
        "Provovido por [kaggle.com ](https://www.kaggle.com/) (uma das maiores e mais conhecidas plataformas para competições de Data Science) o *dataset* do Titanic é conhecido como um *Hello World* do o mundo da Ciência de Dados.\n",
        "\n",
        "![Titanic](Data-Science/img/titanic.jpg)\n",
        "\n",
        "# 1. Definição do Problema\n",
        "\n",
        "# 2. Obtenção dos Dados\n",
        "\n",
        "# 3. Exploração dos Dados\n",
        "\n",
        "# 4. Preparação dos Dados\n",
        "\n",
        "# 5. Construção do Modelo\n",
        "\n",
        "# 6. Avaliação"
      ]
    },
    {
      "cell_type": "code",
      "metadata": {
        "colab_type": "code",
        "id": "W7n6IjSWnSyO",
        "colab": {}
      },
      "source": [
        ""
      ],
      "execution_count": 0,
      "outputs": []
    }
  ]
}
