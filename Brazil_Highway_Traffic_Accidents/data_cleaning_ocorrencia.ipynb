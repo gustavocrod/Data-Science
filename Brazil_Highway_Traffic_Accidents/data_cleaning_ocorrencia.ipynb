{
 "cells": [
  {
   "cell_type": "markdown",
   "metadata": {},
   "source": [
    "# **0. Importação das Bibliotecas**"
   ]
  },
  {
   "cell_type": "code",
   "execution_count": 1,
   "metadata": {},
   "outputs": [],
   "source": [
    "import pandas as pd\n",
    "import numpy as np\n",
    "\n",
    "import matplotlib.pyplot as plt\n",
    "import seaborn as sns\n",
    "\n",
    "#plt.rc('figure', figsize=(5, 5))"
   ]
  },
  {
   "cell_type": "markdown",
   "metadata": {},
   "source": [
    "# **1.0 Análise exploratória**\n",
    "\n",
    "### **1.1 Carregamento dos Arquivos:**\n",
    "\n",
    "**OBS:** \n",
    "A partir do ano de 2017 até 2020 teve acréscimo de geolocalização das tabelas\n",
    "\n",
    "- **Base de dados por ocorrência:**"
   ]
  },
  {
   "cell_type": "code",
   "execution_count": 2,
   "metadata": {},
   "outputs": [],
   "source": [
    "cols = ['id','data_inversa','dia_semana','horario','uf','br','causa_acidente','tipo_acidente','fase_dia',\n",
    "          'condicao_metereologica','tracado_via','uso_solo','pessoas','mortos','feridos_leves',\n",
    "          'feridos_graves','ilesos','feridos','veiculos']\n",
    "\n",
    "\n",
    "df_ocorrencia_2007 = pd.read_csv('archive/por_ocorrencias/datatran2007.csv', sep=';', engine='python', encoding='latin-1', usecols=cols)\n",
    "df_ocorrencia_2008 = pd.read_csv('archive/por_ocorrencias/datatran2008.csv', sep=';', engine='python', encoding='latin-1', usecols=cols)\n",
    "df_ocorrencia_2009 = pd.read_csv('archive/por_ocorrencias/datatran2009.csv', sep=';', engine='python', encoding='latin-1', usecols=cols)\n",
    "df_ocorrencia_2010 = pd.read_csv('archive/por_ocorrencias/datatran2010.csv', sep=';', engine='python', encoding='latin-1', usecols=cols)\n",
    "df_ocorrencia_2011 = pd.read_csv('archive/por_ocorrencias/datatran2011.csv', sep=';', engine='python', encoding='latin-1', usecols=cols)\n",
    "df_ocorrencia_2012 = pd.read_csv('archive/por_ocorrencias/datatran2012.csv', sep=';', engine='python', encoding='latin-1', usecols=cols)\n",
    "df_ocorrencia_2013 = pd.read_csv('archive/por_ocorrencias/datatran2013.csv', sep=';', engine='python', encoding='latin-1', usecols=cols)\n",
    "df_ocorrencia_2014 = pd.read_csv('archive/por_ocorrencias/datatran2014.csv', sep=';', engine='python', encoding='latin-1', usecols=cols)\n",
    "df_ocorrencia_2015 = pd.read_csv('archive/por_ocorrencias/datatran2015.csv', sep=';', engine='python', encoding='latin-1', usecols=cols)\n",
    "df_ocorrencia_2016 = pd.read_csv('archive/por_ocorrencias/datatran2016.csv', sep=';', engine='python', encoding='latin-1', usecols=cols)\n",
    "df_ocorrencia_2017 = pd.read_csv('archive/por_ocorrencias/datatran2017.csv', sep=';', engine='python', encoding='latin-1', usecols=cols + ['latitude','longitude'])\n",
    "df_ocorrencia_2018 = pd.read_csv('archive/por_ocorrencias/datatran2018.csv', sep=';', engine='python', encoding='latin-1', usecols=cols + ['latitude','longitude'])\n",
    "df_ocorrencia_2019 = pd.read_csv('archive/por_ocorrencias/datatran2019.csv', sep=';', engine='python', encoding='latin-1', usecols=cols + ['latitude','longitude'])\n",
    "df_ocorrencia_2020 = pd.read_csv('archive/por_ocorrencias/datatran2020.csv', sep=';', engine='python', encoding='latin-1', usecols=cols + ['latitude','longitude'])"
   ]
  },
  {
   "cell_type": "markdown",
   "metadata": {},
   "source": [
    "- **Cabeçalho**\n",
    "\n",
    "Visualizar os 10 primeiros registros do conjunto de dados"
   ]
  },
  {
   "cell_type": "code",
   "execution_count": 3,
   "metadata": {},
   "outputs": [
    {
     "data": {
      "text/html": [
       "<div>\n",
       "<style scoped>\n",
       "    .dataframe tbody tr th:only-of-type {\n",
       "        vertical-align: middle;\n",
       "    }\n",
       "\n",
       "    .dataframe tbody tr th {\n",
       "        vertical-align: top;\n",
       "    }\n",
       "\n",
       "    .dataframe thead th {\n",
       "        text-align: right;\n",
       "    }\n",
       "</style>\n",
       "<table border=\"1\" class=\"dataframe\">\n",
       "  <thead>\n",
       "    <tr style=\"text-align: right;\">\n",
       "      <th></th>\n",
       "      <th>0</th>\n",
       "      <th>1</th>\n",
       "      <th>2</th>\n",
       "      <th>3</th>\n",
       "      <th>4</th>\n",
       "      <th>5</th>\n",
       "      <th>6</th>\n",
       "      <th>7</th>\n",
       "      <th>8</th>\n",
       "      <th>9</th>\n",
       "    </tr>\n",
       "  </thead>\n",
       "  <tbody>\n",
       "    <tr>\n",
       "      <th>id</th>\n",
       "      <td>10</td>\n",
       "      <td>10</td>\n",
       "      <td>1032898</td>\n",
       "      <td>1051130</td>\n",
       "      <td>1066824</td>\n",
       "      <td>1069918</td>\n",
       "      <td>1070971</td>\n",
       "      <td>1137914</td>\n",
       "      <td>1179288</td>\n",
       "      <td>1254853</td>\n",
       "    </tr>\n",
       "    <tr>\n",
       "      <th>data_inversa</th>\n",
       "      <td>11/06/2007</td>\n",
       "      <td>11/06/2007</td>\n",
       "      <td>13/08/2007</td>\n",
       "      <td>12/02/2007</td>\n",
       "      <td>20/11/2007</td>\n",
       "      <td>16/12/2007</td>\n",
       "      <td>05/03/2007</td>\n",
       "      <td>12/08/2007</td>\n",
       "      <td>04/02/2007</td>\n",
       "      <td>22/11/2007</td>\n",
       "    </tr>\n",
       "    <tr>\n",
       "      <th>dia_semana</th>\n",
       "      <td>Segunda</td>\n",
       "      <td>Segunda</td>\n",
       "      <td>Segunda</td>\n",
       "      <td>Segunda</td>\n",
       "      <td>Terça</td>\n",
       "      <td>Domingo</td>\n",
       "      <td>Segunda</td>\n",
       "      <td>Domingo</td>\n",
       "      <td>Domingo</td>\n",
       "      <td>Quinta</td>\n",
       "    </tr>\n",
       "    <tr>\n",
       "      <th>horario</th>\n",
       "      <td>15:30:00</td>\n",
       "      <td>15:30:00</td>\n",
       "      <td>14:25:00</td>\n",
       "      <td>02:10:00</td>\n",
       "      <td>05:30:00</td>\n",
       "      <td>17:40:00</td>\n",
       "      <td>08:10:00</td>\n",
       "      <td>22:30:00</td>\n",
       "      <td>20:30:00</td>\n",
       "      <td>21:10:00</td>\n",
       "    </tr>\n",
       "    <tr>\n",
       "      <th>uf</th>\n",
       "      <td>MG</td>\n",
       "      <td>MG</td>\n",
       "      <td>MG</td>\n",
       "      <td>MA</td>\n",
       "      <td>CE</td>\n",
       "      <td>MA</td>\n",
       "      <td>PR</td>\n",
       "      <td>ES</td>\n",
       "      <td>MG</td>\n",
       "      <td>MG</td>\n",
       "    </tr>\n",
       "    <tr>\n",
       "      <th>br</th>\n",
       "      <td>381</td>\n",
       "      <td>381</td>\n",
       "      <td>40</td>\n",
       "      <td>135</td>\n",
       "      <td>222</td>\n",
       "      <td>230</td>\n",
       "      <td>277</td>\n",
       "      <td>101</td>\n",
       "      <td>251</td>\n",
       "      <td>40</td>\n",
       "    </tr>\n",
       "    <tr>\n",
       "      <th>causa_acidente</th>\n",
       "      <td>Falta de atenção</td>\n",
       "      <td>Falta de atenção</td>\n",
       "      <td>Outras</td>\n",
       "      <td>Animais na Pista</td>\n",
       "      <td>Defeito mecânico em veículo</td>\n",
       "      <td>Outras</td>\n",
       "      <td>Outras</td>\n",
       "      <td>Outras</td>\n",
       "      <td>Outras</td>\n",
       "      <td>Outras</td>\n",
       "    </tr>\n",
       "    <tr>\n",
       "      <th>tipo_acidente</th>\n",
       "      <td>Colisão frontal</td>\n",
       "      <td>Colisão frontal</td>\n",
       "      <td>Saída de Pista</td>\n",
       "      <td>Atropelamento de animal</td>\n",
       "      <td>Capotamento</td>\n",
       "      <td>Capotamento</td>\n",
       "      <td>Colisão lateral</td>\n",
       "      <td>Atropelamento de pessoa</td>\n",
       "      <td>Saída de Pista</td>\n",
       "      <td>Saída de Pista</td>\n",
       "    </tr>\n",
       "    <tr>\n",
       "      <th>fase_dia</th>\n",
       "      <td>Pleno dia</td>\n",
       "      <td>Pleno dia</td>\n",
       "      <td>Pleno dia</td>\n",
       "      <td>Plena noite</td>\n",
       "      <td>Amanhecer</td>\n",
       "      <td>Anoitecer</td>\n",
       "      <td>Pleno dia</td>\n",
       "      <td>Plena noite</td>\n",
       "      <td>Plena noite</td>\n",
       "      <td>Plena noite</td>\n",
       "    </tr>\n",
       "    <tr>\n",
       "      <th>condicao_metereologica</th>\n",
       "      <td>Ceu Claro</td>\n",
       "      <td>Chuva</td>\n",
       "      <td>Ceu Claro</td>\n",
       "      <td>Ceu Claro</td>\n",
       "      <td>Ceu Claro</td>\n",
       "      <td>Chuva</td>\n",
       "      <td>Ceu Claro</td>\n",
       "      <td>Ceu Claro</td>\n",
       "      <td>Chuva</td>\n",
       "      <td>Nublado</td>\n",
       "    </tr>\n",
       "    <tr>\n",
       "      <th>tracado_via</th>\n",
       "      <td>Reta</td>\n",
       "      <td>Reta</td>\n",
       "      <td>Reta</td>\n",
       "      <td>Reta</td>\n",
       "      <td>Reta</td>\n",
       "      <td>Curva</td>\n",
       "      <td>Curva</td>\n",
       "      <td>Reta</td>\n",
       "      <td>Curva</td>\n",
       "      <td>Reta</td>\n",
       "    </tr>\n",
       "    <tr>\n",
       "      <th>uso_solo</th>\n",
       "      <td>Rural</td>\n",
       "      <td>Rural</td>\n",
       "      <td>Rural</td>\n",
       "      <td>Urbano</td>\n",
       "      <td>Rural</td>\n",
       "      <td>Rural</td>\n",
       "      <td>Urbano</td>\n",
       "      <td>Urbano</td>\n",
       "      <td>Rural</td>\n",
       "      <td>Urbano</td>\n",
       "    </tr>\n",
       "    <tr>\n",
       "      <th>pessoas</th>\n",
       "      <td>9</td>\n",
       "      <td>9</td>\n",
       "      <td>3</td>\n",
       "      <td>5</td>\n",
       "      <td>1</td>\n",
       "      <td>1</td>\n",
       "      <td>2</td>\n",
       "      <td>2</td>\n",
       "      <td>3</td>\n",
       "      <td>3</td>\n",
       "    </tr>\n",
       "    <tr>\n",
       "      <th>mortos</th>\n",
       "      <td>0</td>\n",
       "      <td>0</td>\n",
       "      <td>0</td>\n",
       "      <td>2</td>\n",
       "      <td>0</td>\n",
       "      <td>0</td>\n",
       "      <td>0</td>\n",
       "      <td>0</td>\n",
       "      <td>0</td>\n",
       "      <td>0</td>\n",
       "    </tr>\n",
       "    <tr>\n",
       "      <th>feridos_leves</th>\n",
       "      <td>4</td>\n",
       "      <td>4</td>\n",
       "      <td>0</td>\n",
       "      <td>2</td>\n",
       "      <td>1</td>\n",
       "      <td>0</td>\n",
       "      <td>0</td>\n",
       "      <td>0</td>\n",
       "      <td>2</td>\n",
       "      <td>3</td>\n",
       "    </tr>\n",
       "    <tr>\n",
       "      <th>feridos_graves</th>\n",
       "      <td>0</td>\n",
       "      <td>0</td>\n",
       "      <td>1</td>\n",
       "      <td>1</td>\n",
       "      <td>0</td>\n",
       "      <td>1</td>\n",
       "      <td>0</td>\n",
       "      <td>1</td>\n",
       "      <td>0</td>\n",
       "      <td>0</td>\n",
       "    </tr>\n",
       "    <tr>\n",
       "      <th>ilesos</th>\n",
       "      <td>5</td>\n",
       "      <td>5</td>\n",
       "      <td>2</td>\n",
       "      <td>0</td>\n",
       "      <td>0</td>\n",
       "      <td>0</td>\n",
       "      <td>2</td>\n",
       "      <td>1</td>\n",
       "      <td>1</td>\n",
       "      <td>0</td>\n",
       "    </tr>\n",
       "    <tr>\n",
       "      <th>feridos</th>\n",
       "      <td>4</td>\n",
       "      <td>4</td>\n",
       "      <td>1</td>\n",
       "      <td>3</td>\n",
       "      <td>1</td>\n",
       "      <td>1</td>\n",
       "      <td>0</td>\n",
       "      <td>1</td>\n",
       "      <td>2</td>\n",
       "      <td>3</td>\n",
       "    </tr>\n",
       "    <tr>\n",
       "      <th>veiculos</th>\n",
       "      <td>6</td>\n",
       "      <td>6</td>\n",
       "      <td>1</td>\n",
       "      <td>1</td>\n",
       "      <td>1</td>\n",
       "      <td>1</td>\n",
       "      <td>2</td>\n",
       "      <td>1</td>\n",
       "      <td>1</td>\n",
       "      <td>1</td>\n",
       "    </tr>\n",
       "  </tbody>\n",
       "</table>\n",
       "</div>"
      ],
      "text/plain": [
       "                                       0                 1               2  \\\n",
       "id                                    10                10         1032898   \n",
       "data_inversa                  11/06/2007        11/06/2007      13/08/2007   \n",
       "dia_semana                       Segunda           Segunda         Segunda   \n",
       "horario                         15:30:00          15:30:00        14:25:00   \n",
       "uf                                    MG                MG              MG   \n",
       "br                                   381               381              40   \n",
       "causa_acidente          Falta de atenção  Falta de atenção          Outras   \n",
       "tipo_acidente            Colisão frontal   Colisão frontal  Saída de Pista   \n",
       "fase_dia                       Pleno dia         Pleno dia       Pleno dia   \n",
       "condicao_metereologica         Ceu Claro             Chuva       Ceu Claro   \n",
       "tracado_via                         Reta              Reta            Reta   \n",
       "uso_solo                           Rural             Rural           Rural   \n",
       "pessoas                                9                 9               3   \n",
       "mortos                                 0                 0               0   \n",
       "feridos_leves                          4                 4               0   \n",
       "feridos_graves                         0                 0               1   \n",
       "ilesos                                 5                 5               2   \n",
       "feridos                                4                 4               1   \n",
       "veiculos                               6                 6               1   \n",
       "\n",
       "                                              3                            4  \\\n",
       "id                                      1051130                      1066824   \n",
       "data_inversa                         12/02/2007                   20/11/2007   \n",
       "dia_semana                              Segunda                        Terça   \n",
       "horario                                02:10:00                     05:30:00   \n",
       "uf                                           MA                           CE   \n",
       "br                                          135                          222   \n",
       "causa_acidente                 Animais na Pista  Defeito mecânico em veículo   \n",
       "tipo_acidente           Atropelamento de animal                  Capotamento   \n",
       "fase_dia                            Plena noite                    Amanhecer   \n",
       "condicao_metereologica                Ceu Claro                    Ceu Claro   \n",
       "tracado_via                                Reta                         Reta   \n",
       "uso_solo                                 Urbano                        Rural   \n",
       "pessoas                                       5                            1   \n",
       "mortos                                        2                            0   \n",
       "feridos_leves                                 2                            1   \n",
       "feridos_graves                                1                            0   \n",
       "ilesos                                        0                            0   \n",
       "feridos                                       3                            1   \n",
       "veiculos                                      1                            1   \n",
       "\n",
       "                                  5                6                        7  \\\n",
       "id                          1069918          1070971                  1137914   \n",
       "data_inversa             16/12/2007       05/03/2007               12/08/2007   \n",
       "dia_semana                  Domingo          Segunda                  Domingo   \n",
       "horario                    17:40:00         08:10:00                 22:30:00   \n",
       "uf                               MA               PR                       ES   \n",
       "br                              230              277                      101   \n",
       "causa_acidente               Outras           Outras                   Outras   \n",
       "tipo_acidente           Capotamento  Colisão lateral  Atropelamento de pessoa   \n",
       "fase_dia                  Anoitecer        Pleno dia              Plena noite   \n",
       "condicao_metereologica        Chuva        Ceu Claro                Ceu Claro   \n",
       "tracado_via                   Curva            Curva                     Reta   \n",
       "uso_solo                      Rural           Urbano                   Urbano   \n",
       "pessoas                           1                2                        2   \n",
       "mortos                            0                0                        0   \n",
       "feridos_leves                     0                0                        0   \n",
       "feridos_graves                    1                0                        1   \n",
       "ilesos                            0                2                        1   \n",
       "feridos                           1                0                        1   \n",
       "veiculos                          1                2                        1   \n",
       "\n",
       "                                     8               9  \n",
       "id                             1179288         1254853  \n",
       "data_inversa                04/02/2007      22/11/2007  \n",
       "dia_semana                     Domingo          Quinta  \n",
       "horario                       20:30:00        21:10:00  \n",
       "uf                                  MG              MG  \n",
       "br                                 251              40  \n",
       "causa_acidente                  Outras          Outras  \n",
       "tipo_acidente           Saída de Pista  Saída de Pista  \n",
       "fase_dia                   Plena noite     Plena noite  \n",
       "condicao_metereologica           Chuva         Nublado  \n",
       "tracado_via                      Curva            Reta  \n",
       "uso_solo                         Rural          Urbano  \n",
       "pessoas                              3               3  \n",
       "mortos                               0               0  \n",
       "feridos_leves                        2               3  \n",
       "feridos_graves                       0               0  \n",
       "ilesos                               1               0  \n",
       "feridos                              2               3  \n",
       "veiculos                             1               1  "
      ]
     },
     "execution_count": 3,
     "metadata": {},
     "output_type": "execute_result"
    }
   ],
   "source": [
    "df_ocorrencia_2007.head(10).T"
   ]
  },
  {
   "cell_type": "code",
   "execution_count": 4,
   "metadata": {},
   "outputs": [
    {
     "data": {
      "text/html": [
       "<div>\n",
       "<style scoped>\n",
       "    .dataframe tbody tr th:only-of-type {\n",
       "        vertical-align: middle;\n",
       "    }\n",
       "\n",
       "    .dataframe tbody tr th {\n",
       "        vertical-align: top;\n",
       "    }\n",
       "\n",
       "    .dataframe thead th {\n",
       "        text-align: right;\n",
       "    }\n",
       "</style>\n",
       "<table border=\"1\" class=\"dataframe\">\n",
       "  <thead>\n",
       "    <tr style=\"text-align: right;\">\n",
       "      <th></th>\n",
       "      <th>0</th>\n",
       "      <th>1</th>\n",
       "      <th>2</th>\n",
       "      <th>3</th>\n",
       "      <th>4</th>\n",
       "      <th>5</th>\n",
       "      <th>6</th>\n",
       "      <th>7</th>\n",
       "      <th>8</th>\n",
       "      <th>9</th>\n",
       "    </tr>\n",
       "  </thead>\n",
       "  <tbody>\n",
       "    <tr>\n",
       "      <th>id</th>\n",
       "      <td>8</td>\n",
       "      <td>9</td>\n",
       "      <td>11</td>\n",
       "      <td>12</td>\n",
       "      <td>13</td>\n",
       "      <td>14</td>\n",
       "      <td>15</td>\n",
       "      <td>16</td>\n",
       "      <td>17</td>\n",
       "      <td>18</td>\n",
       "    </tr>\n",
       "    <tr>\n",
       "      <th>data_inversa</th>\n",
       "      <td>2017-01-01</td>\n",
       "      <td>2017-01-01</td>\n",
       "      <td>2017-01-01</td>\n",
       "      <td>2017-01-01</td>\n",
       "      <td>2017-01-01</td>\n",
       "      <td>2017-01-01</td>\n",
       "      <td>2017-01-01</td>\n",
       "      <td>2017-01-01</td>\n",
       "      <td>2017-01-01</td>\n",
       "      <td>2017-01-01</td>\n",
       "    </tr>\n",
       "    <tr>\n",
       "      <th>dia_semana</th>\n",
       "      <td>domingo</td>\n",
       "      <td>domingo</td>\n",
       "      <td>domingo</td>\n",
       "      <td>domingo</td>\n",
       "      <td>domingo</td>\n",
       "      <td>domingo</td>\n",
       "      <td>domingo</td>\n",
       "      <td>domingo</td>\n",
       "      <td>domingo</td>\n",
       "      <td>domingo</td>\n",
       "    </tr>\n",
       "    <tr>\n",
       "      <th>horario</th>\n",
       "      <td>00:00:00</td>\n",
       "      <td>00:01:00</td>\n",
       "      <td>00:00:00</td>\n",
       "      <td>00:00:00</td>\n",
       "      <td>00:00:00</td>\n",
       "      <td>00:40:00</td>\n",
       "      <td>00:01:00</td>\n",
       "      <td>00:30:00</td>\n",
       "      <td>01:45:00</td>\n",
       "      <td>01:40:00</td>\n",
       "    </tr>\n",
       "    <tr>\n",
       "      <th>uf</th>\n",
       "      <td>PR</td>\n",
       "      <td>SC</td>\n",
       "      <td>PR</td>\n",
       "      <td>GO</td>\n",
       "      <td>SC</td>\n",
       "      <td>GO</td>\n",
       "      <td>PB</td>\n",
       "      <td>TO</td>\n",
       "      <td>RS</td>\n",
       "      <td>RS</td>\n",
       "    </tr>\n",
       "    <tr>\n",
       "      <th>br</th>\n",
       "      <td>376</td>\n",
       "      <td>101</td>\n",
       "      <td>153</td>\n",
       "      <td>153</td>\n",
       "      <td>280</td>\n",
       "      <td>60</td>\n",
       "      <td>104</td>\n",
       "      <td>153</td>\n",
       "      <td>116</td>\n",
       "      <td>290</td>\n",
       "    </tr>\n",
       "    <tr>\n",
       "      <th>causa_acidente</th>\n",
       "      <td>Fenômenos da Natureza</td>\n",
       "      <td>Falta de Atenção à Condução</td>\n",
       "      <td>Animais na Pista</td>\n",
       "      <td>Avarias e/ou desgaste excessivo no pneu</td>\n",
       "      <td>Ingestão de Álcool</td>\n",
       "      <td>Falta de Atenção à Condução</td>\n",
       "      <td>Ingestão de Álcool</td>\n",
       "      <td>Ingestão de Álcool</td>\n",
       "      <td>Defeito Mecânico no Veículo</td>\n",
       "      <td>Animais na Pista</td>\n",
       "    </tr>\n",
       "    <tr>\n",
       "      <th>tipo_acidente</th>\n",
       "      <td>Queda de ocupante de veículo</td>\n",
       "      <td>Colisão com objeto estático</td>\n",
       "      <td>Capotamento</td>\n",
       "      <td>Tombamento</td>\n",
       "      <td>Saída de leito carroçável</td>\n",
       "      <td>Colisão traseira</td>\n",
       "      <td>Tombamento</td>\n",
       "      <td>Colisão traseira</td>\n",
       "      <td>Colisão traseira</td>\n",
       "      <td>Atropelamento de Animal</td>\n",
       "    </tr>\n",
       "    <tr>\n",
       "      <th>fase_dia</th>\n",
       "      <td>Plena Noite</td>\n",
       "      <td>Plena Noite</td>\n",
       "      <td>Plena Noite</td>\n",
       "      <td>Plena Noite</td>\n",
       "      <td>Plena Noite</td>\n",
       "      <td>Plena Noite</td>\n",
       "      <td>Plena Noite</td>\n",
       "      <td>Plena Noite</td>\n",
       "      <td>Plena Noite</td>\n",
       "      <td>Plena Noite</td>\n",
       "    </tr>\n",
       "    <tr>\n",
       "      <th>condicao_metereologica</th>\n",
       "      <td>Chuva</td>\n",
       "      <td>Chuva</td>\n",
       "      <td>Garoa/Chuvisco</td>\n",
       "      <td>Céu Claro</td>\n",
       "      <td>Chuva</td>\n",
       "      <td>Nublado</td>\n",
       "      <td>Céu Claro</td>\n",
       "      <td>Ignorado</td>\n",
       "      <td>Céu Claro</td>\n",
       "      <td>Céu Claro</td>\n",
       "    </tr>\n",
       "    <tr>\n",
       "      <th>tracado_via</th>\n",
       "      <td>Reta</td>\n",
       "      <td>Curva</td>\n",
       "      <td>Reta</td>\n",
       "      <td>Reta</td>\n",
       "      <td>Não Informado</td>\n",
       "      <td>Reta</td>\n",
       "      <td>Curva</td>\n",
       "      <td>Reta</td>\n",
       "      <td>Reta</td>\n",
       "      <td>Reta</td>\n",
       "    </tr>\n",
       "    <tr>\n",
       "      <th>uso_solo</th>\n",
       "      <td>Não</td>\n",
       "      <td>Não</td>\n",
       "      <td>Não</td>\n",
       "      <td>Sim</td>\n",
       "      <td>Não</td>\n",
       "      <td>Sim</td>\n",
       "      <td>Sim</td>\n",
       "      <td>Sim</td>\n",
       "      <td>Não</td>\n",
       "      <td>Sim</td>\n",
       "    </tr>\n",
       "    <tr>\n",
       "      <th>pessoas</th>\n",
       "      <td>1</td>\n",
       "      <td>1</td>\n",
       "      <td>2</td>\n",
       "      <td>1</td>\n",
       "      <td>1</td>\n",
       "      <td>2</td>\n",
       "      <td>1</td>\n",
       "      <td>4</td>\n",
       "      <td>6</td>\n",
       "      <td>2</td>\n",
       "    </tr>\n",
       "    <tr>\n",
       "      <th>mortos</th>\n",
       "      <td>0</td>\n",
       "      <td>0</td>\n",
       "      <td>0</td>\n",
       "      <td>0</td>\n",
       "      <td>0</td>\n",
       "      <td>0</td>\n",
       "      <td>1</td>\n",
       "      <td>0</td>\n",
       "      <td>0</td>\n",
       "      <td>0</td>\n",
       "    </tr>\n",
       "    <tr>\n",
       "      <th>feridos_leves</th>\n",
       "      <td>0</td>\n",
       "      <td>0</td>\n",
       "      <td>2</td>\n",
       "      <td>0</td>\n",
       "      <td>1</td>\n",
       "      <td>1</td>\n",
       "      <td>0</td>\n",
       "      <td>2</td>\n",
       "      <td>4</td>\n",
       "      <td>2</td>\n",
       "    </tr>\n",
       "    <tr>\n",
       "      <th>feridos_graves</th>\n",
       "      <td>1</td>\n",
       "      <td>0</td>\n",
       "      <td>0</td>\n",
       "      <td>1</td>\n",
       "      <td>0</td>\n",
       "      <td>0</td>\n",
       "      <td>0</td>\n",
       "      <td>0</td>\n",
       "      <td>0</td>\n",
       "      <td>0</td>\n",
       "    </tr>\n",
       "    <tr>\n",
       "      <th>ilesos</th>\n",
       "      <td>0</td>\n",
       "      <td>1</td>\n",
       "      <td>0</td>\n",
       "      <td>0</td>\n",
       "      <td>0</td>\n",
       "      <td>1</td>\n",
       "      <td>0</td>\n",
       "      <td>1</td>\n",
       "      <td>2</td>\n",
       "      <td>0</td>\n",
       "    </tr>\n",
       "    <tr>\n",
       "      <th>feridos</th>\n",
       "      <td>1</td>\n",
       "      <td>0</td>\n",
       "      <td>2</td>\n",
       "      <td>1</td>\n",
       "      <td>1</td>\n",
       "      <td>1</td>\n",
       "      <td>0</td>\n",
       "      <td>2</td>\n",
       "      <td>4</td>\n",
       "      <td>2</td>\n",
       "    </tr>\n",
       "    <tr>\n",
       "      <th>veiculos</th>\n",
       "      <td>1</td>\n",
       "      <td>1</td>\n",
       "      <td>1</td>\n",
       "      <td>1</td>\n",
       "      <td>1</td>\n",
       "      <td>2</td>\n",
       "      <td>1</td>\n",
       "      <td>2</td>\n",
       "      <td>2</td>\n",
       "      <td>1</td>\n",
       "    </tr>\n",
       "    <tr>\n",
       "      <th>latitude</th>\n",
       "      <td>-23,09880731</td>\n",
       "      <td>-27,8101</td>\n",
       "      <td>-23,36951985</td>\n",
       "      <td>-16,27473677</td>\n",
       "      <td>-26,44675249</td>\n",
       "      <td>-16,82489647</td>\n",
       "      <td>-6,4622</td>\n",
       "      <td>-7,18668515</td>\n",
       "      <td>-28,5071196</td>\n",
       "      <td>-29,75605083</td>\n",
       "    </tr>\n",
       "    <tr>\n",
       "      <th>longitude</th>\n",
       "      <td>-52,38789369</td>\n",
       "      <td>-48,6357</td>\n",
       "      <td>309,93513107</td>\n",
       "      <td>-48,96908998</td>\n",
       "      <td>-49,20166969</td>\n",
       "      <td>-49,53520775</td>\n",
       "      <td>-36,1899</td>\n",
       "      <td>-48,22970957</td>\n",
       "      <td>-50,941176</td>\n",
       "      <td>-57,06461906</td>\n",
       "    </tr>\n",
       "  </tbody>\n",
       "</table>\n",
       "</div>"
      ],
      "text/plain": [
       "                                                   0  \\\n",
       "id                                                 8   \n",
       "data_inversa                              2017-01-01   \n",
       "dia_semana                                   domingo   \n",
       "horario                                     00:00:00   \n",
       "uf                                                PR   \n",
       "br                                               376   \n",
       "causa_acidente                 Fenômenos da Natureza   \n",
       "tipo_acidente           Queda de ocupante de veículo   \n",
       "fase_dia                                 Plena Noite   \n",
       "condicao_metereologica                         Chuva   \n",
       "tracado_via                                     Reta   \n",
       "uso_solo                                         Não   \n",
       "pessoas                                            1   \n",
       "mortos                                             0   \n",
       "feridos_leves                                      0   \n",
       "feridos_graves                                     1   \n",
       "ilesos                                             0   \n",
       "feridos                                            1   \n",
       "veiculos                                           1   \n",
       "latitude                                -23,09880731   \n",
       "longitude                               -52,38789369   \n",
       "\n",
       "                                                  1                 2  \\\n",
       "id                                                9                11   \n",
       "data_inversa                             2017-01-01        2017-01-01   \n",
       "dia_semana                                  domingo           domingo   \n",
       "horario                                    00:01:00          00:00:00   \n",
       "uf                                               SC                PR   \n",
       "br                                              101               153   \n",
       "causa_acidente          Falta de Atenção à Condução  Animais na Pista   \n",
       "tipo_acidente           Colisão com objeto estático       Capotamento   \n",
       "fase_dia                                Plena Noite       Plena Noite   \n",
       "condicao_metereologica                        Chuva    Garoa/Chuvisco   \n",
       "tracado_via                                   Curva              Reta   \n",
       "uso_solo                                        Não               Não   \n",
       "pessoas                                           1                 2   \n",
       "mortos                                            0                 0   \n",
       "feridos_leves                                     0                 2   \n",
       "feridos_graves                                    0                 0   \n",
       "ilesos                                            1                 0   \n",
       "feridos                                           0                 2   \n",
       "veiculos                                          1                 1   \n",
       "latitude                                   -27,8101      -23,36951985   \n",
       "longitude                                  -48,6357      309,93513107   \n",
       "\n",
       "                                                              3  \\\n",
       "id                                                           12   \n",
       "data_inversa                                         2017-01-01   \n",
       "dia_semana                                              domingo   \n",
       "horario                                                00:00:00   \n",
       "uf                                                           GO   \n",
       "br                                                          153   \n",
       "causa_acidente          Avarias e/ou desgaste excessivo no pneu   \n",
       "tipo_acidente                                        Tombamento   \n",
       "fase_dia                                            Plena Noite   \n",
       "condicao_metereologica                                Céu Claro   \n",
       "tracado_via                                                Reta   \n",
       "uso_solo                                                    Sim   \n",
       "pessoas                                                       1   \n",
       "mortos                                                        0   \n",
       "feridos_leves                                                 0   \n",
       "feridos_graves                                                1   \n",
       "ilesos                                                        0   \n",
       "feridos                                                       1   \n",
       "veiculos                                                      1   \n",
       "latitude                                           -16,27473677   \n",
       "longitude                                          -48,96908998   \n",
       "\n",
       "                                                4  \\\n",
       "id                                             13   \n",
       "data_inversa                           2017-01-01   \n",
       "dia_semana                                domingo   \n",
       "horario                                  00:00:00   \n",
       "uf                                             SC   \n",
       "br                                            280   \n",
       "causa_acidente                 Ingestão de Álcool   \n",
       "tipo_acidente           Saída de leito carroçável   \n",
       "fase_dia                              Plena Noite   \n",
       "condicao_metereologica                      Chuva   \n",
       "tracado_via                         Não Informado   \n",
       "uso_solo                                      Não   \n",
       "pessoas                                         1   \n",
       "mortos                                          0   \n",
       "feridos_leves                                   1   \n",
       "feridos_graves                                  0   \n",
       "ilesos                                          0   \n",
       "feridos                                         1   \n",
       "veiculos                                        1   \n",
       "latitude                             -26,44675249   \n",
       "longitude                            -49,20166969   \n",
       "\n",
       "                                                  5                   6  \\\n",
       "id                                               14                  15   \n",
       "data_inversa                             2017-01-01          2017-01-01   \n",
       "dia_semana                                  domingo             domingo   \n",
       "horario                                    00:40:00            00:01:00   \n",
       "uf                                               GO                  PB   \n",
       "br                                               60                 104   \n",
       "causa_acidente          Falta de Atenção à Condução  Ingestão de Álcool   \n",
       "tipo_acidente                      Colisão traseira          Tombamento   \n",
       "fase_dia                                Plena Noite         Plena Noite   \n",
       "condicao_metereologica                      Nublado           Céu Claro   \n",
       "tracado_via                                    Reta               Curva   \n",
       "uso_solo                                        Sim                 Sim   \n",
       "pessoas                                           2                   1   \n",
       "mortos                                            0                   1   \n",
       "feridos_leves                                     1                   0   \n",
       "feridos_graves                                    0                   0   \n",
       "ilesos                                            1                   0   \n",
       "feridos                                           1                   0   \n",
       "veiculos                                          2                   1   \n",
       "latitude                               -16,82489647             -6,4622   \n",
       "longitude                              -49,53520775            -36,1899   \n",
       "\n",
       "                                         7                            8  \\\n",
       "id                                      16                           17   \n",
       "data_inversa                    2017-01-01                   2017-01-01   \n",
       "dia_semana                         domingo                      domingo   \n",
       "horario                           00:30:00                     01:45:00   \n",
       "uf                                      TO                           RS   \n",
       "br                                     153                          116   \n",
       "causa_acidente          Ingestão de Álcool  Defeito Mecânico no Veículo   \n",
       "tipo_acidente             Colisão traseira             Colisão traseira   \n",
       "fase_dia                       Plena Noite                  Plena Noite   \n",
       "condicao_metereologica            Ignorado                    Céu Claro   \n",
       "tracado_via                           Reta                         Reta   \n",
       "uso_solo                               Sim                          Não   \n",
       "pessoas                                  4                            6   \n",
       "mortos                                   0                            0   \n",
       "feridos_leves                            2                            4   \n",
       "feridos_graves                           0                            0   \n",
       "ilesos                                   1                            2   \n",
       "feridos                                  2                            4   \n",
       "veiculos                                 2                            2   \n",
       "latitude                       -7,18668515                  -28,5071196   \n",
       "longitude                     -48,22970957                   -50,941176   \n",
       "\n",
       "                                              9  \n",
       "id                                           18  \n",
       "data_inversa                         2017-01-01  \n",
       "dia_semana                              domingo  \n",
       "horario                                01:40:00  \n",
       "uf                                           RS  \n",
       "br                                          290  \n",
       "causa_acidente                 Animais na Pista  \n",
       "tipo_acidente           Atropelamento de Animal  \n",
       "fase_dia                            Plena Noite  \n",
       "condicao_metereologica                Céu Claro  \n",
       "tracado_via                                Reta  \n",
       "uso_solo                                    Sim  \n",
       "pessoas                                       2  \n",
       "mortos                                        0  \n",
       "feridos_leves                                 2  \n",
       "feridos_graves                                0  \n",
       "ilesos                                        0  \n",
       "feridos                                       2  \n",
       "veiculos                                      1  \n",
       "latitude                           -29,75605083  \n",
       "longitude                          -57,06461906  "
      ]
     },
     "execution_count": 4,
     "metadata": {},
     "output_type": "execute_result"
    }
   ],
   "source": [
    "df_ocorrencia_2017.head(10).T"
   ]
  },
  {
   "cell_type": "markdown",
   "metadata": {},
   "source": [
    "- **Adicionar coluna ```ano``` em todos os dataframes:**"
   ]
  },
  {
   "cell_type": "code",
   "execution_count": 5,
   "metadata": {},
   "outputs": [],
   "source": [
    "df_ocorrencia_2007['ano'] = 2007\n",
    "df_ocorrencia_2008['ano'] = 2008\n",
    "df_ocorrencia_2009['ano'] = 2009\n",
    "df_ocorrencia_2010['ano'] = 2010\n",
    "df_ocorrencia_2011['ano'] = 2011\n",
    "df_ocorrencia_2012['ano'] = 2012\n",
    "df_ocorrencia_2013['ano'] = 2013\n",
    "df_ocorrencia_2014['ano'] = 2014\n",
    "df_ocorrencia_2015['ano'] = 2015\n",
    "df_ocorrencia_2016['ano'] = 2016\n",
    "df_ocorrencia_2017['ano'] = 2017\n",
    "df_ocorrencia_2018['ano'] = 2018\n",
    "df_ocorrencia_2019['ano'] = 2019\n",
    "df_ocorrencia_2020['ano'] = 2020"
   ]
  },
  {
   "cell_type": "markdown",
   "metadata": {},
   "source": [
    "- **Concatenar todos os DataFrames**"
   ]
  },
  {
   "cell_type": "code",
   "execution_count": 6,
   "metadata": {},
   "outputs": [],
   "source": [
    "df = pd.concat([df_ocorrencia_2007,df_ocorrencia_2008,df_ocorrencia_2009,df_ocorrencia_2010,\n",
    "                                 df_ocorrencia_2011,df_ocorrencia_2012,df_ocorrencia_2013,df_ocorrencia_2014,\n",
    "                                 df_ocorrencia_2015,df_ocorrencia_2016,df_ocorrencia_2017,df_ocorrencia_2018,\n",
    "                                 df_ocorrencia_2019,df_ocorrencia_2020], sort = False)"
   ]
  },
  {
   "cell_type": "markdown",
   "metadata": {},
   "source": [
    "- **Filtragem pelo escopo do Rio Grande do Sul, uf(RS)**"
   ]
  },
  {
   "cell_type": "code",
   "execution_count": 7,
   "metadata": {},
   "outputs": [],
   "source": [
    "df= df[df['uf'] == 'RS']"
   ]
  },
  {
   "cell_type": "markdown",
   "metadata": {},
   "source": [
    "### **1.2 Descrição dos dados:**\n",
    "\n",
    "Visualizar as colunas e os respectivos tipos de dados que elas estão classificadas"
   ]
  },
  {
   "cell_type": "code",
   "execution_count": 8,
   "metadata": {},
   "outputs": [
    {
     "name": "stdout",
     "output_type": "stream",
     "text": [
      "<class 'pandas.core.frame.DataFrame'>\n",
      "Int64Index: 143098 entries, 13 to 45243\n",
      "Data columns (total 22 columns):\n",
      " #   Column                  Non-Null Count   Dtype  \n",
      "---  ------                  --------------   -----  \n",
      " 0   id                      143098 non-null  float64\n",
      " 1   data_inversa            143098 non-null  object \n",
      " 2   dia_semana              143098 non-null  object \n",
      " 3   horario                 143098 non-null  object \n",
      " 4   uf                      143098 non-null  object \n",
      " 5   br                      143045 non-null  object \n",
      " 6   causa_acidente          143098 non-null  object \n",
      " 7   tipo_acidente           143098 non-null  object \n",
      " 8   fase_dia                143098 non-null  object \n",
      " 9   condicao_metereologica  143098 non-null  object \n",
      " 10  tracado_via             143098 non-null  object \n",
      " 11  uso_solo                143098 non-null  object \n",
      " 12  pessoas                 143098 non-null  int64  \n",
      " 13  mortos                  143098 non-null  int64  \n",
      " 14  feridos_leves           143098 non-null  int64  \n",
      " 15  feridos_graves          143098 non-null  int64  \n",
      " 16  ilesos                  143098 non-null  int64  \n",
      " 17  feridos                 143098 non-null  int64  \n",
      " 18  veiculos                143098 non-null  int64  \n",
      " 19  ano                     143098 non-null  int64  \n",
      " 20  latitude                18444 non-null   object \n",
      " 21  longitude               18444 non-null   object \n",
      "dtypes: float64(1), int64(8), object(13)\n",
      "memory usage: 25.1+ MB\n"
     ]
    }
   ],
   "source": [
    "df.info()"
   ]
  },
  {
   "cell_type": "markdown",
   "metadata": {},
   "source": [
    "**Alguns pontos observaveis:**\n",
    "\n",
    "- data inversa deveria ser `date`\n",
    "\n",
    "- Latitude e Longitude deveriam ser `float` e estão como object (string)\n",
    "\n",
    "- Horario deveria ser `time`"
   ]
  },
  {
   "cell_type": "markdown",
   "metadata": {},
   "source": [
    "- **Quantidade de linhas e colunas**"
   ]
  },
  {
   "cell_type": "code",
   "execution_count": 9,
   "metadata": {},
   "outputs": [
    {
     "name": "stdout",
     "output_type": "stream",
     "text": [
      "143098 linhas e 22 colunas.\n"
     ]
    }
   ],
   "source": [
    "print(f\"{df.shape[0]} linhas e {df.shape[1]} colunas.\")"
   ]
  },
  {
   "cell_type": "markdown",
   "metadata": {},
   "source": [
    "#### **1.2.1 breve limpeza dos dados**"
   ]
  },
  {
   "cell_type": "markdown",
   "metadata": {},
   "source": [
    "- **Eliminar linhas duplicadas do dataframe:**"
   ]
  },
  {
   "cell_type": "code",
   "execution_count": 10,
   "metadata": {},
   "outputs": [],
   "source": [
    "df.drop_duplicates(subset='id', keep= 'first', inplace=True)"
   ]
  },
  {
   "cell_type": "code",
   "execution_count": 11,
   "metadata": {},
   "outputs": [
    {
     "name": "stdout",
     "output_type": "stream",
     "text": [
      "Após a remoção dos registros duplicados: 142496 linhas e 22 colunas.\n"
     ]
    }
   ],
   "source": [
    "print(f\"Após a remoção dos registros duplicados: {df.shape[0]} linhas e {df.shape[1]} colunas.\")"
   ]
  },
  {
   "cell_type": "markdown",
   "metadata": {},
   "source": [
    "- **_missing_ values**"
   ]
  },
  {
   "cell_type": "code",
   "execution_count": 12,
   "metadata": {},
   "outputs": [
    {
     "data": {
      "text/plain": [
       "id                        0.000000\n",
       "ano                       0.000000\n",
       "veiculos                  0.000000\n",
       "feridos                   0.000000\n",
       "ilesos                    0.000000\n",
       "feridos_graves            0.000000\n",
       "feridos_leves             0.000000\n",
       "mortos                    0.000000\n",
       "pessoas                   0.000000\n",
       "uso_solo                  0.000000\n",
       "tracado_via               0.000000\n",
       "condicao_metereologica    0.000000\n",
       "fase_dia                  0.000000\n",
       "tipo_acidente             0.000000\n",
       "causa_acidente            0.000000\n",
       "uf                        0.000000\n",
       "horario                   0.000000\n",
       "dia_semana                0.000000\n",
       "data_inversa              0.000000\n",
       "br                        0.000358\n",
       "latitude                  0.874768\n",
       "longitude                 0.874768\n",
       "dtype: float64"
      ]
     },
     "execution_count": 12,
     "metadata": {},
     "output_type": "execute_result"
    }
   ],
   "source": [
    "# Porcentagem de valores faltantes\n",
    "(df.isnull().sum()/df.shape[0]).sort_values()"
   ]
  },
  {
   "cell_type": "markdown",
   "metadata": {},
   "source": [
    "- #### **Eliminar linhas com todos os valores incompletos ou nulos:**"
   ]
  },
  {
   "cell_type": "code",
   "execution_count": 13,
   "metadata": {},
   "outputs": [
    {
     "name": "stdout",
     "output_type": "stream",
     "text": [
      "Após a remoção dos registros nulos: 142496 linhas e 22 colunas.\n"
     ]
    }
   ],
   "source": [
    "df.dropna(how='all', inplace=True)\n",
    "print(f\"Após a remoção dos registros nulos: {df.shape[0]} linhas e {df.shape[1]} colunas.\")"
   ]
  },
  {
   "cell_type": "markdown",
   "metadata": {},
   "source": [
    "- **Reindexar os registros, por conta da remoção das duplicatas**"
   ]
  },
  {
   "cell_type": "code",
   "execution_count": 14,
   "metadata": {},
   "outputs": [],
   "source": [
    "df.reset_index(drop=True, inplace=True)"
   ]
  },
  {
   "cell_type": "markdown",
   "metadata": {},
   "source": [
    "### **1.2.2 Visualização dos valores possíveis**\n",
    "\n",
    "Vamos verificar os valores das variáveis categóricas:\n",
    "\n",
    "- **`dia_semana`**\n",
    "- **`uf`**\n",
    "- **`br`**\n",
    "- **`causa_acidente`**\n",
    "- **`tipo_acidente`**\n",
    "- **`fase_dia`**\n",
    "- **`condicao_metereologica`**\n",
    "- **`tracado_via`**\n",
    "\n",
    "e algumas visualizações sobre tendências nas variáveis numéricas como:\n",
    "- **`veiculos`**\n",
    "- **`mortos`**"
   ]
  },
  {
   "cell_type": "code",
   "execution_count": 15,
   "metadata": {},
   "outputs": [
    {
     "data": {
      "text/plain": [
       "array(['Segunda', 'Terça', 'Quarta', 'Quinta', 'Sexta', 'Sábado',\n",
       "       'Domingo', 'domingo', 'segunda-feira', 'terça-feira',\n",
       "       'quarta-feira', 'quinta-feira', 'sexta-feira', 'sábado'],\n",
       "      dtype=object)"
      ]
     },
     "execution_count": 15,
     "metadata": {},
     "output_type": "execute_result"
    }
   ],
   "source": [
    "df['dia_semana'].unique()"
   ]
  },
  {
   "cell_type": "code",
   "execution_count": 16,
   "metadata": {},
   "outputs": [
    {
     "data": {
      "text/plain": [
       "array(['RS'], dtype=object)"
      ]
     },
     "execution_count": 16,
     "metadata": {},
     "output_type": "execute_result"
    }
   ],
   "source": [
    "df['uf'].unique()"
   ]
  },
  {
   "cell_type": "code",
   "execution_count": 17,
   "metadata": {},
   "outputs": [
    {
     "data": {
      "text/plain": [
       "array(['158', '386', '473', '290', '101', '116', '392', '287', '472',\n",
       "       '293', '153', '471', '285', '468', '480', '377', '604', 116, 290,\n",
       "       392, 285, 287, 386, 472, 377, 158, 293, 101, 471, 153, 468, 480,\n",
       "       473, 470, '470', '0', '178', '453', '183', 453, 448, nan],\n",
       "      dtype=object)"
      ]
     },
     "execution_count": 17,
     "metadata": {},
     "output_type": "execute_result"
    }
   ],
   "source": [
    "df['br'].unique()"
   ]
  },
  {
   "cell_type": "code",
   "execution_count": 18,
   "metadata": {},
   "outputs": [
    {
     "data": {
      "text/plain": [
       "array(['Não guardar distância de segurança', 'Falta de atenção', 'Outras',\n",
       "       'Ultrapassagem indevida', 'Defeito mecânico em veículo',\n",
       "       'Ingestão de álcool', 'Animais na Pista', 'Dormindo',\n",
       "       'Velocidade incompatível', 'Desobediência à sinalização',\n",
       "       'Defeito na via', 'Defeito Mecânico no Veículo',\n",
       "       'Ingestão de Álcool', 'Condutor Dormindo',\n",
       "       'Falta de Atenção à Condução',\n",
       "       'Desobediência às normas de trânsito pelo condutor',\n",
       "       'Ultrapassagem Indevida', 'Falta de Atenção do Pedestre',\n",
       "       'Sinalização da via insuficiente ou inadequada',\n",
       "       'Avarias e/ou desgaste excessivo no pneu',\n",
       "       'Velocidade Incompatível', 'Pista Escorregadia',\n",
       "       'Fenômenos da Natureza', 'Mal Súbito',\n",
       "       'Carga excessiva e/ou mal acondicionada', 'Defeito na Via',\n",
       "       'Objeto estático sobre o leito carroçável',\n",
       "       'Restrição de Visibilidade',\n",
       "       'Deficiência ou não Acionamento do Sistema de Iluminação/Sinalização do Veículo',\n",
       "       'Ingestão de Substâncias Psicoativas', 'Agressão Externa',\n",
       "       'Ingestão de álcool e/ou substâncias psicoativas pelo pedestre',\n",
       "       'Desobediência às normas de trânsito pelo pedestre'], dtype=object)"
      ]
     },
     "execution_count": 18,
     "metadata": {},
     "output_type": "execute_result"
    }
   ],
   "source": [
    "df['causa_acidente'].unique()"
   ]
  },
  {
   "cell_type": "code",
   "execution_count": 19,
   "metadata": {},
   "outputs": [
    {
     "data": {
      "text/plain": [
       "array(['Colisão traseira', 'Colisão Transversal', 'Colisão lateral',\n",
       "       'Tombamento', 'Colisão frontal', 'Saída de Pista', 'Incêndio',\n",
       "       'Colisão com objeto fixo',\n",
       "       'Queda de motocicleta / bicicleta / veículo',\n",
       "       'Colisão com bicicleta', 'Atropelamento de pessoa', 'Capotamento',\n",
       "       'Colisão com objeto móvel', 'Atropelamento de animal',\n",
       "       'Derramamento de Carga', 'Danos Eventuais',\n",
       "       'Atropelamento de Animal', 'Saída de leito carroçável',\n",
       "       'Colisão transversal', 'Atropelamento de Pedestre',\n",
       "       'Colisão com objeto estático', 'Engavetamento', 'Danos eventuais',\n",
       "       'Queda de ocupante de veículo', 'Colisão com objeto em movimento',\n",
       "       'Derramamento de carga'], dtype=object)"
      ]
     },
     "execution_count": 19,
     "metadata": {},
     "output_type": "execute_result"
    }
   ],
   "source": [
    "df['tipo_acidente'].unique()"
   ]
  },
  {
   "cell_type": "code",
   "execution_count": 20,
   "metadata": {},
   "outputs": [
    {
     "data": {
      "text/plain": [
       "array(['Plena noite', 'Pleno dia', 'Anoitecer', 'Amanhecer', '(null)',\n",
       "       'Plena Noite'], dtype=object)"
      ]
     },
     "execution_count": 20,
     "metadata": {},
     "output_type": "execute_result"
    }
   ],
   "source": [
    "df['fase_dia'].unique()"
   ]
  },
  {
   "cell_type": "code",
   "execution_count": 21,
   "metadata": {},
   "outputs": [
    {
     "data": {
      "text/plain": [
       "array(['Ceu Claro', 'Sol', 'Vento', 'Chuva', 'Nublado',\n",
       "       'Nevoeiro/neblina', 'Ignorada', '(null)', 'Neve', 'Granizo',\n",
       "       'Céu Claro', 'Garoa/Chuvisco', 'Nevoeiro/Neblina', 'Ignorado'],\n",
       "      dtype=object)"
      ]
     },
     "execution_count": 21,
     "metadata": {},
     "output_type": "execute_result"
    }
   ],
   "source": [
    "df['condicao_metereologica'].unique()"
   ]
  },
  {
   "cell_type": "code",
   "execution_count": 22,
   "metadata": {},
   "outputs": [
    {
     "data": {
      "text/plain": [
       "array(['Reta', 'Curva', 'Cruzamento', '(null)', 'Não Informado',\n",
       "       'Rotatória', 'Desvio Temporário', 'Interseção de vias', 'Ponte',\n",
       "       'Retorno Regulamentado', 'Viaduto', 'Túnel'], dtype=object)"
      ]
     },
     "execution_count": 22,
     "metadata": {},
     "output_type": "execute_result"
    }
   ],
   "source": [
    "df['tracado_via'].unique()"
   ]
  },
  {
   "cell_type": "code",
   "execution_count": 23,
   "metadata": {},
   "outputs": [
    {
     "data": {
      "text/plain": [
       "count    142496.000000\n",
       "mean          1.718771\n",
       "std           0.681115\n",
       "min           1.000000\n",
       "25%           1.000000\n",
       "50%           2.000000\n",
       "75%           2.000000\n",
       "max          15.000000\n",
       "Name: veiculos, dtype: float64"
      ]
     },
     "execution_count": 23,
     "metadata": {},
     "output_type": "execute_result"
    }
   ],
   "source": [
    "df['veiculos'].describe()"
   ]
  },
  {
   "cell_type": "code",
   "execution_count": 24,
   "metadata": {},
   "outputs": [
    {
     "data": {
      "text/plain": [
       "count    142496.000000\n",
       "mean          0.038085\n",
       "std           0.238218\n",
       "min           0.000000\n",
       "25%           0.000000\n",
       "50%           0.000000\n",
       "75%           0.000000\n",
       "max          13.000000\n",
       "Name: mortos, dtype: float64"
      ]
     },
     "execution_count": 24,
     "metadata": {},
     "output_type": "execute_result"
    }
   ],
   "source": [
    "df['mortos'].describe()"
   ]
  },
  {
   "cell_type": "markdown",
   "metadata": {},
   "source": [
    "- **Análise dos valores**\n",
    "\n",
    "---\n",
    "**`dia_semana`** temos os valores: \n",
    "    \n",
    "    'Segunda', 'Terça', 'Domingo', 'Quinta', 'Quarta', 'Sexta',\n",
    "       'Sábado', 'domingo', 'segunda-feira', 'terça-feira', 'sexta-feira',\n",
    "       'quarta-feira', 'quinta-feira', 'sábado'. Como tem alguns duplicados, os valores estão distintos, os reais são: \n",
    "\n",
    "* \"Segunda-feira\", \n",
    "* \"Terça-feira\", \n",
    "* \"Quarta-feira\" \n",
    "* \"Quinta-feira\" \n",
    "* \"Sexta-feira\" \n",
    "* \"Sábado\" \n",
    "* \"Domingo\". \n",
    "___\n",
    "**`uf`**:\n",
    "Na uf temos as siglas dos estados do Brasil, há apenas a string '(null)' que deve ser removida;\n",
    "___\n",
    "**`br`**:\n",
    "\n",
    "'158', '386', '473', '290', '101', '116', '392', '287', '472',\n",
    "       '293', '153', '471', '285', '468', '480', '377', '604', 116, 290,\n",
    "       392, 285, 287, 386, 472, 377, 158, 293, 101, 471, 153, 468, 480,\n",
    "       473, 470, '470', '0', '178', '453', '183', 453, 448, nan\n",
    "       \n",
    "Nela temos os números da br onde ocorreram os acidentes. Há o valor '0', que pode significar nomenclatura antiga.\n",
    "\n",
    "As rodovias sequenciais compreendem a nomenclatura antiga, e portanto deve-se normalizá-las. \n",
    "Há uma [tabela para conversão dos valores](https://pt.wikipedia.org/wiki/Sistema_antigo_de_numera%C3%A7%C3%A3o_de_rodovias_federais_do_Brasil). Embora os valores até 105 tenham alguma tradução para a nomenclatura atual, a br '0' parece ser um _outlier_.\n",
    "___\n",
    "**`causa_acidente`**:\n",
    "\n",
    "'Falta de atenção', 'Outras', 'Animais na Pista',\n",
    "       'Defeito mecânico em veículo',\n",
    "       'Não guardar distância de segurança', 'Velocidade incompatível',\n",
    "       'Desobediência à sinalização', 'Ingestão de álcool',\n",
    "       'Defeito na via', 'Dormindo', 'Ultrapassagem indevida', '(null)',\n",
    "       'Desobediência às normas de trânsito pelo condutor',\n",
    "       'Velocidade Incompatível', 'Ingestão de Álcool',\n",
    "       'Restrição de Visibilidade', 'Falta de Atenção à Condução',\n",
    "       'Defeito Mecânico no Veículo', 'Falta de Atenção do Pedestre',\n",
    "       'Condutor Dormindo', 'Pista Escorregadia',\n",
    "       'Ultrapassagem Indevida', 'Defeito na Via',\n",
    "       'Avarias e/ou desgaste excessivo no pneu',\n",
    "       'Sinalização da via insuficiente ou inadequada',\n",
    "       'Fenômenos da Natureza', 'Mal Súbito',\n",
    "       'Carga excessiva e/ou mal acondicionada',\n",
    "       'Objeto estático sobre o leito carroçável',\n",
    "       'Deficiência ou não Acionamento do Sistema de Iluminação/Sinalização do Veículo',\n",
    "       'Ingestão de Substâncias Psicoativas', 'Agressão Externa',\n",
    "       'Desobediência às normas de trânsito pelo pedestre',\n",
    "       'Ingestão de álcool e/ou substâncias psicoativas pelo pedestre'.\n",
    "       \n",
    "Dentre esses valores, há alguns que divergem na escrita, porém são a mesma coisa, como 'Falta de atenção' e 'Falta de Atenção à Condução'. 'Defeito mecânico em veículo' e 'Defeito Mecânico no Veículo'.\n",
    "\n",
    "___\n",
    "**`tipo_acidente`**:\n",
    "'Colisão frontal', 'Saída de Pista', 'Atropelamento de animal',\n",
    "       'Capotamento', 'Colisão lateral', 'Atropelamento de pessoa',\n",
    "       'Colisão traseira', 'Colisão Transversal', 'Tombamento',\n",
    "       'Colisão com objeto fixo', 'Danos Eventuais',\n",
    "       'Queda de motocicleta / bicicleta / veículo',\n",
    "       'Derramamento de Carga', 'Colisão com bicicleta',\n",
    "       'Colisão com objeto móvel', 'Incêndio', 'Atropelamento de Animal',\n",
    "       'Saída de leito carroçável', 'Colisão com objeto estático',\n",
    "       'Atropelamento de Pedestre', 'Queda de ocupante de veículo',\n",
    "       'Colisão transversal', 'Colisão com objeto em movimento',\n",
    "       'Derramamento de carga', 'Engavetamento', 'Danos eventuais'.\n",
    "\n",
    "Há apenas algumas distinções por conta da sensibilidade a maiúsculas e minúsculas. E um sinônimo entre 'Colisão com objeto estático' e 'Colisão com objeto fixo'\n",
    "___\n",
    "**`fase_dia`**:\n",
    "'Pleno dia', 'Plena noite', 'Amanhecer', 'Anoitecer', '(null)',\n",
    "       nan, 'Plena Noite'.\n",
    "       \n",
    "Além da string '(null)' que deve ser tratada, há a divergência na distinção por conta da sensibilidade a maiúsculas e minúsculas.\n",
    "\n",
    "___\n",
    "**`condicao_metereologica`**\n",
    "'Ceu Claro', 'Chuva', 'Nublado', 'Sol', 'Nevoeiro/neblina',\n",
    "       'Ignorada', 'Vento', 'Granizo', '(null)', 'Neve', nan,\n",
    "       'Garoa/Chuvisco', 'Céu Claro', 'Nevoeiro/Neblina', 'Ignorado'.\n",
    "\n",
    "Há o problema na string '(null)'.\n",
    "\n",
    "___\n",
    "**`tracado_via`**\n",
    "'Reta', 'Curva', 'Cruzamento', '(null)', 'Não Informado',\n",
    "       'Interseção de vias', 'Rotatória', 'Desvio Temporário', 'Viaduto',\n",
    "       'Ponte', 'Retorno Regulamentado', 'Túnel'\n",
    "       \n",
    "Há o problema na string '(null)'.\n"
   ]
  },
  {
   "cell_type": "markdown",
   "metadata": {},
   "source": [
    "# **2.0 Limpeza dos dados**"
   ]
  },
  {
   "cell_type": "markdown",
   "metadata": {},
   "source": [
    "---\n",
    "**- `data_inversa`**\n",
    "\n",
    "Esse campo possui 2 tipos de datas: ANO - mes - dia; e dia/mes/ANO. Vamos convertela para inversa, mas em `datetime`, deixando-a como %Y-%m-%d;"
   ]
  },
  {
   "cell_type": "code",
   "execution_count": 56,
   "metadata": {},
   "outputs": [
    {
     "data": {
      "text/plain": [
       "2012-04-08    114\n",
       "21/04/2011    113\n",
       "24/04/2011    112\n",
       "2012-07-06    106\n",
       "2012-12-21     91\n",
       "             ... \n",
       "2020-05-24      3\n",
       "2019-03-04      2\n",
       "2020-09-24      2\n",
       "2020-03-25      2\n",
       "2019-11-13      1\n",
       "Name: data_inversa, Length: 5022, dtype: int64"
      ]
     },
     "execution_count": 56,
     "metadata": {},
     "output_type": "execute_result"
    }
   ],
   "source": [
    "df['data_inversa']"
   ]
  },
  {
   "cell_type": "code",
   "execution_count": 57,
   "metadata": {},
   "outputs": [],
   "source": [
    "### Correção da vírgula para ponto\n",
    "df['data_inversa'] = pd.to_datetime(df['data_inversa'])"
   ]
  },
  {
   "cell_type": "code",
   "execution_count": 58,
   "metadata": {},
   "outputs": [
    {
     "data": {
      "text/plain": [
       "2012-04-08    114\n",
       "2011-04-21    113\n",
       "2011-04-24    112\n",
       "2012-07-06    106\n",
       "2012-12-21     91\n",
       "             ... \n",
       "2019-01-30      3\n",
       "2020-03-25      2\n",
       "2019-03-04      2\n",
       "2020-09-24      2\n",
       "2019-11-13      1\n",
       "Name: data_inversa, Length: 5022, dtype: int64"
      ]
     },
     "execution_count": 58,
     "metadata": {},
     "output_type": "execute_result"
    }
   ],
   "source": [
    "df['data_inversa']"
   ]
  },
  {
   "cell_type": "markdown",
   "metadata": {},
   "source": [
    "---\n",
    "**- `latitude` e `longitude`**\n",
    "\n",
    "Esses campos estão como string, e devem ser normalizados para float, a fim de utilizá-los em eventuais plots geográficos.\n",
    "\n",
    "Como esses dois dados são vigente a partir do ano de 2017, vários valores faltantes aparecerão, devido a concatenação das bases."
   ]
  },
  {
   "cell_type": "code",
   "execution_count": 25,
   "metadata": {},
   "outputs": [],
   "source": [
    "### Correção da vírgula para ponto\n",
    "df['latitude']  = df['latitude'].str.replace(',','.')\n",
    "df['longitude']  = df['longitude'].str.replace(',','.')\n",
    "\n",
    "#setei os NaN como 0, se der problema nos plot daí tiramos os fillna\n",
    "#df['latitude'].fillna(0, inplace=True)\n",
    "#df['longitude'].fillna(0, inplace=True)"
   ]
  },
  {
   "cell_type": "code",
   "execution_count": 26,
   "metadata": {},
   "outputs": [
    {
     "data": {
      "text/plain": [
       "latitude     object\n",
       "longitude    object\n",
       "dtype: object"
      ]
     },
     "execution_count": 26,
     "metadata": {},
     "output_type": "execute_result"
    }
   ],
   "source": [
    "df.filter(['latitude', 'longitude']).dtypes"
   ]
  },
  {
   "cell_type": "code",
   "execution_count": 27,
   "metadata": {},
   "outputs": [],
   "source": [
    "df['latitude'] = df['latitude'].astype(float)\n",
    "df['longitude'] = df['longitude'].astype(float)"
   ]
  },
  {
   "cell_type": "code",
   "execution_count": 28,
   "metadata": {},
   "outputs": [
    {
     "data": {
      "text/plain": [
       "latitude     float64\n",
       "longitude    float64\n",
       "dtype: object"
      ]
     },
     "execution_count": 28,
     "metadata": {},
     "output_type": "execute_result"
    }
   ],
   "source": [
    "df.filter(['latitude', 'longitude']).dtypes"
   ]
  },
  {
   "cell_type": "markdown",
   "metadata": {},
   "source": [
    "----\n",
    "**- `dia_semana`**\n",
    "\n",
    "Para padronizar, vamos deixar tudo em title (primeira letra maiuscula). E depois deixar os dias sem hífem mesmo"
   ]
  },
  {
   "cell_type": "code",
   "execution_count": 29,
   "metadata": {},
   "outputs": [
    {
     "data": {
      "text/plain": [
       "Sexta            21129\n",
       "Sábado           18021\n",
       "Quinta           17879\n",
       "Segunda          17424\n",
       "Domingo          17050\n",
       "Quarta           16804\n",
       "Terça            16344\n",
       "sexta-feira       2785\n",
       "domingo           2776\n",
       "sábado            2754\n",
       "quinta-feira      2522\n",
       "segunda-feira     2441\n",
       "terça-feira       2285\n",
       "quarta-feira      2282\n",
       "Name: dia_semana, dtype: int64"
      ]
     },
     "execution_count": 29,
     "metadata": {},
     "output_type": "execute_result"
    }
   ],
   "source": [
    "df['dia_semana'].value_counts()"
   ]
  },
  {
   "cell_type": "code",
   "execution_count": 30,
   "metadata": {},
   "outputs": [],
   "source": [
    "df['dia_semana'] = df['dia_semana'].apply(lambda x: str(x).title().split('-')[0])"
   ]
  },
  {
   "cell_type": "code",
   "execution_count": 31,
   "metadata": {},
   "outputs": [
    {
     "data": {
      "text/plain": [
       "array(['Segunda', 'Terça', 'Quarta', 'Quinta', 'Sexta', 'Sábado',\n",
       "       'Domingo'], dtype=object)"
      ]
     },
     "execution_count": 31,
     "metadata": {},
     "output_type": "execute_result"
    }
   ],
   "source": [
    "df['dia_semana'].unique()"
   ]
  },
  {
   "cell_type": "markdown",
   "metadata": {},
   "source": [
    "----\n",
    "**- `uf`**\n",
    "\n",
    "Não precisa limpar nem normalizar pois já está marcada apenas para o RS"
   ]
  },
  {
   "cell_type": "code",
   "execution_count": 32,
   "metadata": {},
   "outputs": [
    {
     "data": {
      "text/plain": [
       "RS    142496\n",
       "Name: uf, dtype: int64"
      ]
     },
     "execution_count": 32,
     "metadata": {},
     "output_type": "execute_result"
    }
   ],
   "source": [
    "df[\"uf\"].value_counts()"
   ]
  },
  {
   "cell_type": "markdown",
   "metadata": {},
   "source": [
    "---\n",
    "**- `br`**\n",
    "\n",
    "Não precisa limpar nem normalizar(dá pra retirar daqui), está em str"
   ]
  },
  {
   "cell_type": "code",
   "execution_count": 33,
   "metadata": {},
   "outputs": [
    {
     "data": {
      "text/plain": [
       "array(['158', '386', '473', '290', '101', '116', '392', '287', '472',\n",
       "       '293', '153', '471', '285', '468', '480', '377', '604', 116, 290,\n",
       "       392, 285, 287, 386, 472, 377, 158, 293, 101, 471, 153, 468, 480,\n",
       "       473, 470, '470', '0', '178', '453', '183', 453, 448, nan],\n",
       "      dtype=object)"
      ]
     },
     "execution_count": 33,
     "metadata": {},
     "output_type": "execute_result"
    }
   ],
   "source": [
    "df['br'].unique()"
   ]
  },
  {
   "cell_type": "markdown",
   "metadata": {},
   "source": [
    "---\n",
    "**- `causa_acidente`**"
   ]
  },
  {
   "cell_type": "code",
   "execution_count": 34,
   "metadata": {},
   "outputs": [
    {
     "data": {
      "text/plain": [
       "Falta De Atenção                                                                  48602\n",
       "Outras                                                                            22858\n",
       "Não Guardar Distância De Segurança                                                17152\n",
       "Velocidade Incompatível                                                           12994\n",
       "Desobediência À Sinalização                                                        9214\n",
       "Ingestão De Álcool                                                                 6654\n",
       "Defeito Mecânico No Veículo                                                        6163\n",
       "Animais Na Pista                                                                   4635\n",
       "Dormindo                                                                           4354\n",
       "Ultrapassagem Indevida                                                             2942\n",
       "Desobediência Às Normas De Trânsito Pelo Condutor                                  2382\n",
       "Defeito Na Via                                                                     1520\n",
       "Condutor Dormindo                                                                   919\n",
       "Pista Escorregadia                                                                  506\n",
       "Falta De Atenção Do Pedestre                                                        439\n",
       "Avarias E/Ou Desgaste Excessivo No Pneu                                             270\n",
       "Mal Súbito                                                                          204\n",
       "Restrição De Visibilidade                                                           141\n",
       "Objeto Estático Sobre O Leito Carroçável                                            118\n",
       "Carga Excessiva E/Ou Mal Acondicionada                                               82\n",
       "Ingestão De Álcool E/Ou Substâncias Psicoativas Pelo Pedestre                        76\n",
       "Fenômenos Da Natureza                                                                69\n",
       "Sinalização Da Via Insuficiente Ou Inadequada                                        63\n",
       "Desobediência Às Normas De Trânsito Pelo Pedestre                                    51\n",
       "Deficiência Ou Não Acionamento Do Sistema De Iluminação/Sinalização Do Veículo       38\n",
       "Agressão Externa                                                                     31\n",
       "Ingestão De Substâncias Psicoativas                                                  19\n",
       "Name: causa_acidente, dtype: int64"
      ]
     },
     "execution_count": 34,
     "metadata": {},
     "output_type": "execute_result"
    }
   ],
   "source": [
    "#retirar espaços em branco no inicio e final das palavras\n",
    "seri = pd.Series(df['causa_acidente'])\n",
    "seri = seri.str.strip()\n",
    "df['causa_acidente'] = seri\n",
    "\n",
    "df['causa_acidente'] = df['causa_acidente'].str.title()\n",
    "df['causa_acidente'] = df['causa_acidente'].str.replace('Falta De Atenção À Condução', 'Falta De Atenção')\n",
    "df['causa_acidente'] = df['causa_acidente'].str.replace('Defeito Mecânico Em Veículo', 'Defeito Mecânico No Veículo')\n",
    "\n",
    "df['causa_acidente'].value_counts()"
   ]
  },
  {
   "cell_type": "markdown",
   "metadata": {},
   "source": [
    "---\n",
    "**- `tipo_acidente`**"
   ]
  },
  {
   "cell_type": "code",
   "execution_count": 35,
   "metadata": {},
   "outputs": [
    {
     "data": {
      "text/plain": [
       "Colisão Traseira                              38088\n",
       "Saída De Pista                                26253\n",
       "Colisão Transversal                           20921\n",
       "Colisão Lateral                               19948\n",
       "Colisão Com Objeto Fixo                        6549\n",
       "Tombamento                                     5466\n",
       "Colisão Frontal                                4846\n",
       "Saída De Leito Carroçável                      4083\n",
       "Atropelamento De Animal                        3864\n",
       "Atropelamento De Pessoa                        2650\n",
       "Queda De Motocicleta / Bicicleta / Veículo     2497\n",
       "Capotamento                                    2277\n",
       "Colisão Com Bicicleta                           955\n",
       "Colisão Com Objeto Móvel                        889\n",
       "Danos Eventuais                                 715\n",
       "Incêndio                                        690\n",
       "Atropelamento De Pedestre                       685\n",
       "Derramamento De Carga                           552\n",
       "Queda De Ocupante De Veículo                    248\n",
       "Engavetamento                                   217\n",
       "Colisão Com Objeto Em Movimento                 103\n",
       "Name: tipo_acidente, dtype: int64"
      ]
     },
     "execution_count": 35,
     "metadata": {},
     "output_type": "execute_result"
    }
   ],
   "source": [
    "df['tipo_acidente'] = df['tipo_acidente'].str.title()\n",
    "df['tipo_acidente'] = df['tipo_acidente'].str.replace('Colisão Com Objeto Estático', 'Colisão Com Objeto Fixo')\n",
    "df['tipo_acidente'].value_counts()"
   ]
  },
  {
   "cell_type": "markdown",
   "metadata": {},
   "source": [
    "---\n",
    "**- `fase_dia`**"
   ]
  },
  {
   "cell_type": "code",
   "execution_count": 36,
   "metadata": {},
   "outputs": [
    {
     "data": {
      "text/plain": [
       "Pleno Dia        84628\n",
       "Plena Noite      42203\n",
       "Anoitecer         8818\n",
       "Amanhecer         6842\n",
       "Não Informado        5\n",
       "Name: fase_dia, dtype: int64"
      ]
     },
     "execution_count": 36,
     "metadata": {},
     "output_type": "execute_result"
    }
   ],
   "source": [
    "df[\"fase_dia\"] = df[\"fase_dia\"].replace('(null)', np.nan)\n",
    "df[\"fase_dia\"].fillna(\"Não Informado\", inplace=True)\n",
    "\n",
    "df['fase_dia'] = df['fase_dia'].str.title()\n",
    "df['fase_dia'].value_counts()"
   ]
  },
  {
   "cell_type": "markdown",
   "metadata": {},
   "source": [
    "___\n",
    "**- `condicao_metereologica`**"
   ]
  },
  {
   "cell_type": "code",
   "execution_count": 37,
   "metadata": {},
   "outputs": [
    {
     "data": {
      "text/plain": [
       "array(['Ceu Claro', 'Sol', 'Vento', 'Chuva', 'Nublado',\n",
       "       'Nevoeiro/neblina', 'Ignorada', '(null)', 'Neve', 'Granizo',\n",
       "       'Céu Claro', 'Garoa/Chuvisco', 'Nevoeiro/Neblina', 'Ignorado'],\n",
       "      dtype=object)"
      ]
     },
     "execution_count": 37,
     "metadata": {},
     "output_type": "execute_result"
    }
   ],
   "source": [
    "df[\"condicao_metereologica\"].unique()"
   ]
  },
  {
   "cell_type": "code",
   "execution_count": 38,
   "metadata": {},
   "outputs": [],
   "source": [
    "from unidecode import unidecode\n"
   ]
  },
  {
   "cell_type": "code",
   "execution_count": 39,
   "metadata": {},
   "outputs": [
    {
     "data": {
      "text/plain": [
       "ceu claro           65519\n",
       "nublado             28755\n",
       "chuva               23146\n",
       "sol                 20733\n",
       "nevoeiro/neblina     2574\n",
       "nao informado         852\n",
       "garoa/chuvisco        661\n",
       "vento                 215\n",
       "granizo                28\n",
       "neve                   13\n",
       "Name: condicao_metereologica, dtype: int64"
      ]
     },
     "execution_count": 39,
     "metadata": {},
     "output_type": "execute_result"
    }
   ],
   "source": [
    "df[\"condicao_metereologica\"] = df[\"condicao_metereologica\"].replace('(null)', np.nan)\n",
    "df[\"condicao_metereologica\"].fillna(\"Não Informado\", inplace=True)\n",
    "\n",
    "df['condicao_metereologica'] = df['condicao_metereologica']\\\n",
    ".str.lower().replace('ignorada', 'nao informado').replace('ignorado', 'nao informado').map(unidecode)\n",
    "\n",
    "df['condicao_metereologica'].value_counts()"
   ]
  },
  {
   "cell_type": "markdown",
   "metadata": {},
   "source": [
    "- **Salvar DataFrame normalizado**"
   ]
  },
  {
   "cell_type": "code",
   "execution_count": 40,
   "metadata": {},
   "outputs": [],
   "source": [
    "df.to_csv('archive/csv_ocorrencia_normalizado.csv', encoding='latin-1')"
   ]
  }
 ],
 "metadata": {
  "kernelspec": {
   "display_name": "Python 3",
   "language": "python",
   "name": "python3"
  },
  "language_info": {
   "codemirror_mode": {
    "name": "ipython",
    "version": 3
   },
   "file_extension": ".py",
   "mimetype": "text/x-python",
   "name": "python",
   "nbconvert_exporter": "python",
   "pygments_lexer": "ipython3",
   "version": "3.6.9"
  }
 },
 "nbformat": 4,
 "nbformat_minor": 4
}
