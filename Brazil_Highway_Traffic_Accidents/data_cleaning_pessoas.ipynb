{
 "cells": [
  {
   "cell_type": "markdown",
   "metadata": {},
   "source": [
    "# **0. Importação das Bibliotecas**"
   ]
  },
  {
   "cell_type": "code",
   "execution_count": 1,
   "metadata": {},
   "outputs": [],
   "source": [
    "import pandas as pd\n",
    "import numpy as np\n",
    "\n",
    "import matplotlib.pyplot as plt\n",
    "import seaborn as sns\n",
    "\n",
    "import time\n",
    "\n",
    "import re"
   ]
  },
  {
   "cell_type": "markdown",
   "metadata": {},
   "source": [
    "# **1.0 Análise exploratória**\n",
    "\n",
    "###  **Carregamento dos Arquivos:**\n",
    "\n",
    "**OBS:** Os DataFrame df\\_pessoas\\_'ano' são DataFrames de complemento para os dados dos DataFrames df\\_ocorrencia\\_'ano'\n",
    "\n",
    "- **Base de dados por pessoas:**"
   ]
  },
  {
   "cell_type": "code",
   "execution_count": 2,
   "metadata": {},
   "outputs": [],
   "source": [
    "cols = ['id', 'pesid', 'uf', 'id_veiculo', 'tipo_veiculo', 'marca', \n",
    "        'ano_fabricacao_veiculo', 'tipo_envolvido', 'estado_fisico', 'idade','sexo']\n",
    "\n",
    "df_pessoas_2007 = pd.read_csv('archive/por_pessoas/acidentes2007.csv', sep=',', engine='python', encoding='latin-1', usecols=cols)\n",
    "df_pessoas_2008 = pd.read_csv('archive/por_pessoas/acidentes2008.csv', sep=',', engine='python', encoding='latin-1', usecols=cols)\n",
    "df_pessoas_2009 = pd.read_csv('archive/por_pessoas/acidentes2009.csv', sep=',', engine='python', encoding='latin-1', usecols=cols)\n",
    "df_pessoas_2010 = pd.read_csv('archive/por_pessoas/acidentes2010.csv', sep=',', engine='python', encoding='latin-1', usecols=cols)\n",
    "df_pessoas_2011 = pd.read_csv('archive/por_pessoas/acidentes2011.csv', sep=',', engine='python', encoding='latin-1', usecols=cols)\n",
    "df_pessoas_2012 = pd.read_csv('archive/por_pessoas/acidentes2012.csv', sep=',', engine='python', encoding='latin-1', usecols=cols)\n",
    "df_pessoas_2013 = pd.read_csv('archive/por_pessoas/acidentes2013.csv', sep=',', engine='python', encoding='latin-1', usecols=cols)\n",
    "df_pessoas_2014 = pd.read_csv('archive/por_pessoas/acidentes2014.csv', sep=',', engine='python', encoding='latin-1', usecols=cols)\n",
    "df_pessoas_2015 = pd.read_csv('archive/por_pessoas/acidentes2015.csv', sep=',', engine='python', encoding='latin-1', usecols=cols)\n",
    "df_pessoas_2016 = pd.read_csv('archive/por_pessoas/acidentes2016.csv', sep=';', engine='python', encoding='latin-1', usecols=cols)\n",
    "df_pessoas_2017 = pd.read_csv('archive/por_pessoas/acidentes2017.csv', sep=';', engine='python', encoding='latin-1', usecols=cols)\n",
    "df_pessoas_2018 = pd.read_csv('archive/por_pessoas/acidentes2018.csv', sep=';', engine='python', encoding='latin-1', usecols=cols)\n",
    "df_pessoas_2019 = pd.read_csv('archive/por_pessoas/acidentes2019.csv', sep=';', engine='python', encoding='latin-1', usecols=cols)\n",
    "df_pessoas_2020 = pd.read_csv('archive/por_pessoas/acidentes2020.csv', sep=';', engine='python', encoding='latin-1', usecols=cols)"
   ]
  },
  {
   "cell_type": "markdown",
   "metadata": {},
   "source": [
    "- **Cabeçalho**\n",
    "\n",
    "Visualizar os 10 primeiros registros do conjunto de dados"
   ]
  },
  {
   "cell_type": "code",
   "execution_count": 3,
   "metadata": {},
   "outputs": [
    {
     "data": {
      "text/html": [
       "<div>\n",
       "<style scoped>\n",
       "    .dataframe tbody tr th:only-of-type {\n",
       "        vertical-align: middle;\n",
       "    }\n",
       "\n",
       "    .dataframe tbody tr th {\n",
       "        vertical-align: top;\n",
       "    }\n",
       "\n",
       "    .dataframe thead th {\n",
       "        text-align: right;\n",
       "    }\n",
       "</style>\n",
       "<table border=\"1\" class=\"dataframe\">\n",
       "  <thead>\n",
       "    <tr style=\"text-align: right;\">\n",
       "      <th></th>\n",
       "      <th>id</th>\n",
       "      <th>pesid</th>\n",
       "      <th>uf</th>\n",
       "      <th>id_veiculo</th>\n",
       "      <th>tipo_veiculo</th>\n",
       "      <th>marca</th>\n",
       "      <th>ano_fabricacao_veiculo</th>\n",
       "      <th>tipo_envolvido</th>\n",
       "      <th>estado_fisico</th>\n",
       "      <th>idade</th>\n",
       "      <th>sexo</th>\n",
       "    </tr>\n",
       "  </thead>\n",
       "  <tbody>\n",
       "    <tr>\n",
       "      <th>0</th>\n",
       "      <td>10</td>\n",
       "      <td>647938</td>\n",
       "      <td>MG</td>\n",
       "      <td>439395</td>\n",
       "      <td>Automóvel</td>\n",
       "      <td>GM/CLASSIC LIFE</td>\n",
       "      <td>2005</td>\n",
       "      <td>Condutor</td>\n",
       "      <td>Ileso</td>\n",
       "      <td>23.0</td>\n",
       "      <td>Masculino</td>\n",
       "    </tr>\n",
       "    <tr>\n",
       "      <th>1</th>\n",
       "      <td>10</td>\n",
       "      <td>647938</td>\n",
       "      <td>MG</td>\n",
       "      <td>439395</td>\n",
       "      <td>Automóvel</td>\n",
       "      <td>GM/CLASSIC LIFE</td>\n",
       "      <td>2005</td>\n",
       "      <td>Condutor</td>\n",
       "      <td>Ileso</td>\n",
       "      <td>23.0</td>\n",
       "      <td>Masculino</td>\n",
       "    </tr>\n",
       "    <tr>\n",
       "      <th>2</th>\n",
       "      <td>10</td>\n",
       "      <td>648468</td>\n",
       "      <td>MG</td>\n",
       "      <td>439395</td>\n",
       "      <td>Automóvel</td>\n",
       "      <td>GM/CLASSIC LIFE</td>\n",
       "      <td>2005</td>\n",
       "      <td>Passageiro</td>\n",
       "      <td>Ferido Leve</td>\n",
       "      <td>44.0</td>\n",
       "      <td>Masculino</td>\n",
       "    </tr>\n",
       "    <tr>\n",
       "      <th>3</th>\n",
       "      <td>10</td>\n",
       "      <td>648468</td>\n",
       "      <td>MG</td>\n",
       "      <td>439395</td>\n",
       "      <td>Automóvel</td>\n",
       "      <td>GM/CLASSIC LIFE</td>\n",
       "      <td>2005</td>\n",
       "      <td>Passageiro</td>\n",
       "      <td>Ferido Leve</td>\n",
       "      <td>44.0</td>\n",
       "      <td>Masculino</td>\n",
       "    </tr>\n",
       "    <tr>\n",
       "      <th>4</th>\n",
       "      <td>10</td>\n",
       "      <td>648470</td>\n",
       "      <td>MG</td>\n",
       "      <td>439395</td>\n",
       "      <td>Automóvel</td>\n",
       "      <td>GM/CLASSIC LIFE</td>\n",
       "      <td>2005</td>\n",
       "      <td>Passageiro</td>\n",
       "      <td>Ferido Leve</td>\n",
       "      <td>10.0</td>\n",
       "      <td>Feminino</td>\n",
       "    </tr>\n",
       "    <tr>\n",
       "      <th>5</th>\n",
       "      <td>10</td>\n",
       "      <td>648470</td>\n",
       "      <td>MG</td>\n",
       "      <td>439395</td>\n",
       "      <td>Automóvel</td>\n",
       "      <td>GM/CLASSIC LIFE</td>\n",
       "      <td>2005</td>\n",
       "      <td>Passageiro</td>\n",
       "      <td>Ferido Leve</td>\n",
       "      <td>10.0</td>\n",
       "      <td>Feminino</td>\n",
       "    </tr>\n",
       "    <tr>\n",
       "      <th>6</th>\n",
       "      <td>10</td>\n",
       "      <td>648471</td>\n",
       "      <td>MG</td>\n",
       "      <td>439395</td>\n",
       "      <td>Automóvel</td>\n",
       "      <td>GM/CLASSIC LIFE</td>\n",
       "      <td>2005</td>\n",
       "      <td>Passageiro</td>\n",
       "      <td>Ferido Leve</td>\n",
       "      <td>39.0</td>\n",
       "      <td>Masculino</td>\n",
       "    </tr>\n",
       "    <tr>\n",
       "      <th>7</th>\n",
       "      <td>10</td>\n",
       "      <td>648471</td>\n",
       "      <td>MG</td>\n",
       "      <td>439395</td>\n",
       "      <td>Automóvel</td>\n",
       "      <td>GM/CLASSIC LIFE</td>\n",
       "      <td>2005</td>\n",
       "      <td>Passageiro</td>\n",
       "      <td>Ferido Leve</td>\n",
       "      <td>39.0</td>\n",
       "      <td>Masculino</td>\n",
       "    </tr>\n",
       "    <tr>\n",
       "      <th>8</th>\n",
       "      <td>10</td>\n",
       "      <td>2068191</td>\n",
       "      <td>MG</td>\n",
       "      <td>1204697</td>\n",
       "      <td>Automóvel</td>\n",
       "      <td>FIAT/UNO MILLE FIRE FLEX</td>\n",
       "      <td>2008</td>\n",
       "      <td>Condutor</td>\n",
       "      <td>Ileso</td>\n",
       "      <td>NaN</td>\n",
       "      <td>NaN</td>\n",
       "    </tr>\n",
       "    <tr>\n",
       "      <th>9</th>\n",
       "      <td>10</td>\n",
       "      <td>2068191</td>\n",
       "      <td>MG</td>\n",
       "      <td>1204697</td>\n",
       "      <td>Automóvel</td>\n",
       "      <td>FIAT/UNO MILLE FIRE FLEX</td>\n",
       "      <td>2008</td>\n",
       "      <td>Condutor</td>\n",
       "      <td>Ileso</td>\n",
       "      <td>NaN</td>\n",
       "      <td>NaN</td>\n",
       "    </tr>\n",
       "  </tbody>\n",
       "</table>\n",
       "</div>"
      ],
      "text/plain": [
       "   id    pesid  uf id_veiculo tipo_veiculo                     marca  \\\n",
       "0  10   647938  MG     439395    Automóvel           GM/CLASSIC LIFE   \n",
       "1  10   647938  MG     439395    Automóvel           GM/CLASSIC LIFE   \n",
       "2  10   648468  MG     439395    Automóvel           GM/CLASSIC LIFE   \n",
       "3  10   648468  MG     439395    Automóvel           GM/CLASSIC LIFE   \n",
       "4  10   648470  MG     439395    Automóvel           GM/CLASSIC LIFE   \n",
       "5  10   648470  MG     439395    Automóvel           GM/CLASSIC LIFE   \n",
       "6  10   648471  MG     439395    Automóvel           GM/CLASSIC LIFE   \n",
       "7  10   648471  MG     439395    Automóvel           GM/CLASSIC LIFE   \n",
       "8  10  2068191  MG    1204697    Automóvel  FIAT/UNO MILLE FIRE FLEX   \n",
       "9  10  2068191  MG    1204697    Automóvel  FIAT/UNO MILLE FIRE FLEX   \n",
       "\n",
       "  ano_fabricacao_veiculo tipo_envolvido estado_fisico  idade       sexo  \n",
       "0                   2005       Condutor  Ileso          23.0  Masculino  \n",
       "1                   2005       Condutor  Ileso          23.0  Masculino  \n",
       "2                   2005     Passageiro  Ferido Leve    44.0  Masculino  \n",
       "3                   2005     Passageiro  Ferido Leve    44.0  Masculino  \n",
       "4                   2005     Passageiro  Ferido Leve    10.0   Feminino  \n",
       "5                   2005     Passageiro  Ferido Leve    10.0   Feminino  \n",
       "6                   2005     Passageiro  Ferido Leve    39.0  Masculino  \n",
       "7                   2005     Passageiro  Ferido Leve    39.0  Masculino  \n",
       "8                   2008       Condutor  Ileso           NaN        NaN  \n",
       "9                   2008       Condutor  Ileso           NaN        NaN  "
      ]
     },
     "execution_count": 3,
     "metadata": {},
     "output_type": "execute_result"
    }
   ],
   "source": [
    "df_pessoas_2007.head(10)"
   ]
  },
  {
   "cell_type": "markdown",
   "metadata": {},
   "source": [
    "- **Adicionar coluna ```ano``` em todos os dataframes:**"
   ]
  },
  {
   "cell_type": "code",
   "execution_count": 4,
   "metadata": {},
   "outputs": [],
   "source": [
    "df_pessoas_2007['ano'] = 2007\n",
    "df_pessoas_2008['ano'] = 2008\n",
    "df_pessoas_2009['ano'] = 2009\n",
    "df_pessoas_2010['ano'] = 2010\n",
    "df_pessoas_2011['ano'] = 2011\n",
    "df_pessoas_2012['ano'] = 2012\n",
    "df_pessoas_2013['ano'] = 2013\n",
    "df_pessoas_2014['ano'] = 2014\n",
    "df_pessoas_2015['ano'] = 2015\n",
    "df_pessoas_2016['ano'] = 2016\n",
    "df_pessoas_2017['ano'] = 2017\n",
    "df_pessoas_2018['ano'] = 2018\n",
    "df_pessoas_2019['ano'] = 2019\n",
    "df_pessoas_2020['ano'] = 2020"
   ]
  },
  {
   "cell_type": "markdown",
   "metadata": {},
   "source": [
    "- **Concatenar todos os dataframes**"
   ]
  },
  {
   "cell_type": "code",
   "execution_count": 5,
   "metadata": {},
   "outputs": [],
   "source": [
    "df = pd.concat([df_pessoas_2007,df_pessoas_2008,df_pessoas_2009,df_pessoas_2010,df_pessoas_2011,\n",
    "                              df_pessoas_2012,df_pessoas_2013,df_pessoas_2014,df_pessoas_2015,df_pessoas_2016,\n",
    "                              df_pessoas_2017,df_pessoas_2018,df_pessoas_2019,df_pessoas_2020], sort = False)"
   ]
  },
  {
   "cell_type": "markdown",
   "metadata": {},
   "source": [
    "- **Filtrar somente pelo escopo do Rio Grande do Sul sendo uf(RS)**"
   ]
  },
  {
   "cell_type": "code",
   "execution_count": 6,
   "metadata": {},
   "outputs": [
    {
     "data": {
      "text/html": [
       "<div>\n",
       "<style scoped>\n",
       "    .dataframe tbody tr th:only-of-type {\n",
       "        vertical-align: middle;\n",
       "    }\n",
       "\n",
       "    .dataframe tbody tr th {\n",
       "        vertical-align: top;\n",
       "    }\n",
       "\n",
       "    .dataframe thead th {\n",
       "        text-align: right;\n",
       "    }\n",
       "</style>\n",
       "<table border=\"1\" class=\"dataframe\">\n",
       "  <thead>\n",
       "    <tr style=\"text-align: right;\">\n",
       "      <th></th>\n",
       "      <th>id</th>\n",
       "      <th>pesid</th>\n",
       "      <th>uf</th>\n",
       "      <th>id_veiculo</th>\n",
       "      <th>tipo_veiculo</th>\n",
       "      <th>marca</th>\n",
       "      <th>ano_fabricacao_veiculo</th>\n",
       "      <th>tipo_envolvido</th>\n",
       "      <th>estado_fisico</th>\n",
       "      <th>idade</th>\n",
       "      <th>sexo</th>\n",
       "      <th>ano</th>\n",
       "    </tr>\n",
       "  </thead>\n",
       "  <tbody>\n",
       "    <tr>\n",
       "      <th>21</th>\n",
       "      <td>173720.0</td>\n",
       "      <td>446413.0</td>\n",
       "      <td>RS</td>\n",
       "      <td>328065</td>\n",
       "      <td>Automóvel</td>\n",
       "      <td>FIAT/UNO ELECTRONIC                           ...</td>\n",
       "      <td>1995</td>\n",
       "      <td>Condutor</td>\n",
       "      <td>Ileso</td>\n",
       "      <td>34.0</td>\n",
       "      <td>Masculino</td>\n",
       "      <td>2007</td>\n",
       "    </tr>\n",
       "    <tr>\n",
       "      <th>22</th>\n",
       "      <td>173720.0</td>\n",
       "      <td>446416.0</td>\n",
       "      <td>RS</td>\n",
       "      <td>328067</td>\n",
       "      <td>Automóvel</td>\n",
       "      <td>GM/KADETT SL/E EFI                            ...</td>\n",
       "      <td>1992</td>\n",
       "      <td>Condutor</td>\n",
       "      <td>Ileso</td>\n",
       "      <td>22.0</td>\n",
       "      <td>Masculino</td>\n",
       "      <td>2007</td>\n",
       "    </tr>\n",
       "    <tr>\n",
       "      <th>23</th>\n",
       "      <td>173720.0</td>\n",
       "      <td>446419.0</td>\n",
       "      <td>RS</td>\n",
       "      <td>328069</td>\n",
       "      <td>Automóvel</td>\n",
       "      <td>RENAULT/CLIO EXP 16 16VH</td>\n",
       "      <td>2006</td>\n",
       "      <td>Condutor</td>\n",
       "      <td>Ileso</td>\n",
       "      <td>31.0</td>\n",
       "      <td>Masculino</td>\n",
       "      <td>2007</td>\n",
       "    </tr>\n",
       "    <tr>\n",
       "      <th>24</th>\n",
       "      <td>173720.0</td>\n",
       "      <td>446425.0</td>\n",
       "      <td>RS</td>\n",
       "      <td>328070</td>\n",
       "      <td>Automóvel</td>\n",
       "      <td>GM/VECTRA CD                                  ...</td>\n",
       "      <td>1999</td>\n",
       "      <td>Condutor</td>\n",
       "      <td>Ileso</td>\n",
       "      <td>32.0</td>\n",
       "      <td>Masculino</td>\n",
       "      <td>2007</td>\n",
       "    </tr>\n",
       "    <tr>\n",
       "      <th>66</th>\n",
       "      <td>173771.0</td>\n",
       "      <td>446584.0</td>\n",
       "      <td>RS</td>\n",
       "      <td>328148</td>\n",
       "      <td>Automóvel</td>\n",
       "      <td>GM/MONZA CLASSIC SE EFI                       ...</td>\n",
       "      <td>1991</td>\n",
       "      <td>Condutor</td>\n",
       "      <td>Ferido Leve</td>\n",
       "      <td>22.0</td>\n",
       "      <td>Masculino</td>\n",
       "      <td>2007</td>\n",
       "    </tr>\n",
       "    <tr>\n",
       "      <th>67</th>\n",
       "      <td>173771.0</td>\n",
       "      <td>446586.0</td>\n",
       "      <td>RS</td>\n",
       "      <td>328149</td>\n",
       "      <td>Automóvel</td>\n",
       "      <td>VW/GOL 16V                                    ...</td>\n",
       "      <td>1998</td>\n",
       "      <td>Condutor</td>\n",
       "      <td>Ileso</td>\n",
       "      <td>32.0</td>\n",
       "      <td>Masculino</td>\n",
       "      <td>2007</td>\n",
       "    </tr>\n",
       "    <tr>\n",
       "      <th>108</th>\n",
       "      <td>173838.0</td>\n",
       "      <td>446787.0</td>\n",
       "      <td>RS</td>\n",
       "      <td>328243</td>\n",
       "      <td>Automóvel</td>\n",
       "      <td>GM/CHEVETTE SE                                ...</td>\n",
       "      <td>1986</td>\n",
       "      <td>Condutor</td>\n",
       "      <td>Ferido Grave</td>\n",
       "      <td>33.0</td>\n",
       "      <td>Masculino</td>\n",
       "      <td>2007</td>\n",
       "    </tr>\n",
       "    <tr>\n",
       "      <th>109</th>\n",
       "      <td>173838.0</td>\n",
       "      <td>446791.0</td>\n",
       "      <td>RS</td>\n",
       "      <td>328245</td>\n",
       "      <td>Automóvel</td>\n",
       "      <td>GM/ASTRA EXPRESSION</td>\n",
       "      <td>2002</td>\n",
       "      <td>Condutor</td>\n",
       "      <td>Ileso</td>\n",
       "      <td>49.0</td>\n",
       "      <td>Masculino</td>\n",
       "      <td>2007</td>\n",
       "    </tr>\n",
       "    <tr>\n",
       "      <th>110</th>\n",
       "      <td>173838.0</td>\n",
       "      <td>450818.0</td>\n",
       "      <td>RS</td>\n",
       "      <td>328243</td>\n",
       "      <td>Automóvel</td>\n",
       "      <td>GM/CHEVETTE SE                                ...</td>\n",
       "      <td>1986</td>\n",
       "      <td>Passageiro</td>\n",
       "      <td>Ferido Leve</td>\n",
       "      <td>27.0</td>\n",
       "      <td>Feminino</td>\n",
       "      <td>2007</td>\n",
       "    </tr>\n",
       "    <tr>\n",
       "      <th>111</th>\n",
       "      <td>173838.0</td>\n",
       "      <td>450820.0</td>\n",
       "      <td>RS</td>\n",
       "      <td>328243</td>\n",
       "      <td>Automóvel</td>\n",
       "      <td>GM/CHEVETTE SE                                ...</td>\n",
       "      <td>1986</td>\n",
       "      <td>Passageiro</td>\n",
       "      <td>Ferido Grave</td>\n",
       "      <td>22.0</td>\n",
       "      <td>Feminino</td>\n",
       "      <td>2007</td>\n",
       "    </tr>\n",
       "  </tbody>\n",
       "</table>\n",
       "</div>"
      ],
      "text/plain": [
       "           id     pesid  uf id_veiculo tipo_veiculo  \\\n",
       "21   173720.0  446413.0  RS     328065    Automóvel   \n",
       "22   173720.0  446416.0  RS     328067    Automóvel   \n",
       "23   173720.0  446419.0  RS     328069    Automóvel   \n",
       "24   173720.0  446425.0  RS     328070    Automóvel   \n",
       "66   173771.0  446584.0  RS     328148    Automóvel   \n",
       "67   173771.0  446586.0  RS     328149    Automóvel   \n",
       "108  173838.0  446787.0  RS     328243    Automóvel   \n",
       "109  173838.0  446791.0  RS     328245    Automóvel   \n",
       "110  173838.0  450818.0  RS     328243    Automóvel   \n",
       "111  173838.0  450820.0  RS     328243    Automóvel   \n",
       "\n",
       "                                                 marca ano_fabricacao_veiculo  \\\n",
       "21   FIAT/UNO ELECTRONIC                           ...                   1995   \n",
       "22   GM/KADETT SL/E EFI                            ...                   1992   \n",
       "23                            RENAULT/CLIO EXP 16 16VH                   2006   \n",
       "24   GM/VECTRA CD                                  ...                   1999   \n",
       "66   GM/MONZA CLASSIC SE EFI                       ...                   1991   \n",
       "67   VW/GOL 16V                                    ...                   1998   \n",
       "108  GM/CHEVETTE SE                                ...                   1986   \n",
       "109                                GM/ASTRA EXPRESSION                   2002   \n",
       "110  GM/CHEVETTE SE                                ...                   1986   \n",
       "111  GM/CHEVETTE SE                                ...                   1986   \n",
       "\n",
       "    tipo_envolvido estado_fisico  idade       sexo   ano  \n",
       "21        Condutor  Ileso          34.0  Masculino  2007  \n",
       "22        Condutor  Ileso          22.0  Masculino  2007  \n",
       "23        Condutor  Ileso          31.0  Masculino  2007  \n",
       "24        Condutor  Ileso          32.0  Masculino  2007  \n",
       "66        Condutor  Ferido Leve    22.0  Masculino  2007  \n",
       "67        Condutor  Ileso          32.0  Masculino  2007  \n",
       "108       Condutor  Ferido Grave   33.0  Masculino  2007  \n",
       "109       Condutor  Ileso          49.0  Masculino  2007  \n",
       "110     Passageiro  Ferido Leve    27.0   Feminino  2007  \n",
       "111     Passageiro  Ferido Grave   22.0   Feminino  2007  "
      ]
     },
     "execution_count": 6,
     "metadata": {},
     "output_type": "execute_result"
    }
   ],
   "source": [
    "df= df[df['uf'] == 'RS']\n",
    "df.head(10)"
   ]
  },
  {
   "cell_type": "markdown",
   "metadata": {},
   "source": [
    "### **1.2 Descrição dos dados:**\n",
    "\n",
    "Visualizar as colunas e os respectivos tipos de dados que elas estão classificadas"
   ]
  },
  {
   "cell_type": "code",
   "execution_count": 7,
   "metadata": {},
   "outputs": [
    {
     "name": "stdout",
     "output_type": "stream",
     "text": [
      "<class 'pandas.core.frame.DataFrame'>\n",
      "Int64Index: 310072 entries, 21 to 104182\n",
      "Data columns (total 12 columns):\n",
      " #   Column                  Non-Null Count   Dtype  \n",
      "---  ------                  --------------   -----  \n",
      " 0   id                      310072 non-null  float64\n",
      " 1   pesid                   310072 non-null  float64\n",
      " 2   uf                      310072 non-null  object \n",
      " 3   id_veiculo              309841 non-null  object \n",
      " 4   tipo_veiculo            309842 non-null  object \n",
      " 5   marca                   306618 non-null  object \n",
      " 6   ano_fabricacao_veiculo  307603 non-null  object \n",
      " 7   tipo_envolvido          310072 non-null  object \n",
      " 8   estado_fisico           310072 non-null  object \n",
      " 9   idade                   303753 non-null  float64\n",
      " 10  sexo                    310034 non-null  object \n",
      " 11  ano                     310072 non-null  int64  \n",
      "dtypes: float64(3), int64(1), object(8)\n",
      "memory usage: 30.8+ MB\n"
     ]
    }
   ],
   "source": [
    "df.info()"
   ]
  },
  {
   "cell_type": "markdown",
   "metadata": {},
   "source": [
    "- **Quantidade de linhas e colunas**"
   ]
  },
  {
   "cell_type": "code",
   "execution_count": 8,
   "metadata": {},
   "outputs": [
    {
     "name": "stdout",
     "output_type": "stream",
     "text": [
      "310072 linhas e 12 colunas.\n"
     ]
    }
   ],
   "source": [
    "print(f\"{df.shape[0]} linhas e {df.shape[1]} colunas.\")"
   ]
  },
  {
   "cell_type": "markdown",
   "metadata": {},
   "source": [
    "#### **1.2.1 breve limpeza dos dados**"
   ]
  },
  {
   "cell_type": "markdown",
   "metadata": {},
   "source": [
    "- **Eliminar linhas duplicadas do dataframe:**"
   ]
  },
  {
   "cell_type": "code",
   "execution_count": 9,
   "metadata": {},
   "outputs": [],
   "source": [
    "df.drop_duplicates(subset=cols, keep='first', inplace=True)"
   ]
  },
  {
   "cell_type": "code",
   "execution_count": 10,
   "metadata": {},
   "outputs": [
    {
     "name": "stdout",
     "output_type": "stream",
     "text": [
      "Após a remoção dos registros duplicados: 310065 linhas e 12 colunas.\n"
     ]
    }
   ],
   "source": [
    "print(f\"Após a remoção dos registros duplicados: {df.shape[0]} linhas e {df.shape[1]} colunas.\")"
   ]
  },
  {
   "cell_type": "markdown",
   "metadata": {},
   "source": [
    "- **_missing_ values**"
   ]
  },
  {
   "cell_type": "code",
   "execution_count": 11,
   "metadata": {},
   "outputs": [
    {
     "data": {
      "text/plain": [
       "id                        0.000000\n",
       "pesid                     0.000000\n",
       "uf                        0.000000\n",
       "tipo_envolvido            0.000000\n",
       "estado_fisico             0.000000\n",
       "ano                       0.000000\n",
       "sexo                      0.000123\n",
       "tipo_veiculo              0.000742\n",
       "id_veiculo                0.000745\n",
       "ano_fabricacao_veiculo    0.007963\n",
       "marca                     0.011140\n",
       "idade                     0.020380\n",
       "dtype: float64"
      ]
     },
     "execution_count": 11,
     "metadata": {},
     "output_type": "execute_result"
    }
   ],
   "source": [
    "# Porcentagem de valores faltantes\n",
    "(df.isnull().sum()/df.shape[0]).sort_values()"
   ]
  },
  {
   "cell_type": "markdown",
   "metadata": {},
   "source": [
    "- **Eliminar linhas com todos os valores incompletos ou nulos:**"
   ]
  },
  {
   "cell_type": "code",
   "execution_count": 12,
   "metadata": {},
   "outputs": [],
   "source": [
    "df.dropna(how='all', inplace=True)"
   ]
  },
  {
   "cell_type": "code",
   "execution_count": 13,
   "metadata": {},
   "outputs": [
    {
     "name": "stdout",
     "output_type": "stream",
     "text": [
      "Após a remoção dos registros nulos: 310065 linhas e 12 colunas.\n"
     ]
    }
   ],
   "source": [
    "print(f\"Após a remoção dos registros nulos: {df.shape[0]} linhas e {df.shape[1]} colunas.\")"
   ]
  },
  {
   "cell_type": "markdown",
   "metadata": {},
   "source": [
    "- **Reindexar os registros, por conta da remoção das duplicatas**"
   ]
  },
  {
   "cell_type": "code",
   "execution_count": 14,
   "metadata": {},
   "outputs": [],
   "source": [
    "df.index = range(len(df))"
   ]
  },
  {
   "cell_type": "markdown",
   "metadata": {},
   "source": [
    "### **3. Visualização dos valores possíveis**\n",
    "\n",
    "Vamos verificar os valores das variáveis categóricas:\n",
    "\n",
    "- **`tipo_envolvido`**\n",
    "- **`estado_fisico`**\n",
    "- **`tipo_veiculo`**\n",
    "- **`marca`**\n",
    "- **`sexo`**\n",
    "\n",
    "e algumas visualizações sobre tendências nas variáveis numéricas como:\n",
    "- **`ano_fabricacao_veiculo`**\n",
    "- **`idade`**"
   ]
  },
  {
   "cell_type": "code",
   "execution_count": 15,
   "metadata": {},
   "outputs": [
    {
     "data": {
      "text/plain": [
       "array(['Condutor', 'Passageiro', 'Vítima', 'Pedestre', 'Autor',\n",
       "       'Cavaleiro', 'Ciclista', 'Testemunha'], dtype=object)"
      ]
     },
     "execution_count": 15,
     "metadata": {},
     "output_type": "execute_result"
    }
   ],
   "source": [
    "df['tipo_envolvido'].unique()"
   ]
  },
  {
   "cell_type": "code",
   "execution_count": 16,
   "metadata": {},
   "outputs": [
    {
     "data": {
      "text/plain": [
       "array(['Ileso       ', 'Ferido Leve ', 'Ferido Grave', 'Ignorado    ',\n",
       "       'Morto       ', '(null)', 'Ileso', 'Ferido Leve', 'Ignorado',\n",
       "       'Morto', 'Lesões Leves', 'Não Informado', 'Lesões Graves', 'Óbito'],\n",
       "      dtype=object)"
      ]
     },
     "execution_count": 16,
     "metadata": {},
     "output_type": "execute_result"
    }
   ],
   "source": [
    "df['estado_fisico'].unique()"
   ]
  },
  {
   "cell_type": "code",
   "execution_count": 17,
   "metadata": {},
   "outputs": [
    {
     "data": {
      "text/plain": [
       "array(['Automóvel', 'Motocicletas', 'Caminhão', 'Caminhonete',\n",
       "       'Camioneta', 'Caminhão-Trator', '(null)', 'Não identificado',\n",
       "       'Reboque', 'Bicicleta', 'Motoneta', 'Ônibus', 'Microônibus',\n",
       "       'Caminhão-Tanque', 'Utilitário', 'Trator de rodas', 'Carroça',\n",
       "       'Semi-Reboque', 'Charrete', 'Triciclo', 'Trator misto',\n",
       "       'Bonde / Trem', 'Ciclomotor', 'Carro-de-mao', 'Quadriciclo',\n",
       "       'Trator de esteiras', 'Motor-Casa', nan, 'Motocicleta',\n",
       "       'Micro-ônibus', 'Caminhão-trator', 'Não Informado', 'Semireboque',\n",
       "       'Outros', 'Carroça-charrete', 'Chassi-plataforma', 'Carro de mão',\n",
       "       'Trem-bonde'], dtype=object)"
      ]
     },
     "execution_count": 17,
     "metadata": {},
     "output_type": "execute_result"
    }
   ],
   "source": [
    "df['tipo_veiculo'].unique()"
   ]
  },
  {
   "cell_type": "code",
   "execution_count": 18,
   "metadata": {},
   "outputs": [
    {
     "data": {
      "text/plain": [
       "array(['FIAT/UNO ELECTRONIC                               ',\n",
       "       'GM/KADETT SL/E EFI                                ',\n",
       "       'RENAULT/CLIO EXP 16 16VH', ..., 'I/JAG FPACE 250CVG PREST',\n",
       "       'I/LR EVOQUE PRESTIGE 5D', 'I/TOYOTA HILUX CSLSTM4FD'],\n",
       "      dtype=object)"
      ]
     },
     "execution_count": 18,
     "metadata": {},
     "output_type": "execute_result"
    }
   ],
   "source": [
    "df['marca'].unique()"
   ]
  },
  {
   "cell_type": "code",
   "execution_count": 19,
   "metadata": {},
   "outputs": [
    {
     "data": {
      "text/plain": [
       "array(['Masculino', 'Feminino', 'Não Informado', nan, 'Inválido', 'F',\n",
       "       'M', 'I', 'Ignorado'], dtype=object)"
      ]
     },
     "execution_count": 19,
     "metadata": {},
     "output_type": "execute_result"
    }
   ],
   "source": [
    "df['sexo'].unique()"
   ]
  },
  {
   "cell_type": "code",
   "execution_count": 20,
   "metadata": {},
   "outputs": [
    {
     "data": {
      "text/plain": [
       "906.0     9\n",
       "117.0     4\n",
       "118.0     4\n",
       "2016.0    3\n",
       "2017.0    3\n",
       "908.0     3\n",
       "120.0     2\n",
       "116.0     2\n",
       "947.0     1\n",
       "2015.0    1\n",
       "101.0     1\n",
       "1046.0    1\n",
       "113.0     1\n",
       "115.0     1\n",
       "129.0     1\n",
       "112.0     1\n",
       "1033.0    1\n",
       "1916.0    1\n",
       "1917.0    1\n",
       "133.0     1\n",
       "2011.0    1\n",
       "103.0     1\n",
       "131.0     1\n",
       "952.0     1\n",
       "119.0     1\n",
       "1931.0    1\n",
       "1996.0    1\n",
       "Name: idade, dtype: int64"
      ]
     },
     "execution_count": 20,
     "metadata": {},
     "output_type": "execute_result"
    }
   ],
   "source": [
    "df.loc[df['idade'] > 100, 'idade'].value_counts()"
   ]
  },
  {
   "cell_type": "markdown",
   "metadata": {},
   "source": [
    "---\n",
    "- **Análise dos valores**\n",
    "\n",
    "OK, para o **`tipo_envolvido`** temos os valores: \n",
    "* \"Condutor\", \n",
    "* \"Passageiro\", \n",
    "* \"Pedestre\", \n",
    "* \"Testemunha\", \n",
    "* \"Cavaleiro\", \n",
    "* \"Vítima\", \n",
    "* \"Autor\", \n",
    "* \"Ciclista\", \n",
    "* \"Não Informado\", \n",
    "* \"Proprietário de Carga\" \n",
    "* \"Proprietário da CNH\". \n",
    "\n",
    "Todos os valores estão limpos e não são duplicados.\n",
    "\n",
    "---\n",
    "**`estado_fisico`** possui os valores: 'Ileso       ', 'Ferido Leve ', 'Ferido Grave', 'Morto       ', 'Ignorado    ', '(null)', 'Morto', 'Ileso', 'Ferido Leve', 'Ignorado', nan, 'Lesões Graves', 'Lesões Leves', 'Óbito', 'Não Informado'. Podemos observar alguns espaços em branco que discretizam valores, porém são duplicados, e também há erro sobre os valores nulos '(null)' que devem ser descartados. E valores sinônimos, como Ferido ou Lesões, e óbito e morte. Portanto, os valores únicos reais são: \n",
    "* \"Ileso\", \n",
    "* \"Ferido Leve\", \n",
    "* \"Ferido Grave\", \n",
    "* \"Óbito\", \n",
    "* \"Ignorado\",\n",
    "* \"Não informado\"\n",
    "\n",
    "---\n",
    "**`tipo_veiculo`** possui os valores: \n",
    "'Automóvel', 'Camioneta', '(null)', 'Caminhão', 'Caminhonete',\n",
    "       'Motocicletas', 'Ônibus', 'Não identificado', 'Microônibus',\n",
    "       'Caminhão-Trator', 'Motoneta', 'Bicicleta', 'Reboque', 'Carroça',\n",
    "       'Utilitário', 'Semi-Reboque', 'Caminhão-Tanque', 'Charrete',\n",
    "       'Trator de esteiras', 'Trator de rodas', 'Trator misto',\n",
    "       'Carro-de-mao', 'Ciclomotor', 'Bonde / Trem', 'Triciclo',\n",
    "       'Quadriciclo', 'Side-car', 'Motor-Casa', nan, 'Motocicleta',\n",
    "       'Caminhão-trator', 'Carroça-charrete', 'Semireboque',\n",
    "       'Micro-ônibus', 'Outros', 'Não Informado', 'Carro de mão',\n",
    "       'Trem-bonde', 'Chassi-plataforma', 'Trator de esteira'. Possui o valor '(null)' que deve ser removido, e alguns valores equivalentes, como \"Carro-de-mao' e 'Carro de mão'; Todos os tratores para \"Trator\"; \"Semi-reboque\" e \"Semireboque\"; \"Micro-ônibus\" e \"Microonibus\".\n",
    "       \n",
    "Os valores únicos reais são:\n",
    "* \"Automóvel\",\n",
    "* \"Camioneta\",\n",
    "* \"Caminhonete\", (esses dois parecem ambíguos mas são distintos)\n",
    "* \"Motocicletas\",\n",
    "* \"Ônibus\",\n",
    "* \"Microônibus\",\n",
    "* \"Caminhão-Trator\",\n",
    "* \"Motoneta\",\n",
    "* \"Bicicleta\",\n",
    "* \"Reboque\",\n",
    "* \"Carroça\",\n",
    "* \"Utilitário\",\n",
    "* \"Semi-reboque\",\n",
    "* \"Caminhão-Tanque\",\n",
    "* \"Charrete\",\n",
    "* \"Trator\"\n",
    "* \"Carro de mao\",\n",
    "* \"Ciclomotor\",\n",
    "* \"Bonde / Trem\", \n",
    "* \"Triciclo\",\n",
    "* \"Quadriciclo\", \n",
    "* \"Side-car\", \n",
    "* \"Motor-Casa\", \n",
    "* \"Motocicleta\",\n",
    "* \"Caminhão-trator\",\n",
    "* \"Carroça-charrete\",\n",
    "* \"Outros\",\n",
    "* \"Não Informado\",\n",
    "* \"Trem-bonde\",\n",
    "* \"Chassi-plataforma\"\n",
    "\n",
    "---\n",
    "**`marca`** possui um padrão de \"marca\" / \"modelo do veículo\".\n",
    "\n",
    "---\n",
    "**`sexo`** compreende os valores: 'Masculino', 'Feminino', nan, 'Não Informado', 'Inválido', 'M', 'F', 'I', 'Ignorado'. Porém esses valores são abreviações. Portanto, os valores reais e utilizados são:\n",
    "\n",
    "* \"Masculino\",\n",
    "* \"Feminino\",\n",
    "* \"Não Informado\",\n",
    "* \"Inválido\"\n",
    "\n",
    "---\n",
    "**`idade`** \n",
    "\n",
    "Esse campo possui idades superiores a 100, iremos descartá-los e preenche-los com a média.\n",
    "A idade também possui valores que parecem representar a data de nascimento. Por isso, devemos subtrair do ano de 2020 o ano de nascimento, para aproximarmos a idade real."
   ]
  },
  {
   "cell_type": "markdown",
   "metadata": {},
   "source": [
    "# **2.0 Limpeza dos dados**"
   ]
  },
  {
   "cell_type": "markdown",
   "metadata": {},
   "source": [
    "---\n",
    "Coluna **`id`** (id do acidente):\n",
    "\n",
    "Nesta coluna os valores nulos viram -1 e alteramos o tipo de dado da coluna para int64"
   ]
  },
  {
   "cell_type": "code",
   "execution_count": 21,
   "metadata": {},
   "outputs": [
    {
     "data": {
      "text/plain": [
       "83524559    67\n",
       "940375      54\n",
       "83115311    52\n",
       "73825       52\n",
       "397501      51\n",
       "83071850    50\n",
       "115917      49\n",
       "479314      49\n",
       "120498      49\n",
       "246908      48\n",
       "Name: id, dtype: int64"
      ]
     },
     "execution_count": 21,
     "metadata": {},
     "output_type": "execute_result"
    }
   ],
   "source": [
    "#df[\"id\"].isnull().value_counts()\n",
    "df[\"id\"].fillna(-1, inplace=True)\n",
    "df[\"id\"] = df[\"id\"].astype(np.int64)\n",
    "df[\"id\"].value_counts().head(10)"
   ]
  },
  {
   "cell_type": "markdown",
   "metadata": {},
   "source": [
    "---\n",
    "Coluna **`pesid`** (id da pessoa):\n",
    "\n",
    "Nesta coluna os valores nulos viram -1 e alteramos o tipo de dado da coluna para int64"
   ]
  },
  {
   "cell_type": "code",
   "execution_count": 22,
   "metadata": {},
   "outputs": [
    {
     "data": {
      "text/plain": [
       "594689    2\n",
       "478209    2\n",
       "531004    2\n",
       "557944    2\n",
       "594121    2\n",
       "456023    2\n",
       "516074    2\n",
       "529386    2\n",
       "561588    2\n",
       "481111    2\n",
       "Name: pesid, dtype: int64"
      ]
     },
     "execution_count": 22,
     "metadata": {},
     "output_type": "execute_result"
    }
   ],
   "source": [
    "# df.isnull().value_counts()\n",
    "df[\"pesid\"].fillna(-1, inplace=True)\n",
    "df[\"pesid\"] = df[\"pesid\"].astype(np.int64)\n",
    "df[\"pesid\"].value_counts().head(10)"
   ]
  },
  {
   "cell_type": "markdown",
   "metadata": {},
   "source": [
    "---\n",
    "Coluna **`id_veiculo`** (id dos veículos):\n",
    "\n",
    "Aqui normalizamos os campos (null) para número -1, retiramos os espaços em branco, dados com valores 'Na' viraram -1 e o tipo de dado da coluna foi alterado para int64"
   ]
  },
  {
   "cell_type": "code",
   "execution_count": 23,
   "metadata": {},
   "outputs": [
    {
     "data": {
      "text/plain": [
       "-1           3126\n",
       " 19177325      67\n",
       " 2589726       53\n",
       " 131185        51\n",
       " 707189        50\n",
       " 18395315      49\n",
       " 847849        48\n",
       " 2970439       47\n",
       " 2251322       47\n",
       " 440584        47\n",
       "Name: id_veiculo, dtype: int64"
      ]
     },
     "execution_count": 23,
     "metadata": {},
     "output_type": "execute_result"
    }
   ],
   "source": [
    "df[\"id_veiculo\"] = df[\"id_veiculo\"].replace('(null)', np.nan)\n",
    "df[\"id_veiculo\"].fillna(-1, inplace=True)\n",
    "df[\"id_veiculo\"] = df[\"id_veiculo\"].astype(np.int64)\n",
    "df[\"id_veiculo\"].value_counts().head(10)"
   ]
  },
  {
   "cell_type": "markdown",
   "metadata": {},
   "source": [
    "---\n",
    "Coluna **`tipo_veiculo`**(tipo de veículos):\n",
    "\n",
    "Normalizamos os campos (null) para 'Não Informado' e também normalizamos nomes parecidos mas com mesmo significado"
   ]
  },
  {
   "cell_type": "code",
   "execution_count": 24,
   "metadata": {
    "scrolled": true
   },
   "outputs": [
    {
     "data": {
      "text/plain": [
       "Automóvel            172156\n",
       "Caminhão              49446\n",
       "Motocicleta           30600\n",
       "Caminhonete           20853\n",
       "Camioneta             12513\n",
       "Ônibus                 9927\n",
       "Não informado          3838\n",
       "Motoneta               2917\n",
       "Micro-ônibus           2196\n",
       "Utilitário             2192\n",
       "Bicicleta              2130\n",
       "Carroça                 412\n",
       "Trator                  315\n",
       "Semi-reboque            157\n",
       "Charrete                118\n",
       "Outros                  105\n",
       "Reboque                  62\n",
       "Trem                     60\n",
       "Ciclomotor               33\n",
       "Triciclo                 16\n",
       "Motor-Casa                8\n",
       "Carro de mão              6\n",
       "Quadriciclo               4\n",
       "Chassi-plataforma         1\n",
       "Name: tipo_veiculo, dtype: int64"
      ]
     },
     "execution_count": 24,
     "metadata": {},
     "output_type": "execute_result"
    }
   ],
   "source": [
    "seri = pd.Series(df[\"tipo_veiculo\"])\n",
    "seri = seri.str.strip()\n",
    "df[\"tipo_veiculo\"]= seri\n",
    "\n",
    "df[\"tipo_veiculo\"] = df[\"tipo_veiculo\"].replace('(null)', np.nan)\n",
    "df[\"tipo_veiculo\"].fillna('Não informado', inplace=True)\n",
    "\n",
    "correcao_nomes = {\n",
    "    'Automóvel': 'Automóvel',\n",
    "    'Caminhão': 'Caminhão',\n",
    "    'Caminhão-Trator': 'Caminhão',\n",
    "    'Caminhão-Tanque':'Caminhão',\n",
    "    'Motocicletas': 'Motocicleta',\n",
    "    'Motocicleta': 'Motocicleta',\n",
    "    'Caminhonete': 'Caminhonete',\n",
    "    'Ônibus': 'Ônibus',\n",
    "    'Camioneta' : 'Camioneta',\n",
    "    'Não informado': 'Não informado',\n",
    "    'Não identificado': 'Não informado',\n",
    "    'Não Informado': 'Não informado',\n",
    "    'Caminhão-trator': 'Caminhão',\n",
    "    'Motoneta': 'Motoneta',\n",
    "    'Bicicleta': 'Bicicleta',\n",
    "    'Microônibus': 'Micro-ônibus',\n",
    "    'Micro-ônibus': 'Micro-ônibus',\n",
    "    'Utilitário': 'Utilitário',\n",
    "    'Ciclomotor':'Ciclomotor',\n",
    "    'Outros': 'Outros',\n",
    "    'Trator de rodas': 'Trator',\n",
    "    'Trator misto': 'Trator',\n",
    "    'Trator de esteiras': 'Trator',\n",
    "    'Trator de esteira': 'Trator',\n",
    "    'Carroça': 'Carroça',\n",
    "    'Carroça-charrete': 'Carroça',\n",
    "    'Semi-Reboque': 'Semi-reboque',\n",
    "    'Semireboque': 'Semi-reboque',\n",
    "    'Reboque': 'Reboque',\n",
    "    'Triciclo': 'Triciclo',\n",
    "    'Charrete': 'Charrete',\n",
    "    'Bonde / Trem': 'Trem',\n",
    "    'Trem-bonde': 'Trem',\n",
    "    'Carro-de-mao': 'Carro de mão',\n",
    "    'Carro de mão': 'Carro de mão',\n",
    "    'Quadriciclo': 'Quadriciclo',\n",
    "    'Motor-Casa': 'Motor-Casa',\n",
    "    'Chassi-plataforma': 'Chassi-plataforma',\n",
    "    'Side-car': 'Side-car',\n",
    "}\n",
    "\n",
    "df[\"tipo_veiculo\"] = df[\"tipo_veiculo\"].replace(correcao_nomes)\n",
    "\n",
    "#df['tipo_veiculo'].unique()\n",
    "df.tipo_veiculo.value_counts()"
   ]
  },
  {
   "cell_type": "markdown",
   "metadata": {},
   "source": [
    "--- \n",
    "Coluna **`marca`**(marca e modelo dos veículos):\n",
    "\n",
    "Normalizamos os campos (null) para 'Não Informado', normalizamos nomes parecidos dos fabricantes mas com mesmo significado para nomes padrão, retiramos espaços em branco no inicio e final das palavras"
   ]
  },
  {
   "cell_type": "code",
   "execution_count": 25,
   "metadata": {},
   "outputs": [
    {
     "name": "stdout",
     "output_type": "stream",
     "text": [
      "tempo de execução: 0.8106324791908264 minutos\n"
     ]
    },
    {
     "data": {
      "text/plain": [
       "Não informado             36345\n",
       "VOLKSWAGEN/GOL 1.0         4853\n",
       "CHEVROLET/CORSA WIND       2818\n",
       "HONDA/CG 150 TITAN KS      2400\n",
       "FORD/FIESTA                1821\n",
       "HONDA/CBX 250 TWISTER      1748\n",
       "HONDA/CG 125 FAN           1728\n",
       "VOLKSWAGEN/GOL SPECIAL     1495\n",
       "CHEVROLET/CELTA            1450\n",
       "CHEVROLET/VECTRA GLS       1424\n",
       "Name: marca, dtype: int64"
      ]
     },
     "execution_count": 25,
     "metadata": {},
     "output_type": "execute_result"
    }
   ],
   "source": [
    "inicio = time.time()\n",
    "\n",
    "seri = pd.Series(df[\"marca\"])\n",
    "seri = seri.str.strip()\n",
    "df[\"marca\"] = seri\n",
    "\n",
    "df[\"marca\"] = df[\"marca\"].replace('(null)', np.nan)\n",
    "df[\"marca\"].fillna(\"Não informado\", inplace=True)\n",
    "\n",
    "str_old = ['I/ALFA ROMEO','I/ALFA ROMEU','I/AUDI','IMP/AUDI','I/BASHAN','I/BENELLI','I/BENZHOU','IMP/BMW','I/BMW',\n",
    "           'IMP/GM','I/CHEVROLET','CHEV/','GM/','I/GM','I/CHEV','IMP/CITROEN','IMP/CETROEN','I/CITROEN',\n",
    "           'CITROE/','IMP/CHRYSLER','I/CHRYSLER','IMP/DAIHATSU','CHRY/DODGE','I/DODGE','I/FIAT','IMP/FIAT',\n",
    "           'IMP/FORD','M.A./FORD','I/FORD','H.DAVIDSON/','I/H DAVIDSON','I/RAM','I/HARLEY DAVIDSON','HARLEY DAVIDSON/',\n",
    "           'REB/FORTCAR','I/HUARI','I/H.DAVIDSON','H/HONDA','I/HONDA','IMP/HONDA','HTA/HONDA','I/HYUNDAI',\n",
    "           'HYUNDA/','IMP/HYUNDAI','I/IVECO','IMP/IVECOFIAT','I/JAGUAR','I/JAC','IMP/KAWAZAKI','AVA/KAWASAKI',\n",
    "           'I/KAWASAKI','I/KIA','IMP/KIA','I/M.BENZ','MBENZ/','M.BENZ/','M.B./','I/MERCEDES',\n",
    "           'IMP/MBENZ','IMP/M.BENZ','I/MB' ,'I/MBENZ','I/L.ROVER','IMP/LAND ROVER','I/LR',\n",
    "           'IMP/ GM','IMP/CHEVROLET','I/CHANGHE','MMC/','I/MMC','IMP/MMC',\n",
    "           'IMP/IVECO','MA/MASSEY','I/YINGANG','I/NISSAN','IMP/NISSAN','I/OPEL','I/PEUGEOT','IMP/PEUGEOT',\n",
    "           'I/PORSCHE','I/RENAULT','IMP/RENAULT','I/SCANIA','IMP/SCANIA','I/SUZUKI','JTA/SUZUKI','IMP/SUZUKI',\n",
    "           'I/SHAANXI','I/SHINERAY','I/TOYOTA','IMP/TOYOTA','I/TRAXX','IMP/VW','VW/','I/VW','I/VOLVO','IMP/VOLVO',\n",
    "           'IMP/YAMAHA','I/YAMAHA','I/BRP','I/BUELL','I/BYD','I/CHACOMER','I/CHANGAN','I/CHARMING',\n",
    "           'I/CHERY''I/DAF','I/DAJIANG','I/DAYANG','I/DAYUN','I/DUCATI','I/FERRARI','I/FOTON','I/FYM','I/HAFEI','I/JEEP',\n",
    "           'I/MAN','I/MINI COOPER','I/DACIA RENAULT','I/LEOPARD','I/CTM GREEN SPORT','I/WUYANG','I/LIFAN','IMP/DAEWOO',\n",
    "           'IMP/ASIA','I/SSANGYONG','I/SEAT','I/SINOTRUK','I/SUBARU','I/LIFAN','I/WUYANG','I/JIALING',\n",
    "           'CITROEN PICASSO','FIAT UNO','FORD F250','Fiat/','GMC/','HARLEY-DAVIDSON/','HARLEYDAVIDSON/',\n",
    "           'I/ASTON MARTIN','I/AUSTIN','I/ASIA','I/CHANGE','I/CHERY','I/CHRYLER','I/CRHYSLER','I/DAEWOO',\n",
    "           'I/CTM','I/DAF','I/DAIHATSU','I/DERBI','I/DFM','I/GEELY','I/GREAT','I/HAOJIAN','I/HARLEY-DAVIDSON',\n",
    "           'I/HERO','I/HP','I/HUANGHAI','I/HYOSUNG','I/INFINITI','I/JAG','I/JIANGSU','I/JIANSHE','I/JINBEI',\n",
    "            '0CHEVROLET/','BMC/','BRP/','I/LAND ROVER','I/LEXUS','I/LONCIN',\n",
    "            'I/MAZDA','I/MO','I/MOTOR-CASA','I/TRIUMPH','I/VOLKSWAGEN','IMP/ALFA ROMEO','IMP/DAELIM',\n",
    "            'H DAVIDSON','IMP/HP','IMP/JEEP','IMP/KAWASAKI','IMP/L.ROVER','IMP/LADA','IMP/MAZDA','IMP/MERCED.',\n",
    "            'IMP/MERCEDES','IMP/SEAT','IMP/VOLKSWAGEN','IVECOFIAT/','LR/','LROVER/','M. BENZ /','M.A./',\n",
    "            'M.B/','M.BENZ','MA/VALTRA','MIA/MITSUBISHI','MO/FORD','MO/SCANIA','MPOLO/','MR/CASE',\n",
    "            'MR/JOHNDEERE','REB/','RENALT/','SR/LIBRELATO','SR/RANDON','VOLKS/','VOLVO/ ','VW','Y/YAMAHA','M.A/CASE']\n",
    "\n",
    "\n",
    "str_new = ['ALFA ROMEO/','ALFA ROMEO/','AUDI/','AUDI/','BASHAN/','BENELLI/','BENZHOU/','BMW/','BMW/',\n",
    "         'CHEVROLET/','CHEVROLET/','CHEVROLET/','CHEVROLET/','CHEVROLET/','CHEVROLET/','CITROEN/','CITROEN/','CITROEN/',\n",
    "         'CITROEN/','CHRYSLER/','CHRYSLER/','DAIHATSU/','DODGE/','DODGE/','FIAT/','FIAT/',\n",
    "         'FORD/','FORD/','FORD/','HARLEY DAVIDSON/','HARLEY DAVIDSON/','DODGE/','HARLEY DAVIDSON/',\n",
    "         'FORTCAR/','HUARI/','HARLEY DAVIDSON/','HONDA/','HONDA/','HONDA/','HONDA/','HYUNDAI/',\n",
    "         'HYUNDAI/','HYUNDAI/','IVECO/','IVECO/','JAGUAR/','JAC/','KAWASAKI/','KAWASAKI/',\n",
    "         'KAWASAKI','KIA/','KIA/','MERCEDES-BENZ/','MERCEDES-BENZ/','MERCEDES-BENZ/','MERCEDES-BENZ/','MERCEDES-BENZ/',\n",
    "         'MERCEDES-BENZ/','MERCEDES-BENZ/','MERCEDES-BENZ/','MERCEDES-BENZ/','LAND ROVER/','LAND ROVER/','LAND ROVER/',\n",
    "         'CHEVROLET/','CHEVROLET/','CHANGHE/','MITSUBISHI MOTORS/','MITSUBISHI MOTORS/','MITSUBISHI MOTORS/',\n",
    "         'IVECO/','MASSEY FERGUSON/','NAZAXX/','NISSAN/','NISSAN/','OPEL/','PEUGEOT/','PEUGEOT/',\n",
    "         'PORSCHE/','RENAULT/','RENAULT/','SCANIA/','SCANIA/','SUZUKI/','SUZUKI/','SUZUKI/',\n",
    "         'SHAANXI/','SHINERAY/','TOYOTA/','TOYOTA/','TRAXX/','VOLKSWAGEN/','VOLKSWAGEN/','VOLKSWAGEN/','VOLVO/','VOLVO/',\n",
    "         'YAMAHA/','YAMAHA/','BRP/','BUELL/','BYD/','CHACOMER/','CHANGAN/','CHARMING/',\n",
    "         'CHERY/','DAF/','DAJIANG/','DAYANG/','DAYUN/','DUCATI/','FERRARI/','FOTON/','FYM/','HAFEI/','JEEP/',\n",
    "         'MAN/','BMW/','RENAULT/','LEOPARD/','GREEN SPORT/','WUYANG/','LIFAN/','DAEWOO/',\n",
    "         'ASIA/','SSANGYONG/','SEAT/','SINOTRUK/','SUBARU/','LIFAN/','WUYANG/','JIALING/',\n",
    "         'CITROEN/PICASSO','FIAT/ UNO','FORD/ F250','FIAT/','CHEVROLET/','HARLEY DAVIDSON/','HARLEY DAVIDSON/',\n",
    "         'ASTON MARTIN/','BMW/','ASIA/','CHANGE/','CHERY/','HARLEY DAVIDSON/','HARLEY DAVIDSON/','DAEWOO/',\n",
    "         'CTM/','DAF/','DAIHATSU/','DERBI/','DFM/','GEELY/','GREAT/','HAOJIAN/','HARLEY DAVIDSON/',\n",
    "         'HERO/','HP/','HUANGHAI/','HYOSUNG/','INFINITI/','JAG/','JIANGSU/','JIANSHE/','JINBEI/',\n",
    "         'CHEVROLET/','BMW/','CAN-AM BRP/','LAND ROVER/','LEXUS/','LONCIN/',\n",
    "         'MAZDA/','MO/','MOTOR-CASA/','TRIUMPH/','VOLKSWAGEN/','ALFA ROMEO/','DAELIM/',\n",
    "         'HARLEY DAVIDSON/','HP/','JEEP/','KAWASAKI/','LAND ROVER/','LADA/','MAZDA/','MERCEDES-BENZ/',\n",
    "         'MERCEDES-BENZ/','SEAT/','VOLKSWAGEN/','IVECO/','LAND ROVER/','LAND ROVER/','MERCEDES-BENZ/','CASE/',\n",
    "         'MERCEDES-BENZ/','MERCEDES-BENZ/','VALTRA/','MITSUBISHI MOTORS/','FORD/','SCANIA/','MARCOPOLO/','CASE/',\n",
    "         'JOHNDEERE/','REBOQUE','RENAULT/','LIBRELATO/','RANDON/','VOLKSWAGEN/','VOLKSWAGEN/','VOLKSWAGEN/','YAMAHA/','CASE/']\n",
    "\n",
    "#df['marca'] = df['marca'].map(dict(zip(strArrumar, strNorm)))\n",
    "\n",
    "for old, new in zip(str_old, str_new): #este for vai percorrer a lista de strArrumar e strNorm para fazer replace no df\n",
    "    df['marca']= df['marca'].str.replace(old, new)\n",
    "  \n",
    "fim= time.time()\n",
    "print('tempo de execução:',((fim - inicio)/60),'minutos')\n",
    "df['marca'].value_counts().head(10)"
   ]
  },
  {
   "cell_type": "markdown",
   "metadata": {},
   "source": [
    "---\n",
    "Coluna **`ano_fabricacao_veiculo`**(ano de fabricação dos veículos):\n",
    "\n",
    "Nesta coluna normalizamos os campos (null) para 'nan', normalizamos nomes em branco para valor '0', retiramos os espaços em branco no inicio e final das palavras, transformamos o tipo de dado desta coluna para int32 e também os valores maiores que 2020 foram setados como 0(zero)."
   ]
  },
  {
   "cell_type": "code",
   "execution_count": 26,
   "metadata": {},
   "outputs": [
    {
     "data": {
      "text/plain": [
       "0       75254\n",
       "2008    17238\n",
       "2007    14700\n",
       "2009    13461\n",
       "2010    13277\n",
       "2006    12194\n",
       "2011    11533\n",
       "2004    10964\n",
       "2005    10955\n",
       "2001     9871\n",
       "Name: ano_fabricacao_veiculo, dtype: int64"
      ]
     },
     "execution_count": 26,
     "metadata": {},
     "output_type": "execute_result"
    }
   ],
   "source": [
    "seri = pd.Series(df[\"ano_fabricacao_veiculo\"])\n",
    "seri = seri.str.strip()\n",
    "df[\"ano_fabricacao_veiculo\"] = seri\n",
    "\n",
    "df[\"ano_fabricacao_veiculo\"] = df[\"ano_fabricacao_veiculo\"].replace('(null)', np.nan)\n",
    "df[\"ano_fabricacao_veiculo\"] = df[\"ano_fabricacao_veiculo\"].replace('', '0')\n",
    "df[\"ano_fabricacao_veiculo\"].fillna('0', inplace=True)\n",
    "\n",
    "df[\"ano_fabricacao_veiculo\"] = df[\"ano_fabricacao_veiculo\"].astype(np.int32)\n",
    "df.loc[df[\"ano_fabricacao_veiculo\"] > 2020, \"ano_fabricacao_veiculo\"] = 0\n",
    "df[\"ano_fabricacao_veiculo\"].value_counts().head(10)"
   ]
  },
  {
   "cell_type": "markdown",
   "metadata": {},
   "source": [
    "---\n",
    "Coluna **`tipo_envolvido`**(quem se envolveu no acidente):\n",
    "\n",
    "Nesta coluna retiramos espaços em branco no inicio e final das palavras"
   ]
  },
  {
   "cell_type": "code",
   "execution_count": 27,
   "metadata": {},
   "outputs": [
    {
     "data": {
      "text/plain": [
       "Condutor      245906\n",
       "Passageiro     59083\n",
       "Pedestre        3803\n",
       "Testemunha      1172\n",
       "Cavaleiro         93\n",
       "Vítima             6\n",
       "Ciclista           1\n",
       "Autor              1\n",
       "Name: tipo_envolvido, dtype: int64"
      ]
     },
     "execution_count": 27,
     "metadata": {},
     "output_type": "execute_result"
    }
   ],
   "source": [
    "seri = pd.Series(df[\"tipo_envolvido\"])\n",
    "seri = seri.str.strip()\n",
    "df[\"tipo_envolvido\"] = seri\n",
    "\n",
    "df[\"tipo_envolvido\"].value_counts()"
   ]
  },
  {
   "cell_type": "markdown",
   "metadata": {},
   "source": [
    "___\n",
    "Coluna **`estado_fisico`**(estado físico da pessoa envolvida):\n",
    "\n",
    "Normalizamos os nomes parecidos mas com mesmo significado, alteramos os valores (null) para 'Ileso', limpamos os espcaços em branco no inicio e fim das palavras"
   ]
  },
  {
   "cell_type": "code",
   "execution_count": 28,
   "metadata": {},
   "outputs": [
    {
     "data": {
      "text/plain": [
       "Ileso           222553\n",
       "Ferido Leve      63978\n",
       "Ferido Grave     18062\n",
       "Óbito             5472\n",
       "Name: estado_fisico, dtype: int64"
      ]
     },
     "execution_count": 28,
     "metadata": {},
     "output_type": "execute_result"
    }
   ],
   "source": [
    "seri = pd.Series(df[\"estado_fisico\"])\n",
    "seri = seri.str.strip()\n",
    "df[\"estado_fisico\"] = seri\n",
    "\n",
    "df[\"estado_fisico\"] = df[\"estado_fisico\"].replace('(null)', np.nan)\n",
    "df[\"estado_fisico\"].fillna('Ileso', inplace=True)\n",
    "\n",
    "est = {'Lesões Leves': 'Ferido Leve', \n",
    "       'Lesões Graves': 'Ferido Grave', \n",
    "       'Morto': 'Óbito', \n",
    "       'Ignorado': 'Ileso',\n",
    "       'Não Informado': 'Ileso', \n",
    "       'Óbito': 'Óbito', \n",
    "       'Ileso': 'Ileso', \n",
    "       'Ferido Leve': 'Ferido Leve', \n",
    "       'Ferido Grave': 'Ferido Grave'}\n",
    "df[\"estado_fisico\"] = df[\"estado_fisico\"].map(est)\n",
    "\n",
    "df[\"estado_fisico\"].value_counts()"
   ]
  },
  {
   "cell_type": "markdown",
   "metadata": {},
   "source": [
    "---\n",
    "Coluna **`idade`**(idade da pessoa):\n",
    "\n",
    "Nesta coluna normalizamos valores nulos para a média, alteramos o tipo de dado para int32, alteramos os valores com idade acima de 100 anos para o valor -1 e valores maiores que 1000 normalizamos para a média também"
   ]
  },
  {
   "cell_type": "code",
   "execution_count": 29,
   "metadata": {},
   "outputs": [
    {
     "data": {
      "text/plain": [
       "-1.0     35641\n",
       " 28.0     7959\n",
       " 27.0     7912\n",
       " 29.0     7870\n",
       " 30.0     7811\n",
       "Name: idade, dtype: int64"
      ]
     },
     "execution_count": 29,
     "metadata": {},
     "output_type": "execute_result"
    }
   ],
   "source": [
    "df['idade'].value_counts().head()"
   ]
  },
  {
   "cell_type": "code",
   "execution_count": 30,
   "metadata": {},
   "outputs": [
    {
     "data": {
      "text/plain": [
       "-1     35641\n",
       " 33    13547\n",
       " 28     7959\n",
       " 27     7912\n",
       " 29     7870\n",
       " 30     7811\n",
       " 26     7773\n",
       " 31     7630\n",
       " 25     7600\n",
       " 32     7423\n",
       "Name: idade, dtype: int64"
      ]
     },
     "execution_count": 30,
     "metadata": {},
     "output_type": "execute_result"
    }
   ],
   "source": [
    "df.loc[df[\"idade\"] > 1900, 'idade'] = df[\"idade\"].mean()\n",
    "df.loc[df[\"idade\"] > 100, 'idade'] = np.nan\n",
    "df[\"idade\"].fillna(df[\"idade\"].mean(), inplace=True)\n",
    "df[\"idade\"] = df[\"idade\"].astype(np.int32)\n",
    "df[\"idade\"].value_counts().head(10)"
   ]
  },
  {
   "cell_type": "markdown",
   "metadata": {},
   "source": [
    "---\n",
    "Coluna **`sexo`**(sexo da pessoa): \n",
    "\n",
    "Nesta coluna limpamos os espaços em branco no inicio e fim das palavras e normalizamos os nomes parecidos mas com mesmo significado"
   ]
  },
  {
   "cell_type": "code",
   "execution_count": 31,
   "metadata": {},
   "outputs": [
    {
     "data": {
      "text/plain": [
       "Masculino        238900\n",
       "Feminino          61217\n",
       "Não Informado      9910\n",
       "Name: sexo, dtype: int64"
      ]
     },
     "execution_count": 31,
     "metadata": {},
     "output_type": "execute_result"
    }
   ],
   "source": [
    "seri = pd.Series(df[\"sexo\"])\n",
    "seri = seri.str.strip()\n",
    "df[\"sexo\"] = seri\n",
    "\n",
    "sex = {'F': 'Feminino', \n",
    "       'M': 'Masculino', \n",
    "       'I':'Não Informado', \n",
    "       'Ignorado': 'Não Informado', \n",
    "       'Inválido':'Não Informado',\n",
    "       'Não Informado': 'Não Informado', \n",
    "       'Masculino': 'Masculino',  \n",
    "       'Feminino':'Feminino' }\n",
    "df[\"sexo\"] = df[\"sexo\"].map(sex)\n",
    "\n",
    "df[\"sexo\"].value_counts()"
   ]
  },
  {
   "cell_type": "markdown",
   "metadata": {},
   "source": [
    "- **Salvar DataFrame normalizado**"
   ]
  },
  {
   "cell_type": "code",
   "execution_count": 32,
   "metadata": {},
   "outputs": [],
   "source": [
    "df.to_csv('archive/csv_pessoas_normalizado.csv', encoding='latin-1')"
   ]
  }
 ],
 "metadata": {
  "kernelspec": {
   "display_name": "Python 3",
   "language": "python",
   "name": "python3"
  },
  "language_info": {
   "codemirror_mode": {
    "name": "ipython",
    "version": 3
   },
   "file_extension": ".py",
   "mimetype": "text/x-python",
   "name": "python",
   "nbconvert_exporter": "python",
   "pygments_lexer": "ipython3",
   "version": "3.6.9"
  }
 },
 "nbformat": 4,
 "nbformat_minor": 4
}
