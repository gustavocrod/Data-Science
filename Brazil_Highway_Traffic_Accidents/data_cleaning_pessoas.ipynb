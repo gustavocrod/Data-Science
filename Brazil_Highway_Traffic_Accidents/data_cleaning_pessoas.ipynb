{
 "cells": [
  {
   "cell_type": "markdown",
   "metadata": {},
   "source": [
    "**Importação das Bibliotecas**"
   ]
  },
  {
   "cell_type": "code",
   "execution_count": 1,
   "metadata": {},
   "outputs": [],
   "source": [
    "import pandas as pd\n",
    "import numpy as np\n",
    "\n",
    "import matplotlib.pyplot as plt\n",
    "import seaborn as sns\n",
    "\n",
    "import time"
   ]
  },
  {
   "cell_type": "markdown",
   "metadata": {},
   "source": [
    "# **1. Análise exploratória**\n",
    "\n",
    "###  **Carregamento dos Arquivos:**\n",
    "\n",
    "**OBS:** Os DataFrame df\\_pessoas\\_'ano' são DataFrames de complemento para os dados dos DataFrames df\\_ocorrencia\\_'ano'\n",
    "\n",
    "- **Base de dados por pessoas:**"
   ]
  },
  {
   "cell_type": "code",
   "execution_count": 2,
   "metadata": {},
   "outputs": [],
   "source": [
    "cols = ['id','pesid', 'id_veiculo', 'tipo_veiculo', 'marca', 'ano_fabricacao_veiculo', 'tipo_envolvido', 'estado_fisico', 'idade', 'sexo']\n",
    "\n",
    "df_pessoas_2007 = pd.read_csv('archive/por_pessoas/acidentes2007.csv', sep=',', engine='python', encoding='latin-1', usecols=cols)\n",
    "df_pessoas_2008 = pd.read_csv('archive/por_pessoas/acidentes2008.csv', sep=',', engine='python', encoding='latin-1', usecols=cols)\n",
    "df_pessoas_2009 = pd.read_csv('archive/por_pessoas/acidentes2009.csv', sep=',', engine='python', encoding='latin-1', usecols=cols)\n",
    "df_pessoas_2010 = pd.read_csv('archive/por_pessoas/acidentes2010.csv', sep=',', engine='python', encoding='latin-1', usecols=cols)\n",
    "df_pessoas_2011 = pd.read_csv('archive/por_pessoas/acidentes2011.csv', sep=',', engine='python', encoding='latin-1', usecols=cols)\n",
    "df_pessoas_2012 = pd.read_csv('archive/por_pessoas/acidentes2012.csv', sep=',', engine='python', encoding='latin-1', usecols=cols)\n",
    "df_pessoas_2013 = pd.read_csv('archive/por_pessoas/acidentes2013.csv', sep=',', engine='python', encoding='latin-1', usecols=cols)\n",
    "df_pessoas_2014 = pd.read_csv('archive/por_pessoas/acidentes2014.csv', sep=',', engine='python', encoding='latin-1', usecols=cols)\n",
    "df_pessoas_2015 = pd.read_csv('archive/por_pessoas/acidentes2015.csv', sep=',', engine='python', encoding='latin-1', usecols=cols)\n",
    "df_pessoas_2016 = pd.read_csv('archive/por_pessoas/acidentes2016.csv', sep=';', engine='python', encoding='latin-1', usecols=cols)\n",
    "df_pessoas_2017 = pd.read_csv('archive/por_pessoas/acidentes2017.csv', sep=';', engine='python', encoding='latin-1', usecols=cols)\n",
    "df_pessoas_2018 = pd.read_csv('archive/por_pessoas/acidentes2018.csv', sep=';', engine='python', encoding='latin-1', usecols=cols)\n",
    "df_pessoas_2019 = pd.read_csv('archive/por_pessoas/acidentes2019.csv', sep=';', engine='python', encoding='latin-1', usecols=cols)\n",
    "df_pessoas_2020 = pd.read_csv('archive/por_pessoas/acidentes2020.csv', sep=';', engine='python', encoding='latin-1', usecols=cols)"
   ]
  },
  {
   "cell_type": "markdown",
   "metadata": {},
   "source": [
    "- **Cabeçalho**\n",
    "\n",
    "Visualizar os 10 primeiros registros do conjunto de dados"
   ]
  },
  {
   "cell_type": "code",
   "execution_count": 3,
   "metadata": {},
   "outputs": [
    {
     "data": {
      "text/html": [
       "<div>\n",
       "<style scoped>\n",
       "    .dataframe tbody tr th:only-of-type {\n",
       "        vertical-align: middle;\n",
       "    }\n",
       "\n",
       "    .dataframe tbody tr th {\n",
       "        vertical-align: top;\n",
       "    }\n",
       "\n",
       "    .dataframe thead th {\n",
       "        text-align: right;\n",
       "    }\n",
       "</style>\n",
       "<table border=\"1\" class=\"dataframe\">\n",
       "  <thead>\n",
       "    <tr style=\"text-align: right;\">\n",
       "      <th></th>\n",
       "      <th>id</th>\n",
       "      <th>pesid</th>\n",
       "      <th>id_veiculo</th>\n",
       "      <th>tipo_veiculo</th>\n",
       "      <th>marca</th>\n",
       "      <th>ano_fabricacao_veiculo</th>\n",
       "      <th>tipo_envolvido</th>\n",
       "      <th>estado_fisico</th>\n",
       "      <th>idade</th>\n",
       "      <th>sexo</th>\n",
       "    </tr>\n",
       "  </thead>\n",
       "  <tbody>\n",
       "    <tr>\n",
       "      <th>0</th>\n",
       "      <td>10</td>\n",
       "      <td>647938</td>\n",
       "      <td>439395</td>\n",
       "      <td>Automóvel</td>\n",
       "      <td>GM/CLASSIC LIFE</td>\n",
       "      <td>2005</td>\n",
       "      <td>Condutor</td>\n",
       "      <td>Ileso</td>\n",
       "      <td>23.0</td>\n",
       "      <td>Masculino</td>\n",
       "    </tr>\n",
       "    <tr>\n",
       "      <th>1</th>\n",
       "      <td>10</td>\n",
       "      <td>647938</td>\n",
       "      <td>439395</td>\n",
       "      <td>Automóvel</td>\n",
       "      <td>GM/CLASSIC LIFE</td>\n",
       "      <td>2005</td>\n",
       "      <td>Condutor</td>\n",
       "      <td>Ileso</td>\n",
       "      <td>23.0</td>\n",
       "      <td>Masculino</td>\n",
       "    </tr>\n",
       "    <tr>\n",
       "      <th>2</th>\n",
       "      <td>10</td>\n",
       "      <td>648468</td>\n",
       "      <td>439395</td>\n",
       "      <td>Automóvel</td>\n",
       "      <td>GM/CLASSIC LIFE</td>\n",
       "      <td>2005</td>\n",
       "      <td>Passageiro</td>\n",
       "      <td>Ferido Leve</td>\n",
       "      <td>44.0</td>\n",
       "      <td>Masculino</td>\n",
       "    </tr>\n",
       "    <tr>\n",
       "      <th>3</th>\n",
       "      <td>10</td>\n",
       "      <td>648468</td>\n",
       "      <td>439395</td>\n",
       "      <td>Automóvel</td>\n",
       "      <td>GM/CLASSIC LIFE</td>\n",
       "      <td>2005</td>\n",
       "      <td>Passageiro</td>\n",
       "      <td>Ferido Leve</td>\n",
       "      <td>44.0</td>\n",
       "      <td>Masculino</td>\n",
       "    </tr>\n",
       "    <tr>\n",
       "      <th>4</th>\n",
       "      <td>10</td>\n",
       "      <td>648470</td>\n",
       "      <td>439395</td>\n",
       "      <td>Automóvel</td>\n",
       "      <td>GM/CLASSIC LIFE</td>\n",
       "      <td>2005</td>\n",
       "      <td>Passageiro</td>\n",
       "      <td>Ferido Leve</td>\n",
       "      <td>10.0</td>\n",
       "      <td>Feminino</td>\n",
       "    </tr>\n",
       "    <tr>\n",
       "      <th>5</th>\n",
       "      <td>10</td>\n",
       "      <td>648470</td>\n",
       "      <td>439395</td>\n",
       "      <td>Automóvel</td>\n",
       "      <td>GM/CLASSIC LIFE</td>\n",
       "      <td>2005</td>\n",
       "      <td>Passageiro</td>\n",
       "      <td>Ferido Leve</td>\n",
       "      <td>10.0</td>\n",
       "      <td>Feminino</td>\n",
       "    </tr>\n",
       "    <tr>\n",
       "      <th>6</th>\n",
       "      <td>10</td>\n",
       "      <td>648471</td>\n",
       "      <td>439395</td>\n",
       "      <td>Automóvel</td>\n",
       "      <td>GM/CLASSIC LIFE</td>\n",
       "      <td>2005</td>\n",
       "      <td>Passageiro</td>\n",
       "      <td>Ferido Leve</td>\n",
       "      <td>39.0</td>\n",
       "      <td>Masculino</td>\n",
       "    </tr>\n",
       "    <tr>\n",
       "      <th>7</th>\n",
       "      <td>10</td>\n",
       "      <td>648471</td>\n",
       "      <td>439395</td>\n",
       "      <td>Automóvel</td>\n",
       "      <td>GM/CLASSIC LIFE</td>\n",
       "      <td>2005</td>\n",
       "      <td>Passageiro</td>\n",
       "      <td>Ferido Leve</td>\n",
       "      <td>39.0</td>\n",
       "      <td>Masculino</td>\n",
       "    </tr>\n",
       "    <tr>\n",
       "      <th>8</th>\n",
       "      <td>10</td>\n",
       "      <td>2068191</td>\n",
       "      <td>1204697</td>\n",
       "      <td>Automóvel</td>\n",
       "      <td>FIAT/UNO MILLE FIRE FLEX</td>\n",
       "      <td>2008</td>\n",
       "      <td>Condutor</td>\n",
       "      <td>Ileso</td>\n",
       "      <td>NaN</td>\n",
       "      <td>NaN</td>\n",
       "    </tr>\n",
       "    <tr>\n",
       "      <th>9</th>\n",
       "      <td>10</td>\n",
       "      <td>2068191</td>\n",
       "      <td>1204697</td>\n",
       "      <td>Automóvel</td>\n",
       "      <td>FIAT/UNO MILLE FIRE FLEX</td>\n",
       "      <td>2008</td>\n",
       "      <td>Condutor</td>\n",
       "      <td>Ileso</td>\n",
       "      <td>NaN</td>\n",
       "      <td>NaN</td>\n",
       "    </tr>\n",
       "  </tbody>\n",
       "</table>\n",
       "</div>"
      ],
      "text/plain": [
       "   id    pesid id_veiculo tipo_veiculo                     marca  \\\n",
       "0  10   647938     439395    Automóvel           GM/CLASSIC LIFE   \n",
       "1  10   647938     439395    Automóvel           GM/CLASSIC LIFE   \n",
       "2  10   648468     439395    Automóvel           GM/CLASSIC LIFE   \n",
       "3  10   648468     439395    Automóvel           GM/CLASSIC LIFE   \n",
       "4  10   648470     439395    Automóvel           GM/CLASSIC LIFE   \n",
       "5  10   648470     439395    Automóvel           GM/CLASSIC LIFE   \n",
       "6  10   648471     439395    Automóvel           GM/CLASSIC LIFE   \n",
       "7  10   648471     439395    Automóvel           GM/CLASSIC LIFE   \n",
       "8  10  2068191    1204697    Automóvel  FIAT/UNO MILLE FIRE FLEX   \n",
       "9  10  2068191    1204697    Automóvel  FIAT/UNO MILLE FIRE FLEX   \n",
       "\n",
       "  ano_fabricacao_veiculo tipo_envolvido estado_fisico  idade       sexo  \n",
       "0                   2005       Condutor  Ileso          23.0  Masculino  \n",
       "1                   2005       Condutor  Ileso          23.0  Masculino  \n",
       "2                   2005     Passageiro  Ferido Leve    44.0  Masculino  \n",
       "3                   2005     Passageiro  Ferido Leve    44.0  Masculino  \n",
       "4                   2005     Passageiro  Ferido Leve    10.0   Feminino  \n",
       "5                   2005     Passageiro  Ferido Leve    10.0   Feminino  \n",
       "6                   2005     Passageiro  Ferido Leve    39.0  Masculino  \n",
       "7                   2005     Passageiro  Ferido Leve    39.0  Masculino  \n",
       "8                   2008       Condutor  Ileso           NaN        NaN  \n",
       "9                   2008       Condutor  Ileso           NaN        NaN  "
      ]
     },
     "execution_count": 3,
     "metadata": {},
     "output_type": "execute_result"
    }
   ],
   "source": [
    "df_pessoas_2007.head(10)"
   ]
  },
  {
   "cell_type": "markdown",
   "metadata": {},
   "source": [
    "### **2. Limpezas e Normalização dos DataFrames**\n",
    "\n",
    "- **Adicionar coluna ```ano``` em todos os dataframes:**"
   ]
  },
  {
   "cell_type": "code",
   "execution_count": 4,
   "metadata": {},
   "outputs": [],
   "source": [
    "df_pessoas_2007['ano'] = 2007\n",
    "df_pessoas_2008['ano'] = 2008\n",
    "df_pessoas_2009['ano'] = 2009\n",
    "df_pessoas_2010['ano'] = 2010\n",
    "df_pessoas_2011['ano'] = 2011\n",
    "df_pessoas_2012['ano'] = 2012\n",
    "df_pessoas_2013['ano'] = 2013\n",
    "df_pessoas_2014['ano'] = 2014\n",
    "df_pessoas_2015['ano'] = 2015\n",
    "df_pessoas_2016['ano'] = 2016\n",
    "df_pessoas_2017['ano'] = 2017\n",
    "df_pessoas_2018['ano'] = 2018\n",
    "df_pessoas_2019['ano'] = 2019\n",
    "df_pessoas_2020['ano'] = 2020"
   ]
  },
  {
   "cell_type": "markdown",
   "metadata": {},
   "source": [
    "- **Concatenar todos os dataframes**"
   ]
  },
  {
   "cell_type": "code",
   "execution_count": 5,
   "metadata": {},
   "outputs": [],
   "source": [
    "df = pd.concat([df_pessoas_2007,df_pessoas_2008,df_pessoas_2009,df_pessoas_2010,df_pessoas_2011,\n",
    "                              df_pessoas_2012,df_pessoas_2013,df_pessoas_2014,df_pessoas_2015,df_pessoas_2016,\n",
    "                              df_pessoas_2017,df_pessoas_2018,df_pessoas_2019,df_pessoas_2020], sort = False)"
   ]
  },
  {
   "cell_type": "markdown",
   "metadata": {},
   "source": [
    "- **Tipos de dados:**\n",
    "\n",
    "Visualizar as colunas e os respectivos tipos de dados que elas estão classificadas"
   ]
  },
  {
   "cell_type": "code",
   "execution_count": 6,
   "metadata": {},
   "outputs": [
    {
     "data": {
      "text/plain": [
       "id                        float64\n",
       "pesid                     float64\n",
       "id_veiculo                 object\n",
       "tipo_veiculo               object\n",
       "marca                      object\n",
       "ano_fabricacao_veiculo     object\n",
       "tipo_envolvido             object\n",
       "estado_fisico              object\n",
       "idade                     float64\n",
       "sexo                       object\n",
       "ano                         int64\n",
       "dtype: object"
      ]
     },
     "execution_count": 6,
     "metadata": {},
     "output_type": "execute_result"
    }
   ],
   "source": [
    "df.dtypes"
   ]
  },
  {
   "cell_type": "markdown",
   "metadata": {},
   "source": [
    "- **Quantidade de linhas e colunas**"
   ]
  },
  {
   "cell_type": "code",
   "execution_count": 7,
   "metadata": {},
   "outputs": [
    {
     "name": "stdout",
     "output_type": "stream",
     "text": [
      "4005281 linhas e 11 colunas.\n"
     ]
    }
   ],
   "source": [
    "print(f\"{df.shape[0]} linhas e {df.shape[1]} colunas.\")"
   ]
  },
  {
   "cell_type": "markdown",
   "metadata": {},
   "source": [
    "- **Eliminar linhas duplicadas do dataframe:**"
   ]
  },
  {
   "cell_type": "code",
   "execution_count": 8,
   "metadata": {},
   "outputs": [],
   "source": [
    "df.drop_duplicates(subset=cols, keep='first', inplace=True)"
   ]
  },
  {
   "cell_type": "code",
   "execution_count": 9,
   "metadata": {},
   "outputs": [
    {
     "name": "stdout",
     "output_type": "stream",
     "text": [
      "Após a remoção dos registros duplicados: 4005209 linhas e 11 colunas.\n"
     ]
    }
   ],
   "source": [
    "print(f\"Após a remoção dos registros duplicados: {df.shape[0]} linhas e {df.shape[1]} colunas.\")"
   ]
  },
  {
   "cell_type": "markdown",
   "metadata": {},
   "source": [
    "- **_missing_ values**"
   ]
  },
  {
   "cell_type": "code",
   "execution_count": 10,
   "metadata": {},
   "outputs": [
    {
     "data": {
      "text/plain": [
       "id                        0.000000e+00\n",
       "tipo_envolvido            0.000000e+00\n",
       "ano                       0.000000e+00\n",
       "estado_fisico             7.490246e-07\n",
       "pesid                     9.986994e-07\n",
       "sexo                      2.274538e-04\n",
       "id_veiculo                9.984498e-04\n",
       "tipo_veiculo              9.991988e-04\n",
       "ano_fabricacao_veiculo    1.292592e-02\n",
       "marca                     1.625134e-02\n",
       "idade                     2.471432e-02\n",
       "dtype: float64"
      ]
     },
     "execution_count": 10,
     "metadata": {},
     "output_type": "execute_result"
    }
   ],
   "source": [
    "# Porcentagem de valores faltantes\n",
    "(df.isnull().sum()/df.shape[0]).sort_values()"
   ]
  },
  {
   "cell_type": "markdown",
   "metadata": {},
   "source": [
    "- **Eliminar linhas com todos os valores incompletos ou nulos:**"
   ]
  },
  {
   "cell_type": "code",
   "execution_count": 11,
   "metadata": {},
   "outputs": [],
   "source": [
    "df.dropna(how='all', inplace=True)"
   ]
  },
  {
   "cell_type": "code",
   "execution_count": 12,
   "metadata": {},
   "outputs": [
    {
     "name": "stdout",
     "output_type": "stream",
     "text": [
      "Após a remoção dos registros nulos: 4005209 linhas e 11 colunas.\n"
     ]
    }
   ],
   "source": [
    "print(f\"Após a remoção dos registros nulos: {df.shape[0]} linhas e {df.shape[1]} colunas.\")"
   ]
  },
  {
   "cell_type": "markdown",
   "metadata": {},
   "source": [
    "- **Reindexar os registros, por conta da remoção das duplicatas**"
   ]
  },
  {
   "cell_type": "code",
   "execution_count": 13,
   "metadata": {},
   "outputs": [],
   "source": [
    "df.index= range(len(df))"
   ]
  },
  {
   "cell_type": "markdown",
   "metadata": {},
   "source": [
    "- **Completar com outros valores as colunas com valores nulos ou incompletos**\n",
    "\n",
    "Vamos nos atentar apenas para a idade. As demais colunas não são passiveis de correção."
   ]
  },
  {
   "cell_type": "code",
   "execution_count": 14,
   "metadata": {},
   "outputs": [
    {
     "data": {
      "text/plain": [
       "98986"
      ]
     },
     "execution_count": 14,
     "metadata": {},
     "output_type": "execute_result"
    }
   ],
   "source": [
    "# valores nulos antes de normalizar\n",
    "df['idade'].isnull().sum()"
   ]
  },
  {
   "cell_type": "code",
   "execution_count": 15,
   "metadata": {},
   "outputs": [],
   "source": [
    "df['idade'].fillna(df['idade'].mean(), inplace=True)"
   ]
  },
  {
   "cell_type": "code",
   "execution_count": 16,
   "metadata": {},
   "outputs": [
    {
     "data": {
      "text/plain": [
       "0"
      ]
     },
     "execution_count": 16,
     "metadata": {},
     "output_type": "execute_result"
    }
   ],
   "source": [
    "df['idade'].isnull().sum()"
   ]
  },
  {
   "cell_type": "markdown",
   "metadata": {},
   "source": [
    "### **3. Visualização dos valores possíveis**\n",
    "\n",
    "Vamos verificar os valores das variáveis categóricas:\n",
    "\n",
    "- **`tipo_envolvido`**\n",
    "- **`estado_fisico`**\n",
    "- **`tipo_veiculo`**\n",
    "- **`marca`**\n",
    "- **`sexo`**\n",
    "\n",
    "e algumas visualizações sobre tendências nas variáveis numéricas como:\n",
    "- **`ano_fabricacao_veiculo`**\n",
    "- **`idade`**"
   ]
  },
  {
   "cell_type": "code",
   "execution_count": 17,
   "metadata": {},
   "outputs": [
    {
     "data": {
      "text/plain": [
       "array(['Condutor', 'Passageiro', 'Autor', 'Pedestre', 'Vítima',\n",
       "       'Cavaleiro', 'Ciclista', 'Proprietário de Carga',\n",
       "       'Proprietário da CNH', 'Testemunha', 'Não Informado'], dtype=object)"
      ]
     },
     "execution_count": 17,
     "metadata": {},
     "output_type": "execute_result"
    }
   ],
   "source": [
    "df['tipo_envolvido'].unique()"
   ]
  },
  {
   "cell_type": "code",
   "execution_count": 18,
   "metadata": {},
   "outputs": [
    {
     "data": {
      "text/plain": [
       "array(['Ileso       ', 'Ferido Leve ', 'Ferido Grave', 'Morto       ',\n",
       "       'Ignorado    ', '(null)', 'Morto', 'Ileso', 'Ferido Leve',\n",
       "       'Ignorado', nan, 'Lesões Graves', 'Lesões Leves', 'Óbito',\n",
       "       'Não Informado'], dtype=object)"
      ]
     },
     "execution_count": 18,
     "metadata": {},
     "output_type": "execute_result"
    }
   ],
   "source": [
    "df['estado_fisico'].unique()"
   ]
  },
  {
   "cell_type": "code",
   "execution_count": 19,
   "metadata": {},
   "outputs": [
    {
     "data": {
      "text/plain": [
       "array(['Automóvel', 'Camioneta', '(null)', 'Caminhão', 'Caminhonete',\n",
       "       'Motocicletas', 'Ônibus', 'Não identificado', 'Microônibus',\n",
       "       'Caminhão-Trator', 'Motoneta', 'Bicicleta', 'Reboque', 'Carroça',\n",
       "       'Utilitário', 'Semi-Reboque', 'Caminhão-Tanque', 'Charrete',\n",
       "       'Trator de esteiras', 'Trator de rodas', 'Trator misto',\n",
       "       'Carro-de-mao', 'Ciclomotor', 'Bonde / Trem', 'Triciclo',\n",
       "       'Quadriciclo', 'Side-car', 'Motor-Casa', nan, 'Motocicleta',\n",
       "       'Caminhão-trator', 'Carroça-charrete', 'Semireboque',\n",
       "       'Micro-ônibus', 'Outros', 'Não Informado', 'Carro de mão',\n",
       "       'Trem-bonde', 'Chassi-plataforma', 'Trator de esteira'],\n",
       "      dtype=object)"
      ]
     },
     "execution_count": 19,
     "metadata": {},
     "output_type": "execute_result"
    }
   ],
   "source": [
    "df['tipo_veiculo'].unique()"
   ]
  },
  {
   "cell_type": "code",
   "execution_count": 20,
   "metadata": {},
   "outputs": [
    {
     "data": {
      "text/plain": [
       "array(['GM/CLASSIC LIFE', 'FIAT/UNO MILLE FIRE FLEX',\n",
       "       'VW/SAVEIRO GL 1.8                                 ', ...,\n",
       "       'MMC/OUTLANDER SPT HPEAWD', 'GM/CHEVROLET C1503',\n",
       "       'CHEV/ONIX PLUS 10MT LT2'], dtype=object)"
      ]
     },
     "execution_count": 20,
     "metadata": {},
     "output_type": "execute_result"
    }
   ],
   "source": [
    "df['marca'].unique()"
   ]
  },
  {
   "cell_type": "code",
   "execution_count": 21,
   "metadata": {},
   "outputs": [
    {
     "data": {
      "text/plain": [
       "array(['Masculino', 'Feminino', nan, 'Não Informado', 'Inválido', 'M',\n",
       "       'F', 'I', 'Ignorado'], dtype=object)"
      ]
     },
     "execution_count": 21,
     "metadata": {},
     "output_type": "execute_result"
    }
   ],
   "source": [
    "df['sexo'].unique()"
   ]
  },
  {
   "cell_type": "markdown",
   "metadata": {},
   "source": [
    "- **Análise dos valores**\n",
    "\n",
    "OK, para o **`tipo_envolvido`** temos os valores: \n",
    "* \"Condutor\", \n",
    "* \"Passageiro\", \n",
    "* \"Pedestre\", \n",
    "* \"Testemunha\", \n",
    "* \"Cavaleiro\", \n",
    "* \"Vítima\", \n",
    "* \"Autor\", \n",
    "* \"Ciclista\", \n",
    "* \"Não Informado\", \n",
    "* \"Proprietário de Carga\" \n",
    "* \"Proprietário da CNH\". \n",
    "\n",
    "Todos os valores estão limpos e não são duplicados.\n",
    "\n",
    "**`estado_fisico`** possui os valores: 'Ileso       ', 'Ferido Leve ', 'Ferido Grave', 'Morto       ', 'Ignorado    ', '(null)', 'Morto', 'Ileso', 'Ferido Leve', 'Ignorado', nan, 'Lesões Graves', 'Lesões Leves', 'Óbito', 'Não Informado'. Podemos observar alguns espaços em branco que discretizam valores, porém são duplicados, e também há erro sobre os valores nulos '(null)' que devem ser descartados. E valores sinônimos, como Ferido ou Lesões, e óbito e morte. Portanto, os valores únicos reais são: \n",
    "* \"Ileso\", \n",
    "* \"Ferido Leve\", \n",
    "* \"Ferido Grave\", \n",
    "* \"Óbito\", \n",
    "* \"Ignorado\",\n",
    "* \"Não informado\"\n",
    "\n",
    "**`tipo_veiculo`** possui os valores: \n",
    "'Automóvel', 'Camioneta', '(null)', 'Caminhão', 'Caminhonete',\n",
    "       'Motocicletas', 'Ônibus', 'Não identificado', 'Microônibus',\n",
    "       'Caminhão-Trator', 'Motoneta', 'Bicicleta', 'Reboque', 'Carroça',\n",
    "       'Utilitário', 'Semi-Reboque', 'Caminhão-Tanque', 'Charrete',\n",
    "       'Trator de esteiras', 'Trator de rodas', 'Trator misto',\n",
    "       'Carro-de-mao', 'Ciclomotor', 'Bonde / Trem', 'Triciclo',\n",
    "       'Quadriciclo', 'Side-car', 'Motor-Casa', nan, 'Motocicleta',\n",
    "       'Caminhão-trator', 'Carroça-charrete', 'Semireboque',\n",
    "       'Micro-ônibus', 'Outros', 'Não Informado', 'Carro de mão',\n",
    "       'Trem-bonde', 'Chassi-plataforma', 'Trator de esteira'. Possui o valor '(null)' que deve ser removido, e alguns valores equivalentes, como \"Carro-de-mao' e 'Carro de mão'; Todos os tratores para \"Trator\"; \"Semi-reboque\" e \"Semireboque\"; \"Micro-ônibus\" e \"Microonibus\".\n",
    "       \n",
    "Os valores únicos reais são:\n",
    "* \"Automóvel\",\n",
    "* \"Camioneta\",\n",
    "* \"Caminhonete\", (esses dois parecem ambíguos mas são distintos)\n",
    "* \"Motocicletas\",\n",
    "* \"Ônibus\",\n",
    "* \"Microônibus\",\n",
    "* \"Caminhão-Trator\",\n",
    "* \"Motoneta\",\n",
    "* \"Bicicleta\",\n",
    "* \"Reboque\",\n",
    "* \"Carroça\",\n",
    "* \"Utilitário\",\n",
    "* \"Semi-reboque\",\n",
    "* \"Caminhão-Tanque\",\n",
    "* \"Charrete\",\n",
    "* \"Trator\"\n",
    "* \"Carro de mao\",\n",
    "* \"Ciclomotor\",\n",
    "* \"Bonde / Trem\", \n",
    "* \"Triciclo\",\n",
    "* \"Quadriciclo\", \n",
    "* \"Side-car\", \n",
    "* \"Motor-Casa\", \n",
    "* \"Motocicleta\",\n",
    "* \"Caminhão-trator\",\n",
    "* \"Carroça-charrete\",\n",
    "* \"Outros\",\n",
    "* \"Não Informado\",\n",
    "* \"Trem-bonde\",\n",
    "* \"Chassi-plataforma\"\n",
    "\n",
    "**`marca`** possui um padrão de \"marca\" / \"modelo do veículo\".\n",
    "\n",
    "**`sexo`** compreende os valores: 'Masculino', 'Feminino', nan, 'Não Informado', 'Inválido', 'M', 'F', 'I', 'Ignorado'. Porém esses valores são abreviações. Portanto, os valores reais e utilizados são:\n",
    "\n",
    "* \"Masculino\",\n",
    "* \"Feminino\",\n",
    "* \"Não Informado\",\n",
    "* \"Inválido\""
   ]
  },
  {
   "cell_type": "markdown",
   "metadata": {},
   "source": [
    "- **Correção dos campos**"
   ]
  },
  {
   "cell_type": "markdown",
   "metadata": {},
   "source": [
    "Coluna **`id`** (id do acidente):\n",
    "\n",
    "Nesta coluna os valores nulos viram -1 e alteramos o tipo de dado da coluna para int64"
   ]
  },
  {
   "cell_type": "code",
   "execution_count": 22,
   "metadata": {},
   "outputs": [
    {
     "data": {
      "text/plain": [
       "1110452     248\n",
       "1221360     103\n",
       "732187       99\n",
       "1327175      92\n",
       "83492411     91\n",
       "83117789     88\n",
       "1104144      87\n",
       "287761       83\n",
       "1266252      82\n",
       "1011215      82\n",
       "Name: id, dtype: int64"
      ]
     },
     "execution_count": 22,
     "metadata": {},
     "output_type": "execute_result"
    }
   ],
   "source": [
    "#df[\"id\"].isnull().value_counts()\n",
    "df[\"id\"].fillna(-1, inplace=True)\n",
    "df[\"id\"] = df[\"id\"].astype(np.int64)\n",
    "df[\"id\"].value_counts().head(10)"
   ]
  },
  {
   "cell_type": "markdown",
   "metadata": {},
   "source": [
    "Coluna **`pesid`** (id da pessoa):\n",
    "\n",
    "Nesta coluna os valores nulos viram -1 e alteramos o tipo de dado da coluna para int64"
   ]
  },
  {
   "cell_type": "code",
   "execution_count": 23,
   "metadata": {},
   "outputs": [
    {
     "data": {
      "text/plain": [
       "-1         4\n",
       " 574671    3\n",
       " 676980    3\n",
       " 598319    3\n",
       " 625101    3\n",
       " 1         3\n",
       " 598300    3\n",
       " 522052    3\n",
       " 2         3\n",
       " 450061    3\n",
       "Name: pesid, dtype: int64"
      ]
     },
     "execution_count": 23,
     "metadata": {},
     "output_type": "execute_result"
    }
   ],
   "source": [
    "# df.isnull().value_counts()\n",
    "df[\"pesid\"].fillna(-1, inplace=True)\n",
    "df[\"pesid\"] = df[\"pesid\"].astype(np.int64)\n",
    "df[\"pesid\"].value_counts().head(10)"
   ]
  },
  {
   "cell_type": "markdown",
   "metadata": {},
   "source": [
    "Coluna **`id_veiculo`** (id dos veículos):\n",
    "\n",
    "Aqui normalizamos os campos (null) para número -1, retiramos os espaços em branco, dados com valores 'Na' viraram -1 e o tipo de dado da coluna foi alterado para int64"
   ]
  },
  {
   "cell_type": "code",
   "execution_count": 24,
   "metadata": {},
   "outputs": [
    {
     "data": {
      "text/plain": [
       "-1           52254\n",
       " 490011         74\n",
       " 19177325       67\n",
       " 2260109        67\n",
       " 1162466        64\n",
       " 3108478        63\n",
       " 74540          63\n",
       " 411506         62\n",
       " 2732552        62\n",
       " 2739738        62\n",
       "Name: id_veiculo, dtype: int64"
      ]
     },
     "execution_count": 24,
     "metadata": {},
     "output_type": "execute_result"
    }
   ],
   "source": [
    "df[\"id_veiculo\"] = df[\"id_veiculo\"].replace('(null)', np.nan)\n",
    "df[\"id_veiculo\"].fillna(-1, inplace=True)\n",
    "df[\"id_veiculo\"] = df[\"id_veiculo\"].astype(np.int64)\n",
    "df[\"id_veiculo\"].value_counts().head(10)"
   ]
  },
  {
   "cell_type": "markdown",
   "metadata": {},
   "source": [
    "Coluna **`tipo_veiculo`**(tipo de veículos):\n",
    "\n",
    "Normalizamos os campos (null) para 'Não Informado' e também normalizamos nomes parecidos mas com mesmo significado"
   ]
  },
  {
   "cell_type": "code",
   "execution_count": 25,
   "metadata": {},
   "outputs": [
    {
     "data": {
      "text/plain": [
       "Automóvel        1943147\n",
       "Caminhão          715183\n",
       "Motocicletas      334935\n",
       "Caminhonete       299850\n",
       "Ônibus            160896\n",
       "Camioneta         131660\n",
       "Motocicleta       115619\n",
       "Motoneta           46617\n",
       "Bicicleta          37418\n",
       "Não Informado      29280\n",
       "Name: tipo_veiculo, dtype: int64"
      ]
     },
     "execution_count": 25,
     "metadata": {},
     "output_type": "execute_result"
    }
   ],
   "source": [
    "df[\"tipo_veiculo\"] = df[\"tipo_veiculo\"].replace('(null)', np.nan)\n",
    "df[\"tipo_veiculo\"].fillna(\"Não informado\", inplace=True)\n",
    "\n",
    "correcao_nomes = {\n",
    "    'Automóvel': 'Automóvel', \n",
    "    'Camioneta' : 'Camioneta',\n",
    "    'Caminhão': 'Caminhão',\n",
    "    'Caminhonete': 'Caminhonete',  \n",
    "    'Micro-ônibus': 'Microônibus',\n",
    "    'Trator de esteiras': 'Trator de esteira',\n",
    "    'Semireboque': 'Semirreboque',\n",
    "    'Semi-Reboque': 'Semirreboque',\n",
    "    'Carro-de-mao': 'Carro de mão', \n",
    "    'Trator de esteiras': 'Trator',\n",
    "    'Trator de esteira': 'Trator', \n",
    "    'Trator de rodas': 'Trator', \n",
    "    'Trator misto': 'Trator',\n",
    "    'Não identificado': 'Não Informado',\n",
    "    'Motocicletas': 'Motocicletas',\n",
    "    'Ônibus': 'Ônibus',\n",
    "    'Caminhão-Trator': 'Caminhão',\n",
    "    'Motoneta': 'Motoneta', \n",
    "    'Bicicleta': 'Bicicleta', \n",
    "    'Reboque': 'Reboque', \n",
    "    'Carroça': 'Carroça',\n",
    "    'Utilitário': 'Utilitário',\n",
    "    'Caminhão-Tanque': 'Caminhão', \n",
    "    'Charrete': 'Charrete',\n",
    "    'Ciclomotor': 'Ciclomotor',\n",
    "    'Bonde / Trem': 'Bonde / Trem',\n",
    "    'Triciclo': 'Triciclo',\n",
    "    'Quadriciclo': 'Quadriciclo', \n",
    "    'Side-car': 'Side-car',\n",
    "    'Motor-Casa': 'Motor-Casa',\n",
    "    'Motocicleta': 'Motocicleta',\n",
    "    'Carroça-charrete': 'Carroça-charrete',\n",
    "    'Outros': 'Outros',\n",
    "    'Chassi-plataforma': 'Chassi-plataforma',\n",
    "}\n",
    "\n",
    "df[\"tipo_veiculo\"] = df[\"tipo_veiculo\"].map(correcao_nomes)\n",
    "\n",
    "#df['tipo_veiculo'].unique()\n",
    "df.tipo_veiculo.value_counts().head(10)"
   ]
  },
  {
   "cell_type": "markdown",
   "metadata": {},
   "source": [
    "Coluna **`marca`**(marca e modelo dos veículos):\n",
    "\n",
    "**falta paralelizar e colocar mais strings para corrigir**\n",
    "\n",
    "Normalizamos os campos (null) para 'Não Informado', normalizamos nomes parecidos dos fabricantes mas com mesmo significado para nomes padrão, retiramos espaços em branco no inicio e final das palavras"
   ]
  },
  {
   "cell_type": "code",
   "execution_count": 26,
   "metadata": {},
   "outputs": [
    {
     "name": "stdout",
     "output_type": "stream",
     "text": [
      "tempo de execução: 0.03904569149017334 minutos\n"
     ]
    },
    {
     "data": {
      "text/plain": [
       "MERCEDES-BENZ/      1350\n",
       "TOYOTA/              756\n",
       "YAMAHA/              644\n",
       "HONDA/               422\n",
       "RENAULT/             350\n",
       "TRAXX/               284\n",
       "OPEL/                203\n",
       "MASSEY FERGUSON/     140\n",
       "SHAANXI/             133\n",
       "IVECO/               129\n",
       "BMW/                 101\n",
       "PORSCHE/              93\n",
       "FORD/                 92\n",
       "LAND ROVER/           89\n",
       "SCANIA/               83\n",
       "VOLKSWAGEN/           73\n",
       "GREEN SPORT/          55\n",
       "CITROEN/              51\n",
       "LEOPARD/              50\n",
       "WUYANG/               45\n",
       "FIAT/                 44\n",
       "CHANGHE/              32\n",
       "CHRYSLER/             19\n",
       "DAEWOO/               15\n",
       "CHEVROLET/            11\n",
       "ASIA/                 10\n",
       "HAFEI/                 8\n",
       "AUDI/                  8\n",
       "DAYUN/                 4\n",
       "NISSAN/                4\n",
       "DODGE/                 4\n",
       "BASHAN/                3\n",
       "CHARMING/              1\n",
       "DAIHATSU/              1\n",
       "HARLEY DAVIDSON/       1\n",
       "Name: marca, dtype: int64"
      ]
     },
     "execution_count": 26,
     "metadata": {},
     "output_type": "execute_result"
    }
   ],
   "source": [
    "inicio = time.time()\n",
    "\n",
    "seri = pd.Series(df[\"marca\"])\n",
    "seri = seri.str.strip()\n",
    "df[\"marca\"] = seri\n",
    "df[\"marca\"] = df[\"marca\"].replace('(null)', np.nan)\n",
    "df[\"marca\"].fillna(\"Não informado\", inplace=True)\n",
    "\n",
    "strArrumar = ['I/ALFA ROMEO','I/ALFA ROMEU','I/AUDI','IMP/AUDI','I/BASHAN','I/BENELLI','I/BENZHOU','IMP/BMW','I/BMW',\n",
    "           'IMP/GM','I/CHEVROLET','CHEV/','GM/','I/GM','I/CHEV','IMP/CITROEN','IMP/CETROEN','I/CITROEN',\n",
    "           'CITROE/','IMP/CHRYSLER','I/CHRYSLER','IMP/DAIHATSU','CHRY/DODGE','I/DODGE','I/FIAT','IMP/FIAT',\n",
    "           'IMP/FORD','M.A./FORD','I/FORD','H.DAVIDSON/','I/H DAVIDSON','I/RAM','I/HARLEY DAVIDSON','HARLEY DAVIDSON/',\n",
    "           'REB/FORTCAR','I/HUARI','I/H.DAVIDSON','H/HONDA','I/HONDA','IMP/HONDA','HTA/HONDA','I/HYUNDAI',\n",
    "           'HYUNDA/','IMP/HYUNDAI','I/IVECO','IMP/IVECOFIAT','I/JAGUAR','I/JAC','IMP/KAWAZAKI','AVA/KAWASAKI',\n",
    "           'I/KAWASAKI','I/KIA','IMP/KIA','I/M.BENZ','MBENZ/','M.BENZ/','M.B./','I/MERCEDES',\n",
    "           'IMP/MBENZ','IMP/M.BENZ','I/MB' ,'I/MBENZ','I/L.ROVER','IMP/LAND ROVER','I/LR',\n",
    "           'IMP/ GM','IMP/CHEVROLET','I/CHANGHE','MMC/','I/MMC','IMP/MMC',\n",
    "           'IMP/IVECO','MA/MASSEY','I/YINGANG','I/NISSAN','IMP/NISSAN','I/OPEL','I/PEUGEOT','IMP/PEUGEOT',\n",
    "           'I/PORSCHE','I/RENAULT','IMP/RENAULT','I/SCANIA','IMP/SCANIA','I/SUZUKI','JTA/SUZUKI','IMP/SUZUKI',\n",
    "           'I/SHAANXI','I/SHINERAY','I/TOYOTA','IMP/TOYOTA','I/TRAXX','IMP/VW','VW/','I/VW','I/VOLVO','IMP/VOLVO',\n",
    "           'IMP/YAMAHA','I/YAMAHA','I/BRP','I/BUELL','I/BYD','I/CHACOMER','I/CHANGAN','I/CHARMING',\n",
    "           'I/CHERY''I/DAF','I/DAJIANG','I/DAYANG','I/DAYUN','I/DUCATI','I/FERRARI','I/FOTON','I/FYM','I/HAFEI','I/JEEP',\n",
    "           'I/MAN','I/MINI COOPER','I/DACIA RENAULT','I/LEOPARD','I/CTM GREEN SPORT','I/WUYANG','I/LIFAN','IMP/DAEWOO',\n",
    "           'IMP/ASIA','I/SSANGYONG','I/SEAT','I/SINOTRUK','I/SUBARU','I/LIFAN','I/WUYANG','I/JIALING']\n",
    "\n",
    "\n",
    "strNorm = ['ALFA ROMEO/','ALFA ROMEO/','AUDI/','AUDI/','BASHAN/','BENELLI/','BENZHOU/','BMW/','BMW/',\n",
    "         'CHEVROLET/','CHEVROLET/','CHEVROLET/','CHEVROLET/','CHEVROLET/','CHEVROLET/','CITROEN/','CITROEN/','CITROEN/',\n",
    "         'CITROEN/','CHRYSLER/','CHRYSLER/','DAIHATSU/','DODGE/','DODGE/','FIAT/','FIAT/',\n",
    "         'FORD/','FORD/','FORD/','HARLEY DAVIDSON/','HARLEY DAVIDSON/','DODGE/','HARLEY DAVIDSON/',\n",
    "         'FORTCAR/','HUARI/','HARLEY DAVIDSON/','HONDA/','HONDA/','HONDA/','HONDA/','HYUNDAI/',\n",
    "         'HYUNDAI/','HYUNDAI/','IVECO/','IVECO/','JAGUAR/','JAC/','KAWASAKI/','KAWASAKI/',\n",
    "         'KAWASAKI','KIA/','KIA/','MERCEDES-BENZ/','MERCEDES-BENZ/','MERCEDES-BENZ/','MERCEDES-BENZ/','MERCEDES-BENZ/',\n",
    "         'MERCEDES-BENZ/','MERCEDES-BENZ/','MERCEDES-BENZ/','MERCEDES-BENZ/','LAND ROVER/','LAND ROVER/','LAND ROVER/',\n",
    "         'CHEVROLET/','CHEVROLET/','CHANGHE/','MITSUBISHI MOTORS/','MITSUBISHI MOTORS/','MITSUBISHI MOTORS/',\n",
    "         'IVECO/','MASSEY FERGUSON/','NAZAXX/','NISSAN/','NISSAN/','OPEL/','PEUGEOT/','PEUGEOT/',\n",
    "         'PORSCHE/','RENAULT/','RENAULT/','SCANIA/','SCANIA/','SUZUKI/','SUZUKI/','SUZUKI/',\n",
    "         'SHAANXI/','SHINERAY/','TOYOTA/','TOYOTA/','TRAXX/','VOLKSWAGEN/','VOLKSWAGEN/','VOLKSWAGEN/','VOLVO/','VOLVO/',\n",
    "         'YAMAHA/','YAMAHA/','BRP/','BUELL/','BYD/','CHACOMER/','CHANGAN/','CHARMING/',\n",
    "         'CHERY/','DAF/','DAJIANG/','DAYANG/','DAYUN/','DUCATI/','FERRARI/','FOTON/','FYM/','HAFEI/','JEEP/',\n",
    "         'MAN/','BMW/','RENAULT/','LEOPARD/','GREEN SPORT/','WUYANG/','LIFAN/','DAEWOO/',\n",
    "         'ASIA/','SSANGYONG/','SEAT/','SINOTRUK/','SUBARU/','LIFAN/','WUYANG/','JIALING/']\n",
    "\n",
    "df['marca'] = df['marca'].map(dict(zip(strArrumar, strNorm)))\n",
    "  \n",
    "fim= time.time()\n",
    "print('tempo de execução:',((fim - inicio)/60),'minutos')\n",
    "df['marca'].value_counts()"
   ]
  },
  {
   "cell_type": "markdown",
   "metadata": {},
   "source": [
    "Coluna **`ano_fabricacao_veiculo`**(ano de fabricação dos veículos):\n",
    "\n",
    "Nesta coluna normalizamos os campos (null) para 'Na', normalizamos nomes em branco para valor '0', retiramos os espaços em branco no inicio e final das palavras, transformamos o tipo de dado desta coluna para int32 e também os valores maiores que 2020 foram setados como 0(zero)."
   ]
  },
  {
   "cell_type": "code",
   "execution_count": 27,
   "metadata": {},
   "outputs": [
    {
     "name": "stderr",
     "output_type": "stream",
     "text": [
      "/home/gustavocrod/.local/lib/python3.6/site-packages/ipykernel_launcher.py:10: SettingWithCopyWarning: \n",
      "A value is trying to be set on a copy of a slice from a DataFrame\n",
      "\n",
      "See the caveats in the documentation: https://pandas.pydata.org/pandas-docs/stable/user_guide/indexing.html#returning-a-view-versus-a-copy\n",
      "  # Remove the CWD from sys.path while we load stuff.\n"
     ]
    },
    {
     "data": {
      "text/plain": [
       "0       1069114\n",
       "2008     256591\n",
       "2007     223932\n",
       "2010     209741\n",
       "2009     200390\n",
       "2006     179805\n",
       "2011     177862\n",
       "2005     154513\n",
       "2004     140037\n",
       "2012     112307\n",
       "Name: ano_fabricacao_veiculo, dtype: int64"
      ]
     },
     "execution_count": 27,
     "metadata": {},
     "output_type": "execute_result"
    }
   ],
   "source": [
    "seri= pd.Series(df[\"ano_fabricacao_veiculo\"])\n",
    "seri= seri.str.strip()\n",
    "df[\"ano_fabricacao_veiculo\"]= seri\n",
    "\n",
    "df[\"ano_fabricacao_veiculo\"] = df[\"ano_fabricacao_veiculo\"].replace('(null)', np.nan)\n",
    "df[\"ano_fabricacao_veiculo\"] = df[\"ano_fabricacao_veiculo\"].replace('', '0')\n",
    "df[\"ano_fabricacao_veiculo\"].fillna('0', inplace=True)\n",
    "\n",
    "df[\"ano_fabricacao_veiculo\"]= df[\"ano_fabricacao_veiculo\"].astype(np.int32)\n",
    "df[\"ano_fabricacao_veiculo\"][df[\"ano_fabricacao_veiculo\"] > 2020 ]= 0\n",
    "df[\"ano_fabricacao_veiculo\"].value_counts().head(10)"
   ]
  },
  {
   "cell_type": "markdown",
   "metadata": {},
   "source": [
    "Coluna **`tipo_envolvido`**(quem se envolveu no acidente):\n",
    "\n",
    "Nesta coluna retiramos espaços em branco no inicio e final das palavras"
   ]
  },
  {
   "cell_type": "code",
   "execution_count": 28,
   "metadata": {},
   "outputs": [
    {
     "data": {
      "text/plain": [
       "Condutor                 3168175\n",
       "Passageiro                758223\n",
       "Pedestre                   64922\n",
       "Testemunha                 12760\n",
       "Cavaleiro                    920\n",
       "Vítima                       182\n",
       "Autor                         12\n",
       "Ciclista                       9\n",
       "Não Informado                  4\n",
       "Proprietário de Carga          1\n",
       "Proprietário da CNH            1\n",
       "Name: tipo_envolvido, dtype: int64"
      ]
     },
     "execution_count": 28,
     "metadata": {},
     "output_type": "execute_result"
    }
   ],
   "source": [
    "seri= pd.Series(df[\"tipo_envolvido\"])\n",
    "seri= seri.str.strip()\n",
    "df[\"tipo_envolvido\"]= seri\n",
    "\n",
    "df[\"tipo_envolvido\"].value_counts()"
   ]
  },
  {
   "cell_type": "markdown",
   "metadata": {},
   "source": [
    "Coluna **`estado_fisico`**(estado físico da pessoa envolvida):\n",
    "\n",
    "Normalizamos os nomes parecidos mas com mesmo significado, alteramos os valores (null) para 'Ileso', limpamos os espcaços em branco no inicio e fim das palavras"
   ]
  },
  {
   "cell_type": "code",
   "execution_count": 29,
   "metadata": {},
   "outputs": [
    {
     "data": {
      "text/plain": [
       "Ileso           2660883\n",
       "Ferido Leve      922870\n",
       "Ferido Grave     323689\n",
       "Óbito             97767\n",
       "Name: estado_fisico, dtype: int64"
      ]
     },
     "execution_count": 29,
     "metadata": {},
     "output_type": "execute_result"
    }
   ],
   "source": [
    "seri= pd.Series(df[\"estado_fisico\"])\n",
    "seri= seri.str.strip()\n",
    "df[\"estado_fisico\"]= seri\n",
    "\n",
    "df[\"estado_fisico\"] = df[\"estado_fisico\"].replace('(null)', np.nan)\n",
    "df[\"estado_fisico\"].fillna('Ileso', inplace=True)\n",
    "df[\"estado_fisico\"]= df[\"estado_fisico\"].str.replace('Lesões Leves','Ferido Leve')\n",
    "df[\"estado_fisico\"]= df[\"estado_fisico\"].str.replace('Lesões Graves','Ferido Grave')\n",
    "df[\"estado_fisico\"]= df[\"estado_fisico\"].str.replace('Morto','Óbito')\n",
    "df[\"estado_fisico\"]= df[\"estado_fisico\"].str.replace('Ignorado','Ileso')\n",
    "df[\"estado_fisico\"]= df[\"estado_fisico\"].str.replace('Não Informado','Ileso')\n",
    "\n",
    "df[\"estado_fisico\"].value_counts()"
   ]
  },
  {
   "cell_type": "markdown",
   "metadata": {},
   "source": [
    "Coluna **`idade`**(idade da pessoa):\n",
    "\n",
    "Nesta coluna normalizamos valores nulos para -1, alteramos o tipo de dado para int32, alteramos os valores com idade acima de 100 anos para o valor -1 e valores maiores que 1000 normalizamos pra 2020-idade"
   ]
  },
  {
   "cell_type": "code",
   "execution_count": 30,
   "metadata": {},
   "outputs": [
    {
     "name": "stderr",
     "output_type": "stream",
     "text": [
      "/home/gustavocrod/.local/lib/python3.6/site-packages/ipykernel_launcher.py:3: SettingWithCopyWarning: \n",
      "A value is trying to be set on a copy of a slice from a DataFrame\n",
      "\n",
      "See the caveats in the documentation: https://pandas.pydata.org/pandas-docs/stable/user_guide/indexing.html#returning-a-view-versus-a-copy\n",
      "  This is separate from the ipykernel package so we can avoid doing imports until\n",
      "/home/gustavocrod/.local/lib/python3.6/site-packages/ipykernel_launcher.py:4: SettingWithCopyWarning: \n",
      "A value is trying to be set on a copy of a slice from a DataFrame\n",
      "\n",
      "See the caveats in the documentation: https://pandas.pydata.org/pandas-docs/stable/user_guide/indexing.html#returning-a-view-versus-a-copy\n",
      "  after removing the cwd from sys.path.\n"
     ]
    },
    {
     "data": {
      "text/plain": [
       "-1     419439\n",
       " 33    200756\n",
       " 30    107324\n",
       " 29    106447\n",
       " 31    105979\n",
       " 28    105786\n",
       " 32    104922\n",
       " 27    104567\n",
       " 26    101934\n",
       " 34     99083\n",
       "Name: idade, dtype: int64"
      ]
     },
     "execution_count": 30,
     "metadata": {},
     "output_type": "execute_result"
    }
   ],
   "source": [
    "df[\"idade\"].fillna(-1, inplace=True)\n",
    "df[\"idade\"]= df[\"idade\"].astype(np.int32)\n",
    "df[\"idade\"][df[\"idade\"] > 1000]= (2020-(df[\"idade\"][df[\"idade\"]>1000])) \n",
    "df[\"idade\"][df[\"idade\"] > 100]= -1\n",
    "df[\"idade\"].value_counts().head(10)"
   ]
  },
  {
   "cell_type": "markdown",
   "metadata": {},
   "source": [
    "Coluna **`sexo`**(sexo da pessoa): \n",
    "\n",
    "Nesta coluna limpamos os espaços em branco no inicio e fim das palavras e normalizamos os nomes parecidos mas com mesmo significado"
   ]
  },
  {
   "cell_type": "code",
   "execution_count": 31,
   "metadata": {},
   "outputs": [
    {
     "data": {
      "text/plain": [
       "Masculino        3122353\n",
       "Feminino          702849\n",
       "Não informado     180007\n",
       "Name: sexo, dtype: int64"
      ]
     },
     "execution_count": 31,
     "metadata": {},
     "output_type": "execute_result"
    }
   ],
   "source": [
    "seri = pd.Series(df[\"sexo\"])\n",
    "seri = seri.str.strip()\n",
    "df[\"sexo\"] = seri\n",
    "\n",
    "\n",
    "correcao_sexo = {'F': 'Feminino', \n",
    "                 'M': 'Masculino', \n",
    "                 'I': 'Não informado',\n",
    "                 'Ignorado': 'Não informado',\n",
    "                 'Inválido': 'Não informado', \n",
    "                 'Masculino': 'Masculino',\n",
    "                 'Feminino': 'Feminino',\n",
    "                 'Não Informado': 'Não informado',\n",
    "                }\n",
    "\n",
    "df[\"sexo\"] = df[\"sexo\"].fillna('Inválido').map(correcao_sexo)\n",
    "df[\"sexo\"].value_counts()"
   ]
  },
  {
   "cell_type": "code",
   "execution_count": null,
   "metadata": {},
   "outputs": [],
   "source": []
  }
 ],
 "metadata": {
  "kernelspec": {
   "display_name": "Python 3",
   "language": "python",
   "name": "python3"
  },
  "language_info": {
   "codemirror_mode": {
    "name": "ipython",
    "version": 3
   },
   "file_extension": ".py",
   "mimetype": "text/x-python",
   "name": "python",
   "nbconvert_exporter": "python",
   "pygments_lexer": "ipython3",
   "version": "3.6.9"
  }
 },
 "nbformat": 4,
 "nbformat_minor": 4
}
