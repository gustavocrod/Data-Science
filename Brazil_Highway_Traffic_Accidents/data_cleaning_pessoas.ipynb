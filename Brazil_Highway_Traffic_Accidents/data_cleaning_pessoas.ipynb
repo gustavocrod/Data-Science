{
 "cells": [
  {
   "cell_type": "markdown",
   "metadata": {},
   "source": [
    "**Importação das Bibliotecas**"
   ]
  },
  {
   "cell_type": "code",
   "execution_count": 1,
   "metadata": {},
   "outputs": [],
   "source": [
    "import pandas as pd\n",
    "import numpy as np\n",
    "\n",
    "import matplotlib.pyplot as plt\n",
    "import seaborn as sns\n",
    "\n",
    "import time"
   ]
  },
  {
   "cell_type": "markdown",
   "metadata": {},
   "source": [
    "# **1. Análise exploratória**\n",
    "\n",
    "###  **Carregamento dos Arquivos:**\n",
    "\n",
    "**OBS:** Os DataFrame df\\_pessoas\\_'ano' são DataFrames de complemento para os dados dos DataFrames df\\_ocorrencia\\_'ano'\n",
    "\n",
    "- **Base de dados por pessoas:**"
   ]
  },
  {
   "cell_type": "code",
   "execution_count": 2,
   "metadata": {},
   "outputs": [],
   "source": [
    "cols = ['id','pesid', 'id_veiculo', 'tipo_veiculo', 'marca', 'ano_fabricacao_veiculo', 'tipo_envolvido', 'estado_fisico', 'idade', 'sexo', 'uf']\n",
    "\n",
    "df_pessoas_2007 = pd.read_csv('archive/por_pessoas/acidentes2007.csv', sep=',', engine='python', encoding='latin-1', usecols=cols)\n",
    "df_pessoas_2008 = pd.read_csv('archive/por_pessoas/acidentes2008.csv', sep=',', engine='python', encoding='latin-1', usecols=cols)\n",
    "df_pessoas_2009 = pd.read_csv('archive/por_pessoas/acidentes2009.csv', sep=',', engine='python', encoding='latin-1', usecols=cols)\n",
    "df_pessoas_2010 = pd.read_csv('archive/por_pessoas/acidentes2010.csv', sep=',', engine='python', encoding='latin-1', usecols=cols)\n",
    "df_pessoas_2011 = pd.read_csv('archive/por_pessoas/acidentes2011.csv', sep=',', engine='python', encoding='latin-1', usecols=cols)\n",
    "df_pessoas_2012 = pd.read_csv('archive/por_pessoas/acidentes2012.csv', sep=',', engine='python', encoding='latin-1', usecols=cols)\n",
    "df_pessoas_2013 = pd.read_csv('archive/por_pessoas/acidentes2013.csv', sep=',', engine='python', encoding='latin-1', usecols=cols)\n",
    "df_pessoas_2014 = pd.read_csv('archive/por_pessoas/acidentes2014.csv', sep=',', engine='python', encoding='latin-1', usecols=cols)\n",
    "df_pessoas_2015 = pd.read_csv('archive/por_pessoas/acidentes2015.csv', sep=',', engine='python', encoding='latin-1', usecols=cols)\n",
    "df_pessoas_2016 = pd.read_csv('archive/por_pessoas/acidentes2016.csv', sep=';', engine='python', encoding='latin-1', usecols=cols)\n",
    "df_pessoas_2017 = pd.read_csv('archive/por_pessoas/acidentes2017.csv', sep=';', engine='python', encoding='latin-1', usecols=cols)\n",
    "df_pessoas_2018 = pd.read_csv('archive/por_pessoas/acidentes2018.csv', sep=';', engine='python', encoding='latin-1', usecols=cols)\n",
    "df_pessoas_2019 = pd.read_csv('archive/por_pessoas/acidentes2019.csv', sep=';', engine='python', encoding='latin-1', usecols=cols)\n",
    "df_pessoas_2020 = pd.read_csv('archive/por_pessoas/acidentes2020.csv', sep=';', engine='python', encoding='latin-1', usecols=cols)"
   ]
  },
  {
   "cell_type": "markdown",
   "metadata": {},
   "source": [
    "- **Cabeçalho**\n",
    "\n",
    "Visualizar os 10 primeiros registros do conjunto de dados"
   ]
  },
  {
   "cell_type": "code",
   "execution_count": 3,
   "metadata": {},
   "outputs": [
    {
     "data": {
      "text/html": [
       "<div>\n",
       "<style scoped>\n",
       "    .dataframe tbody tr th:only-of-type {\n",
       "        vertical-align: middle;\n",
       "    }\n",
       "\n",
       "    .dataframe tbody tr th {\n",
       "        vertical-align: top;\n",
       "    }\n",
       "\n",
       "    .dataframe thead th {\n",
       "        text-align: right;\n",
       "    }\n",
       "</style>\n",
       "<table border=\"1\" class=\"dataframe\">\n",
       "  <thead>\n",
       "    <tr style=\"text-align: right;\">\n",
       "      <th></th>\n",
       "      <th>id</th>\n",
       "      <th>pesid</th>\n",
       "      <th>uf</th>\n",
       "      <th>id_veiculo</th>\n",
       "      <th>tipo_veiculo</th>\n",
       "      <th>marca</th>\n",
       "      <th>ano_fabricacao_veiculo</th>\n",
       "      <th>tipo_envolvido</th>\n",
       "      <th>estado_fisico</th>\n",
       "      <th>idade</th>\n",
       "      <th>sexo</th>\n",
       "    </tr>\n",
       "  </thead>\n",
       "  <tbody>\n",
       "    <tr>\n",
       "      <th>0</th>\n",
       "      <td>10</td>\n",
       "      <td>647938</td>\n",
       "      <td>MG</td>\n",
       "      <td>439395</td>\n",
       "      <td>Automóvel</td>\n",
       "      <td>GM/CLASSIC LIFE</td>\n",
       "      <td>2005</td>\n",
       "      <td>Condutor</td>\n",
       "      <td>Ileso</td>\n",
       "      <td>23.0</td>\n",
       "      <td>Masculino</td>\n",
       "    </tr>\n",
       "    <tr>\n",
       "      <th>1</th>\n",
       "      <td>10</td>\n",
       "      <td>647938</td>\n",
       "      <td>MG</td>\n",
       "      <td>439395</td>\n",
       "      <td>Automóvel</td>\n",
       "      <td>GM/CLASSIC LIFE</td>\n",
       "      <td>2005</td>\n",
       "      <td>Condutor</td>\n",
       "      <td>Ileso</td>\n",
       "      <td>23.0</td>\n",
       "      <td>Masculino</td>\n",
       "    </tr>\n",
       "    <tr>\n",
       "      <th>2</th>\n",
       "      <td>10</td>\n",
       "      <td>648468</td>\n",
       "      <td>MG</td>\n",
       "      <td>439395</td>\n",
       "      <td>Automóvel</td>\n",
       "      <td>GM/CLASSIC LIFE</td>\n",
       "      <td>2005</td>\n",
       "      <td>Passageiro</td>\n",
       "      <td>Ferido Leve</td>\n",
       "      <td>44.0</td>\n",
       "      <td>Masculino</td>\n",
       "    </tr>\n",
       "    <tr>\n",
       "      <th>3</th>\n",
       "      <td>10</td>\n",
       "      <td>648468</td>\n",
       "      <td>MG</td>\n",
       "      <td>439395</td>\n",
       "      <td>Automóvel</td>\n",
       "      <td>GM/CLASSIC LIFE</td>\n",
       "      <td>2005</td>\n",
       "      <td>Passageiro</td>\n",
       "      <td>Ferido Leve</td>\n",
       "      <td>44.0</td>\n",
       "      <td>Masculino</td>\n",
       "    </tr>\n",
       "    <tr>\n",
       "      <th>4</th>\n",
       "      <td>10</td>\n",
       "      <td>648470</td>\n",
       "      <td>MG</td>\n",
       "      <td>439395</td>\n",
       "      <td>Automóvel</td>\n",
       "      <td>GM/CLASSIC LIFE</td>\n",
       "      <td>2005</td>\n",
       "      <td>Passageiro</td>\n",
       "      <td>Ferido Leve</td>\n",
       "      <td>10.0</td>\n",
       "      <td>Feminino</td>\n",
       "    </tr>\n",
       "    <tr>\n",
       "      <th>5</th>\n",
       "      <td>10</td>\n",
       "      <td>648470</td>\n",
       "      <td>MG</td>\n",
       "      <td>439395</td>\n",
       "      <td>Automóvel</td>\n",
       "      <td>GM/CLASSIC LIFE</td>\n",
       "      <td>2005</td>\n",
       "      <td>Passageiro</td>\n",
       "      <td>Ferido Leve</td>\n",
       "      <td>10.0</td>\n",
       "      <td>Feminino</td>\n",
       "    </tr>\n",
       "    <tr>\n",
       "      <th>6</th>\n",
       "      <td>10</td>\n",
       "      <td>648471</td>\n",
       "      <td>MG</td>\n",
       "      <td>439395</td>\n",
       "      <td>Automóvel</td>\n",
       "      <td>GM/CLASSIC LIFE</td>\n",
       "      <td>2005</td>\n",
       "      <td>Passageiro</td>\n",
       "      <td>Ferido Leve</td>\n",
       "      <td>39.0</td>\n",
       "      <td>Masculino</td>\n",
       "    </tr>\n",
       "    <tr>\n",
       "      <th>7</th>\n",
       "      <td>10</td>\n",
       "      <td>648471</td>\n",
       "      <td>MG</td>\n",
       "      <td>439395</td>\n",
       "      <td>Automóvel</td>\n",
       "      <td>GM/CLASSIC LIFE</td>\n",
       "      <td>2005</td>\n",
       "      <td>Passageiro</td>\n",
       "      <td>Ferido Leve</td>\n",
       "      <td>39.0</td>\n",
       "      <td>Masculino</td>\n",
       "    </tr>\n",
       "    <tr>\n",
       "      <th>8</th>\n",
       "      <td>10</td>\n",
       "      <td>2068191</td>\n",
       "      <td>MG</td>\n",
       "      <td>1204697</td>\n",
       "      <td>Automóvel</td>\n",
       "      <td>FIAT/UNO MILLE FIRE FLEX</td>\n",
       "      <td>2008</td>\n",
       "      <td>Condutor</td>\n",
       "      <td>Ileso</td>\n",
       "      <td>NaN</td>\n",
       "      <td>NaN</td>\n",
       "    </tr>\n",
       "    <tr>\n",
       "      <th>9</th>\n",
       "      <td>10</td>\n",
       "      <td>2068191</td>\n",
       "      <td>MG</td>\n",
       "      <td>1204697</td>\n",
       "      <td>Automóvel</td>\n",
       "      <td>FIAT/UNO MILLE FIRE FLEX</td>\n",
       "      <td>2008</td>\n",
       "      <td>Condutor</td>\n",
       "      <td>Ileso</td>\n",
       "      <td>NaN</td>\n",
       "      <td>NaN</td>\n",
       "    </tr>\n",
       "  </tbody>\n",
       "</table>\n",
       "</div>"
      ],
      "text/plain": [
       "   id    pesid  uf id_veiculo tipo_veiculo                     marca  \\\n",
       "0  10   647938  MG     439395    Automóvel           GM/CLASSIC LIFE   \n",
       "1  10   647938  MG     439395    Automóvel           GM/CLASSIC LIFE   \n",
       "2  10   648468  MG     439395    Automóvel           GM/CLASSIC LIFE   \n",
       "3  10   648468  MG     439395    Automóvel           GM/CLASSIC LIFE   \n",
       "4  10   648470  MG     439395    Automóvel           GM/CLASSIC LIFE   \n",
       "5  10   648470  MG     439395    Automóvel           GM/CLASSIC LIFE   \n",
       "6  10   648471  MG     439395    Automóvel           GM/CLASSIC LIFE   \n",
       "7  10   648471  MG     439395    Automóvel           GM/CLASSIC LIFE   \n",
       "8  10  2068191  MG    1204697    Automóvel  FIAT/UNO MILLE FIRE FLEX   \n",
       "9  10  2068191  MG    1204697    Automóvel  FIAT/UNO MILLE FIRE FLEX   \n",
       "\n",
       "  ano_fabricacao_veiculo tipo_envolvido estado_fisico  idade       sexo  \n",
       "0                   2005       Condutor  Ileso          23.0  Masculino  \n",
       "1                   2005       Condutor  Ileso          23.0  Masculino  \n",
       "2                   2005     Passageiro  Ferido Leve    44.0  Masculino  \n",
       "3                   2005     Passageiro  Ferido Leve    44.0  Masculino  \n",
       "4                   2005     Passageiro  Ferido Leve    10.0   Feminino  \n",
       "5                   2005     Passageiro  Ferido Leve    10.0   Feminino  \n",
       "6                   2005     Passageiro  Ferido Leve    39.0  Masculino  \n",
       "7                   2005     Passageiro  Ferido Leve    39.0  Masculino  \n",
       "8                   2008       Condutor  Ileso           NaN        NaN  \n",
       "9                   2008       Condutor  Ileso           NaN        NaN  "
      ]
     },
     "execution_count": 3,
     "metadata": {},
     "output_type": "execute_result"
    }
   ],
   "source": [
    "df_pessoas_2007.head(10)"
   ]
  },
  {
   "cell_type": "markdown",
   "metadata": {},
   "source": [
    "### **2. Limpezas e Normalização dos DataFrames**\n",
    "\n",
    "- **Adicionar coluna ```ano``` em todos os dataframes:**"
   ]
  },
  {
   "cell_type": "code",
   "execution_count": 4,
   "metadata": {},
   "outputs": [],
   "source": [
    "df_pessoas_2007['ano'] = 2007\n",
    "df_pessoas_2008['ano'] = 2008\n",
    "df_pessoas_2009['ano'] = 2009\n",
    "df_pessoas_2010['ano'] = 2010\n",
    "df_pessoas_2011['ano'] = 2011\n",
    "df_pessoas_2012['ano'] = 2012\n",
    "df_pessoas_2013['ano'] = 2013\n",
    "df_pessoas_2014['ano'] = 2014\n",
    "df_pessoas_2015['ano'] = 2015\n",
    "df_pessoas_2016['ano'] = 2016\n",
    "df_pessoas_2017['ano'] = 2017\n",
    "df_pessoas_2018['ano'] = 2018\n",
    "df_pessoas_2019['ano'] = 2019\n",
    "df_pessoas_2020['ano'] = 2020"
   ]
  },
  {
   "cell_type": "markdown",
   "metadata": {},
   "source": [
    "- **Concatenar todos os dataframes**"
   ]
  },
  {
   "cell_type": "code",
   "execution_count": 5,
   "metadata": {},
   "outputs": [],
   "source": [
    "df = pd.concat([df_pessoas_2007,df_pessoas_2008,df_pessoas_2009,df_pessoas_2010,df_pessoas_2011,\n",
    "                              df_pessoas_2012,df_pessoas_2013,df_pessoas_2014,df_pessoas_2015,df_pessoas_2016,\n",
    "                              df_pessoas_2017,df_pessoas_2018,df_pessoas_2019,df_pessoas_2020], sort = False)"
   ]
  },
  {
   "cell_type": "markdown",
   "metadata": {},
   "source": [
    "- **Afunilamento dos dados para o RS**"
   ]
  },
  {
   "cell_type": "code",
   "execution_count": 6,
   "metadata": {},
   "outputs": [],
   "source": [
    "df = df[df['uf'] == 'RS']"
   ]
  },
  {
   "cell_type": "markdown",
   "metadata": {},
   "source": [
    "- **Tipos de dados:**\n",
    "\n",
    "Visualizar as colunas e os respectivos tipos de dados que elas estão classificadas"
   ]
  },
  {
   "cell_type": "code",
   "execution_count": 7,
   "metadata": {},
   "outputs": [
    {
     "data": {
      "text/plain": [
       "id                        float64\n",
       "pesid                     float64\n",
       "uf                         object\n",
       "id_veiculo                 object\n",
       "tipo_veiculo               object\n",
       "marca                      object\n",
       "ano_fabricacao_veiculo     object\n",
       "tipo_envolvido             object\n",
       "estado_fisico              object\n",
       "idade                     float64\n",
       "sexo                       object\n",
       "ano                         int64\n",
       "dtype: object"
      ]
     },
     "execution_count": 7,
     "metadata": {},
     "output_type": "execute_result"
    }
   ],
   "source": [
    "df.dtypes"
   ]
  },
  {
   "cell_type": "markdown",
   "metadata": {},
   "source": [
    "- **Quantidade de linhas e colunas**"
   ]
  },
  {
   "cell_type": "code",
   "execution_count": 8,
   "metadata": {},
   "outputs": [
    {
     "name": "stdout",
     "output_type": "stream",
     "text": [
      "310072 linhas e 12 colunas.\n"
     ]
    }
   ],
   "source": [
    "print(f\"{df.shape[0]} linhas e {df.shape[1]} colunas.\")"
   ]
  },
  {
   "cell_type": "markdown",
   "metadata": {},
   "source": [
    "- **Eliminar linhas duplicadas do dataframe:**"
   ]
  },
  {
   "cell_type": "code",
   "execution_count": 9,
   "metadata": {},
   "outputs": [],
   "source": [
    "df.drop_duplicates(subset=cols, keep='first', inplace=True)"
   ]
  },
  {
   "cell_type": "code",
   "execution_count": 10,
   "metadata": {},
   "outputs": [
    {
     "name": "stdout",
     "output_type": "stream",
     "text": [
      "Após a remoção dos registros duplicados: 310065 linhas e 12 colunas.\n"
     ]
    }
   ],
   "source": [
    "print(f\"Após a remoção dos registros duplicados: {df.shape[0]} linhas e {df.shape[1]} colunas.\")"
   ]
  },
  {
   "cell_type": "markdown",
   "metadata": {},
   "source": [
    "- **_missing_ values**"
   ]
  },
  {
   "cell_type": "code",
   "execution_count": 11,
   "metadata": {},
   "outputs": [
    {
     "data": {
      "text/plain": [
       "id                        0.000000\n",
       "pesid                     0.000000\n",
       "uf                        0.000000\n",
       "tipo_envolvido            0.000000\n",
       "estado_fisico             0.000000\n",
       "ano                       0.000000\n",
       "sexo                      0.000123\n",
       "tipo_veiculo              0.000742\n",
       "id_veiculo                0.000745\n",
       "ano_fabricacao_veiculo    0.007963\n",
       "marca                     0.011140\n",
       "idade                     0.020380\n",
       "dtype: float64"
      ]
     },
     "execution_count": 11,
     "metadata": {},
     "output_type": "execute_result"
    }
   ],
   "source": [
    "# Porcentagem de valores faltantes\n",
    "(df.isnull().sum()/df.shape[0]).sort_values()"
   ]
  },
  {
   "cell_type": "markdown",
   "metadata": {},
   "source": [
    "- **Eliminar linhas com todos os valores incompletos ou nulos:**"
   ]
  },
  {
   "cell_type": "code",
   "execution_count": 12,
   "metadata": {},
   "outputs": [],
   "source": [
    "df.dropna(how='all', inplace=True)"
   ]
  },
  {
   "cell_type": "code",
   "execution_count": 13,
   "metadata": {},
   "outputs": [
    {
     "name": "stdout",
     "output_type": "stream",
     "text": [
      "Após a remoção dos registros nulos: 310065 linhas e 12 colunas.\n"
     ]
    }
   ],
   "source": [
    "print(f\"Após a remoção dos registros nulos: {df.shape[0]} linhas e {df.shape[1]} colunas.\")"
   ]
  },
  {
   "cell_type": "markdown",
   "metadata": {},
   "source": [
    "- **Reindexar os registros, por conta da remoção das duplicatas**"
   ]
  },
  {
   "cell_type": "code",
   "execution_count": 14,
   "metadata": {},
   "outputs": [],
   "source": [
    "df.reset_index(drop=True, inplace=True)"
   ]
  },
  {
   "cell_type": "markdown",
   "metadata": {},
   "source": [
    "- **Completar com outros valores as colunas com valores nulos ou incompletos**\n",
    "\n",
    "Vamos nos atentar apenas para a idade. As demais colunas não são passiveis de correção."
   ]
  },
  {
   "cell_type": "code",
   "execution_count": 15,
   "metadata": {},
   "outputs": [
    {
     "data": {
      "text/plain": [
       "6319"
      ]
     },
     "execution_count": 15,
     "metadata": {},
     "output_type": "execute_result"
    }
   ],
   "source": [
    "# valores nulos antes de normalizar\n",
    "df['idade'].isnull().sum()"
   ]
  },
  {
   "cell_type": "code",
   "execution_count": 16,
   "metadata": {},
   "outputs": [],
   "source": [
    "df['idade'].fillna(df['idade'].mean(), inplace=True)"
   ]
  },
  {
   "cell_type": "code",
   "execution_count": 17,
   "metadata": {},
   "outputs": [
    {
     "data": {
      "text/plain": [
       "0"
      ]
     },
     "execution_count": 17,
     "metadata": {},
     "output_type": "execute_result"
    }
   ],
   "source": [
    "df['idade'].isnull().sum()"
   ]
  },
  {
   "cell_type": "markdown",
   "metadata": {},
   "source": [
    "### **3. Visualização dos valores possíveis**\n",
    "\n",
    "Vamos verificar os valores das variáveis categóricas:\n",
    "\n",
    "- **`tipo_envolvido`**\n",
    "- **`estado_fisico`**\n",
    "- **`tipo_veiculo`**\n",
    "- **`marca`**\n",
    "- **`sexo`**\n",
    "\n",
    "e algumas visualizações sobre tendências nas variáveis numéricas como:\n",
    "- **`ano_fabricacao_veiculo`**\n",
    "- **`idade`**"
   ]
  },
  {
   "cell_type": "code",
   "execution_count": 18,
   "metadata": {},
   "outputs": [
    {
     "data": {
      "text/plain": [
       "array(['Condutor', 'Passageiro', 'Vítima', 'Pedestre', 'Autor',\n",
       "       'Cavaleiro', 'Ciclista', 'Testemunha'], dtype=object)"
      ]
     },
     "execution_count": 18,
     "metadata": {},
     "output_type": "execute_result"
    }
   ],
   "source": [
    "df['tipo_envolvido'].unique()"
   ]
  },
  {
   "cell_type": "code",
   "execution_count": 19,
   "metadata": {},
   "outputs": [
    {
     "data": {
      "text/plain": [
       "array(['Ileso       ', 'Ferido Leve ', 'Ferido Grave', 'Ignorado    ',\n",
       "       'Morto       ', '(null)', 'Ileso', 'Ferido Leve', 'Ignorado',\n",
       "       'Morto', 'Lesões Leves', 'Não Informado', 'Lesões Graves', 'Óbito'],\n",
       "      dtype=object)"
      ]
     },
     "execution_count": 19,
     "metadata": {},
     "output_type": "execute_result"
    }
   ],
   "source": [
    "df['estado_fisico'].unique()"
   ]
  },
  {
   "cell_type": "code",
   "execution_count": 20,
   "metadata": {},
   "outputs": [
    {
     "data": {
      "text/plain": [
       "array(['Automóvel', 'Motocicletas', 'Caminhão', 'Caminhonete',\n",
       "       'Camioneta', 'Caminhão-Trator', '(null)', 'Não identificado',\n",
       "       'Reboque', 'Bicicleta', 'Motoneta', 'Ônibus', 'Microônibus',\n",
       "       'Caminhão-Tanque', 'Utilitário', 'Trator de rodas', 'Carroça',\n",
       "       'Semi-Reboque', 'Charrete', 'Triciclo', 'Trator misto',\n",
       "       'Bonde / Trem', 'Ciclomotor', 'Carro-de-mao', 'Quadriciclo',\n",
       "       'Trator de esteiras', 'Motor-Casa', nan, 'Motocicleta',\n",
       "       'Micro-ônibus', 'Caminhão-trator', 'Não Informado', 'Semireboque',\n",
       "       'Outros', 'Carroça-charrete', 'Chassi-plataforma', 'Carro de mão',\n",
       "       'Trem-bonde'], dtype=object)"
      ]
     },
     "execution_count": 20,
     "metadata": {},
     "output_type": "execute_result"
    }
   ],
   "source": [
    "df['tipo_veiculo'].unique()"
   ]
  },
  {
   "cell_type": "code",
   "execution_count": 21,
   "metadata": {},
   "outputs": [
    {
     "data": {
      "text/plain": [
       "array(['FIAT/UNO ELECTRONIC                               ',\n",
       "       'GM/KADETT SL/E EFI                                ',\n",
       "       'RENAULT/CLIO EXP 16 16VH', ..., 'I/JAG FPACE 250CVG PREST',\n",
       "       'I/LR EVOQUE PRESTIGE 5D', 'I/TOYOTA HILUX CSLSTM4FD'],\n",
       "      dtype=object)"
      ]
     },
     "execution_count": 21,
     "metadata": {},
     "output_type": "execute_result"
    }
   ],
   "source": [
    "df['marca'].unique()"
   ]
  },
  {
   "cell_type": "code",
   "execution_count": 22,
   "metadata": {},
   "outputs": [
    {
     "data": {
      "text/plain": [
       "array(['Masculino', 'Feminino', 'Não Informado', nan, 'Inválido', 'F',\n",
       "       'M', 'I', 'Ignorado'], dtype=object)"
      ]
     },
     "execution_count": 22,
     "metadata": {},
     "output_type": "execute_result"
    }
   ],
   "source": [
    "df['sexo'].unique()"
   ]
  },
  {
   "cell_type": "markdown",
   "metadata": {},
   "source": [
    "- **Análise dos valores**\n",
    "\n",
    "OK, para o **`tipo_envolvido`** temos os valores: \n",
    "* \"Condutor\", \n",
    "* \"Passageiro\", \n",
    "* \"Pedestre\", \n",
    "* \"Testemunha\", \n",
    "* \"Cavaleiro\", \n",
    "* \"Vítima\", \n",
    "* \"Autor\", \n",
    "* \"Ciclista\", \n",
    "* \"Não Informado\", \n",
    "* \"Proprietário de Carga\" \n",
    "* \"Proprietário da CNH\". \n",
    "\n",
    "Todos os valores estão limpos e não são duplicados.\n",
    "\n",
    "**`estado_fisico`** possui os valores: 'Ileso       ', 'Ferido Leve ', 'Ferido Grave', 'Morto       ', 'Ignorado    ', '(null)', 'Morto', 'Ileso', 'Ferido Leve', 'Ignorado', nan, 'Lesões Graves', 'Lesões Leves', 'Óbito', 'Não Informado'. Podemos observar alguns espaços em branco que discretizam valores, porém são duplicados, e também há erro sobre os valores nulos '(null)' que devem ser descartados. E valores sinônimos, como Ferido ou Lesões, e óbito e morte. Portanto, os valores únicos reais são: \n",
    "* \"Ileso\", \n",
    "* \"Ferido Leve\", \n",
    "* \"Ferido Grave\", \n",
    "* \"Óbito\", \n",
    "* \"Ignorado\",\n",
    "* \"Não informado\"\n",
    "\n",
    "**`tipo_veiculo`** possui os valores: \n",
    "'Automóvel', 'Camioneta', '(null)', 'Caminhão', 'Caminhonete',\n",
    "       'Motocicletas', 'Ônibus', 'Não identificado', 'Microônibus',\n",
    "       'Caminhão-Trator', 'Motoneta', 'Bicicleta', 'Reboque', 'Carroça',\n",
    "       'Utilitário', 'Semi-Reboque', 'Caminhão-Tanque', 'Charrete',\n",
    "       'Trator de esteiras', 'Trator de rodas', 'Trator misto',\n",
    "       'Carro-de-mao', 'Ciclomotor', 'Bonde / Trem', 'Triciclo',\n",
    "       'Quadriciclo', 'Side-car', 'Motor-Casa', nan, 'Motocicleta',\n",
    "       'Caminhão-trator', 'Carroça-charrete', 'Semireboque',\n",
    "       'Micro-ônibus', 'Outros', 'Não Informado', 'Carro de mão',\n",
    "       'Trem-bonde', 'Chassi-plataforma', 'Trator de esteira'. Possui o valor '(null)' que deve ser removido, e alguns valores equivalentes, como \"Carro-de-mao' e 'Carro de mão'; Todos os tratores para \"Trator\"; \"Semi-reboque\" e \"Semireboque\"; \"Micro-ônibus\" e \"Microonibus\".\n",
    "       \n",
    "Os valores únicos reais são:\n",
    "* \"Automóvel\",\n",
    "* \"Camioneta\",\n",
    "* \"Caminhonete\", (esses dois parecem ambíguos mas são distintos)\n",
    "* \"Motocicletas\",\n",
    "* \"Ônibus\",\n",
    "* \"Microônibus\",\n",
    "* \"Caminhão-Trator\",\n",
    "* \"Motoneta\",\n",
    "* \"Bicicleta\",\n",
    "* \"Reboque\",\n",
    "* \"Carroça\",\n",
    "* \"Utilitário\",\n",
    "* \"Semi-reboque\",\n",
    "* \"Caminhão-Tanque\",\n",
    "* \"Charrete\",\n",
    "* \"Trator\"\n",
    "* \"Carro de mao\",\n",
    "* \"Ciclomotor\",\n",
    "* \"Bonde / Trem\", \n",
    "* \"Triciclo\",\n",
    "* \"Quadriciclo\", \n",
    "* \"Side-car\", \n",
    "* \"Motor-Casa\", \n",
    "* \"Motocicleta\",\n",
    "* \"Caminhão-trator\",\n",
    "* \"Carroça-charrete\",\n",
    "* \"Outros\",\n",
    "* \"Não Informado\",\n",
    "* \"Trem-bonde\",\n",
    "* \"Chassi-plataforma\"\n",
    "\n",
    "**`marca`** possui um padrão de \"marca\" / \"modelo do veículo\".\n",
    "\n",
    "**`sexo`** compreende os valores: 'Masculino', 'Feminino', nan, 'Não Informado', 'Inválido', 'M', 'F', 'I', 'Ignorado'. Porém esses valores são abreviações. Portanto, os valores reais e utilizados são:\n",
    "\n",
    "* \"Masculino\",\n",
    "* \"Feminino\",\n",
    "* \"Não Informado\",\n",
    "* \"Inválido\""
   ]
  },
  {
   "cell_type": "markdown",
   "metadata": {},
   "source": [
    "### **4. Correção dos campos**"
   ]
  },
  {
   "cell_type": "markdown",
   "metadata": {},
   "source": [
    "Coluna **`id`** (id do acidente):\n",
    "\n",
    "Nesta coluna os valores nulos viram -1 e alteramos o tipo de dado da coluna para int64"
   ]
  },
  {
   "cell_type": "code",
   "execution_count": 23,
   "metadata": {},
   "outputs": [
    {
     "data": {
      "text/plain": [
       "83524559    67\n",
       "940375      54\n",
       "83115311    52\n",
       "73825       52\n",
       "397501      51\n",
       "83071850    50\n",
       "115917      49\n",
       "479314      49\n",
       "120498      49\n",
       "246908      48\n",
       "Name: id, dtype: int64"
      ]
     },
     "execution_count": 23,
     "metadata": {},
     "output_type": "execute_result"
    }
   ],
   "source": [
    "#df[\"id\"].isnull().value_counts()\n",
    "df[\"id\"].fillna(-1, inplace=True)\n",
    "df[\"id\"] = df[\"id\"].astype(np.int64)\n",
    "df[\"id\"].value_counts().head(10)"
   ]
  },
  {
   "cell_type": "markdown",
   "metadata": {},
   "source": [
    "Coluna **`pesid`** (id da pessoa):\n",
    "\n",
    "Nesta coluna os valores nulos viram -1 e alteramos o tipo de dado da coluna para int64"
   ]
  },
  {
   "cell_type": "code",
   "execution_count": 24,
   "metadata": {},
   "outputs": [
    {
     "data": {
      "text/plain": [
       "594689    2\n",
       "478209    2\n",
       "531004    2\n",
       "557944    2\n",
       "594121    2\n",
       "456023    2\n",
       "516074    2\n",
       "529386    2\n",
       "561588    2\n",
       "481111    2\n",
       "Name: pesid, dtype: int64"
      ]
     },
     "execution_count": 24,
     "metadata": {},
     "output_type": "execute_result"
    }
   ],
   "source": [
    "# df.isnull().value_counts()\n",
    "df[\"pesid\"].fillna(-1, inplace=True)\n",
    "df[\"pesid\"] = df[\"pesid\"].astype(np.int64)\n",
    "df[\"pesid\"].value_counts().head(10)"
   ]
  },
  {
   "cell_type": "markdown",
   "metadata": {},
   "source": [
    "Coluna **`id_veiculo`** (id dos veículos):\n",
    "\n",
    "Aqui normalizamos os campos (null) para número -1, retiramos os espaços em branco, dados com valores 'Na' viraram -1 e o tipo de dado da coluna foi alterado para int64"
   ]
  },
  {
   "cell_type": "code",
   "execution_count": 25,
   "metadata": {},
   "outputs": [
    {
     "data": {
      "text/plain": [
       "-1           3126\n",
       " 19177325      67\n",
       " 2589726       53\n",
       " 131185        51\n",
       " 707189        50\n",
       " 18395315      49\n",
       " 847849        48\n",
       " 2970439       47\n",
       " 2251322       47\n",
       " 440584        47\n",
       "Name: id_veiculo, dtype: int64"
      ]
     },
     "execution_count": 25,
     "metadata": {},
     "output_type": "execute_result"
    }
   ],
   "source": [
    "df[\"id_veiculo\"] = df[\"id_veiculo\"].replace('(null)', np.nan)\n",
    "df[\"id_veiculo\"].fillna(-1, inplace=True)\n",
    "df[\"id_veiculo\"] = df[\"id_veiculo\"].astype(np.int64)\n",
    "df[\"id_veiculo\"].value_counts().head(10)"
   ]
  },
  {
   "cell_type": "markdown",
   "metadata": {},
   "source": [
    "Coluna **`tipo_veiculo`**(tipo de veículos):\n",
    "\n",
    "Normalizamos os campos (null) para 'Não Informado' e também normalizamos nomes parecidos mas com mesmo significado"
   ]
  },
  {
   "cell_type": "code",
   "execution_count": 26,
   "metadata": {},
   "outputs": [],
   "source": [
    "df2 = df.copy()"
   ]
  },
  {
   "cell_type": "code",
   "execution_count": 27,
   "metadata": {},
   "outputs": [
    {
     "data": {
      "text/plain": [
       "Automóvel             172156\n",
       "Caminhão               27628\n",
       "Motocicletas           24516\n",
       "Caminhonete            20853\n",
       "Caminhão-Trator        18634\n",
       "Camioneta              12513\n",
       "Ônibus                  9927\n",
       "Motocicleta             6084\n",
       "Caminhão-trator         3094\n",
       "(null)                  2938\n",
       "Motoneta                2917\n",
       "Utilitário              2192\n",
       "Bicicleta               2130\n",
       "Microônibus             1952\n",
       "Não identificado         638\n",
       "Carroça                  355\n",
       "Trator de rodas          294\n",
       "Micro-ônibus             244\n",
       "Charrete                 118\n",
       "Outros                   105\n",
       "Semi-Reboque              91\n",
       "Caminhão-Tanque           90\n",
       "Semireboque               66\n",
       "Reboque                   62\n",
       "Carroça-charrete          57\n",
       "Bonde / Trem              54\n",
       "Ciclomotor                33\n",
       "Não Informado             32\n",
       "Triciclo                  16\n",
       "Trator misto              16\n",
       "Motor-Casa                 8\n",
       "Trem-bonde                 6\n",
       "Trator de esteiras         5\n",
       "Carro-de-mao               5\n",
       "Quadriciclo                4\n",
       "Carro de mão               1\n",
       "Chassi-plataforma          1\n",
       "Name: tipo_veiculo, dtype: int64"
      ]
     },
     "execution_count": 27,
     "metadata": {},
     "output_type": "execute_result"
    }
   ],
   "source": [
    "df2['tipo_veiculo'].value_counts()"
   ]
  },
  {
   "cell_type": "code",
   "execution_count": 28,
   "metadata": {},
   "outputs": [
    {
     "data": {
      "text/plain": [
       "Automóvel          172156\n",
       "Caminhão            46352\n",
       "Motocicletas        24516\n",
       "Caminhonete         20853\n",
       "Camioneta           12513\n",
       "Ônibus               9927\n",
       "Motocicleta          6084\n",
       "Não informado        3168\n",
       "Caminhão-trator      3094\n",
       "Motoneta             2917\n",
       "Name: tipo_veiculo, dtype: int64"
      ]
     },
     "execution_count": 28,
     "metadata": {},
     "output_type": "execute_result"
    }
   ],
   "source": [
    "df[\"tipo_veiculo\"] = df[\"tipo_veiculo\"].replace('(null)', np.nan)\n",
    "df[\"tipo_veiculo\"].fillna(\"Não informado\", inplace=True)\n",
    " \n",
    "correcao_nomes = {\n",
    "    'Automóvel': 'Automóvel', \n",
    "    'Camioneta' : 'Camioneta',\n",
    "    'Caminhão': 'Caminhão',\n",
    "    'Caminhonete': 'Caminhonete',  \n",
    "    'Micro-ônibus': 'Microônibus',\n",
    "    'Trator de esteiras': 'Trator de esteira',\n",
    "    'Semireboque': 'Semirreboque',\n",
    "    'Semi-Reboque': 'Semirreboque',\n",
    "    'Carro-de-mao': 'Carro de mão', \n",
    "    'Trator de esteiras': 'Trator',\n",
    "    'Trator de esteira': 'Trator', \n",
    "    'Trator de rodas': 'Trator', \n",
    "    'Trator misto': 'Trator',\n",
    "    'Não identificado': 'Não Informado',\n",
    "    'Motocicletas': 'Motocicletas',\n",
    "    'Ônibus': 'Ônibus',\n",
    "    'Caminhão-Trator': 'Caminhão',\n",
    "    'Motoneta': 'Motoneta', \n",
    "    'Bicicleta': 'Bicicleta', \n",
    "    'Reboque': 'Reboque', \n",
    "    'Carroça': 'Carroça',\n",
    "    'Utilitário': 'Utilitário',\n",
    "    'Caminhão-Tanque': 'Caminhão', \n",
    "    'Charrete': 'Charrete',\n",
    "    'Ciclomotor': 'Ciclomotor',\n",
    "    'Bonde / Trem': 'Bonde / Trem',\n",
    "    'Triciclo': 'Triciclo',\n",
    "    'Quadriciclo': 'Quadriciclo', \n",
    "    'Side-car': 'Side-car',\n",
    "    'Motor-Casa': 'Motor-Casa',\n",
    "    'Motocicleta': 'Motocicleta',\n",
    "    'Carroça-charrete': 'Carroça-charrete',\n",
    "    'Outros': 'Outros',\n",
    "    'Chassi-plataforma': 'Chassi-plataforma',\n",
    "}\n",
    "\n",
    "\n",
    "df[\"tipo_veiculo\"] = df[\"tipo_veiculo\"].replace(correcao_nomes)\n",
    "\n",
    "#df['tipo_veiculo'].unique()\n",
    "df.tipo_veiculo.value_counts()"
   ]
  },
  {
   "cell_type": "code",
   "execution_count": 31,
   "metadata": {},
   "outputs": [
    {
     "data": {
      "text/plain": [
       "Automóvel            172156\n",
       "Caminhão              46352\n",
       "Motocicletas          24516\n",
       "Caminhonete           20853\n",
       "Camioneta             12513\n",
       "Ônibus                 9927\n",
       "Motocicleta            6084\n",
       "Não informado          3168\n",
       "Caminhão-trator        3094\n",
       "Motoneta               2917\n",
       "Microônibus            2196\n",
       "Utilitário             2192\n",
       "Bicicleta              2130\n",
       "Não Informado           670\n",
       "Carroça                 355\n",
       "Trator                  315\n",
       "Semirreboque            157\n",
       "Charrete                118\n",
       "Outros                  105\n",
       "Reboque                  62\n",
       "Carroça-charrete         57\n",
       "Bonde / Trem             54\n",
       "Ciclomotor               33\n",
       "Triciclo                 16\n",
       "Motor-Casa                8\n",
       "Carro de mão              6\n",
       "Trem-bonde                6\n",
       "Quadriciclo               4\n",
       "Chassi-plataforma         1\n",
       "Name: tipo_veiculo, dtype: int64"
      ]
     },
     "execution_count": 31,
     "metadata": {},
     "output_type": "execute_result"
    }
   ],
   "source": [
    "#df['tipo_veiculo'].unique()\n",
    "df.tipo_veiculo.value_counts()"
   ]
  },
  {
   "cell_type": "code",
   "execution_count": null,
   "metadata": {},
   "outputs": [],
   "source": [
    "df['']"
   ]
  },
  {
   "cell_type": "markdown",
   "metadata": {},
   "source": [
    "Coluna **`marca`**(marca e modelo dos veículos):\n",
    "\n",
    "**falta paralelizar e colocar mais strings para corrigir**\n",
    "\n",
    "Normalizamos os campos (null) para 'Não Informado', normalizamos nomes parecidos dos fabricantes mas com mesmo significado para nomes padrão, retiramos espaços em branco no inicio e final das palavras"
   ]
  },
  {
   "cell_type": "code",
   "execution_count": 30,
   "metadata": {},
   "outputs": [
    {
     "name": "stdout",
     "output_type": "stream",
     "text": [
      "tempo de execução: 0.03668990929921468 minutos\n"
     ]
    },
    {
     "data": {
      "text/plain": [
       "Não informado              36345\n",
       "VW/GOL 1.0                  4853\n",
       "GM/CORSA WIND               2818\n",
       "HONDA/CG 150 TITAN KS       2400\n",
       "FORD/FIESTA                 1821\n",
       "                           ...  \n",
       "I/CHERY FACE 1.3 FLEX          1\n",
       "FIAT/STRADA 1.5 CE             1\n",
       "FORD/F250 TRV TROPCAMPO        1\n",
       "SCANIA/T114LA4X2NA 380         1\n",
       "KIA/BESTA SV                   1\n",
       "Name: marca, Length: 7951, dtype: int64"
      ]
     },
     "execution_count": 30,
     "metadata": {},
     "output_type": "execute_result"
    }
   ],
   "source": [
    "inicio = time.time()\n",
    "\n",
    "seri = pd.Series(df[\"marca\"])\n",
    "seri = seri.str.strip()\n",
    "df[\"marca\"] = seri\n",
    "df[\"marca\"] = df[\"marca\"].replace('(null)', np.nan)\n",
    "df[\"marca\"].fillna(\"Não informado\", inplace=True)\n",
    "\n",
    "strArrumar = ['I/ALFA ROMEO','I/ALFA ROMEU','I/AUDI','IMP/AUDI','I/BASHAN','I/BENELLI','I/BENZHOU','IMP/BMW','I/BMW',\n",
    "           'IMP/GM','I/CHEVROLET','CHEV/','GM/','I/GM','I/CHEV','IMP/CITROEN','IMP/CETROEN','I/CITROEN',\n",
    "           'CITROE/','IMP/CHRYSLER','I/CHRYSLER','IMP/DAIHATSU','CHRY/DODGE','I/DODGE','I/FIAT','IMP/FIAT',\n",
    "           'IMP/FORD','M.A./FORD','I/FORD','H.DAVIDSON/','I/H DAVIDSON','I/RAM','I/HARLEY DAVIDSON','HARLEY DAVIDSON/',\n",
    "           'REB/FORTCAR','I/HUARI','I/H.DAVIDSON','H/HONDA','I/HONDA','IMP/HONDA','HTA/HONDA','I/HYUNDAI',\n",
    "           'HYUNDA/','IMP/HYUNDAI','I/IVECO','IMP/IVECOFIAT','I/JAGUAR','I/JAC','IMP/KAWAZAKI','AVA/KAWASAKI',\n",
    "           'I/KAWASAKI','I/KIA','IMP/KIA','I/M.BENZ','MBENZ/','M.BENZ/','M.B./','I/MERCEDES',\n",
    "           'IMP/MBENZ','IMP/M.BENZ','I/MB' ,'I/MBENZ','I/L.ROVER','IMP/LAND ROVER','I/LR',\n",
    "           'IMP/ GM','IMP/CHEVROLET','I/CHANGHE','MMC/','I/MMC','IMP/MMC',\n",
    "           'IMP/IVECO','MA/MASSEY','I/YINGANG','I/NISSAN','IMP/NISSAN','I/OPEL','I/PEUGEOT','IMP/PEUGEOT',\n",
    "           'I/PORSCHE','I/RENAULT','IMP/RENAULT','I/SCANIA','IMP/SCANIA','I/SUZUKI','JTA/SUZUKI','IMP/SUZUKI',\n",
    "           'I/SHAANXI','I/SHINERAY','I/TOYOTA','IMP/TOYOTA','I/TRAXX','IMP/VW','VW/','I/VW','I/VOLVO','IMP/VOLVO',\n",
    "           'IMP/YAMAHA','I/YAMAHA','I/BRP','I/BUELL','I/BYD','I/CHACOMER','I/CHANGAN','I/CHARMING',\n",
    "           'I/CHERY''I/DAF','I/DAJIANG','I/DAYANG','I/DAYUN','I/DUCATI','I/FERRARI','I/FOTON','I/FYM','I/HAFEI','I/JEEP',\n",
    "           'I/MAN','I/MINI COOPER','I/DACIA RENAULT','I/LEOPARD','I/CTM GREEN SPORT','I/WUYANG','I/LIFAN','IMP/DAEWOO',\n",
    "           'IMP/ASIA','I/SSANGYONG','I/SEAT','I/SINOTRUK','I/SUBARU','I/LIFAN','I/WUYANG','I/JIALING']\n",
    "\n",
    "\n",
    "strNorm = ['ALFA ROMEO/','ALFA ROMEO/','AUDI/','AUDI/','BASHAN/','BENELLI/','BENZHOU/','BMW/','BMW/',\n",
    "         'CHEVROLET/','CHEVROLET/','CHEVROLET/','CHEVROLET/','CHEVROLET/','CHEVROLET/','CITROEN/','CITROEN/','CITROEN/',\n",
    "         'CITROEN/','CHRYSLER/','CHRYSLER/','DAIHATSU/','DODGE/','DODGE/','FIAT/','FIAT/',\n",
    "         'FORD/','FORD/','FORD/','HARLEY DAVIDSON/','HARLEY DAVIDSON/','DODGE/','HARLEY DAVIDSON/',\n",
    "         'FORTCAR/','HUARI/','HARLEY DAVIDSON/','HONDA/','HONDA/','HONDA/','HONDA/','HYUNDAI/',\n",
    "         'HYUNDAI/','HYUNDAI/','IVECO/','IVECO/','JAGUAR/','JAC/','KAWASAKI/','KAWASAKI/',\n",
    "         'KAWASAKI','KIA/','KIA/','MERCEDES-BENZ/','MERCEDES-BENZ/','MERCEDES-BENZ/','MERCEDES-BENZ/','MERCEDES-BENZ/',\n",
    "         'MERCEDES-BENZ/','MERCEDES-BENZ/','MERCEDES-BENZ/','MERCEDES-BENZ/','LAND ROVER/','LAND ROVER/','LAND ROVER/',\n",
    "         'CHEVROLET/','CHEVROLET/','CHANGHE/','MITSUBISHI MOTORS/','MITSUBISHI MOTORS/','MITSUBISHI MOTORS/',\n",
    "         'IVECO/','MASSEY FERGUSON/','NAZAXX/','NISSAN/','NISSAN/','OPEL/','PEUGEOT/','PEUGEOT/',\n",
    "         'PORSCHE/','RENAULT/','RENAULT/','SCANIA/','SCANIA/','SUZUKI/','SUZUKI/','SUZUKI/',\n",
    "         'SHAANXI/','SHINERAY/','TOYOTA/','TOYOTA/','TRAXX/','VOLKSWAGEN/','VOLKSWAGEN/','VOLKSWAGEN/','VOLVO/','VOLVO/',\n",
    "         'YAMAHA/','YAMAHA/','BRP/','BUELL/','BYD/','CHACOMER/','CHANGAN/','CHARMING/',\n",
    "         'CHERY/','DAF/','DAJIANG/','DAYANG/','DAYUN/','DUCATI/','FERRARI/','FOTON/','FYM/','HAFEI/','JEEP/',\n",
    "         'MAN/','BMW/','RENAULT/','LEOPARD/','GREEN SPORT/','WUYANG/','LIFAN/','DAEWOO/',\n",
    "         'ASIA/','SSANGYONG/','SEAT/','SINOTRUK/','SUBARU/','LIFAN/','WUYANG/','JIALING/']\n",
    "\n",
    "df['marca'] = df['marca'].replace(dict(zip(strArrumar, strNorm)))\n",
    "  \n",
    "fim= time.time()\n",
    "print('tempo de execução:',((fim - inicio)/60),'minutos')\n",
    "df['marca'].value_counts()"
   ]
  },
  {
   "cell_type": "markdown",
   "metadata": {},
   "source": [
    "Coluna **`ano_fabricacao_veiculo`**(ano de fabricação dos veículos):\n",
    "\n",
    "Nesta coluna normalizamos os campos (null) para 'Na', normalizamos nomes em branco para valor '0', retiramos os espaços em branco no inicio e final das palavras, transformamos o tipo de dado desta coluna para int32 e também os valores maiores que 2020 foram setados como 0(zero)."
   ]
  },
  {
   "cell_type": "code",
   "execution_count": null,
   "metadata": {},
   "outputs": [],
   "source": [
    "seri= pd.Series(df[\"ano_fabricacao_veiculo\"])\n",
    "seri= seri.str.strip()\n",
    "df[\"ano_fabricacao_veiculo\"]= seri\n",
    "\n",
    "df[\"ano_fabricacao_veiculo\"] = df[\"ano_fabricacao_veiculo\"].replace('(null)', np.nan)\n",
    "df[\"ano_fabricacao_veiculo\"] = df[\"ano_fabricacao_veiculo\"].replace('', '0')\n",
    "df[\"ano_fabricacao_veiculo\"].fillna('0', inplace=True)\n",
    "\n",
    "df[\"ano_fabricacao_veiculo\"]= df[\"ano_fabricacao_veiculo\"].astype(np.int32)\n",
    "df[\"ano_fabricacao_veiculo\"][df[\"ano_fabricacao_veiculo\"] > 2020 ]= 0\n",
    "df[\"ano_fabricacao_veiculo\"].value_counts().head(10)"
   ]
  },
  {
   "cell_type": "markdown",
   "metadata": {},
   "source": [
    "Coluna **`tipo_envolvido`**(quem se envolveu no acidente):\n",
    "\n",
    "Nesta coluna retiramos espaços em branco no inicio e final das palavras"
   ]
  },
  {
   "cell_type": "code",
   "execution_count": null,
   "metadata": {},
   "outputs": [],
   "source": [
    "seri= pd.Series(df[\"tipo_envolvido\"])\n",
    "seri= seri.str.strip()\n",
    "df[\"tipo_envolvido\"]= seri\n",
    "\n",
    "df[\"tipo_envolvido\"].value_counts()"
   ]
  },
  {
   "cell_type": "markdown",
   "metadata": {},
   "source": [
    "Coluna **`estado_fisico`**(estado físico da pessoa envolvida):\n",
    "\n",
    "Normalizamos os nomes parecidos mas com mesmo significado, alteramos os valores (null) para 'Ileso', limpamos os espcaços em branco no inicio e fim das palavras"
   ]
  },
  {
   "cell_type": "code",
   "execution_count": null,
   "metadata": {},
   "outputs": [],
   "source": [
    "seri= pd.Series(df[\"estado_fisico\"])\n",
    "seri= seri.str.strip()\n",
    "df[\"estado_fisico\"]= seri\n",
    "\n",
    "df[\"estado_fisico\"] = df[\"estado_fisico\"].replace('(null)', np.nan)\n",
    "df[\"estado_fisico\"].fillna('Ileso', inplace=True)\n",
    "df[\"estado_fisico\"]= df[\"estado_fisico\"].str.replace('Lesões Leves','Ferido Leve')\n",
    "df[\"estado_fisico\"]= df[\"estado_fisico\"].str.replace('Lesões Graves','Ferido Grave')\n",
    "df[\"estado_fisico\"]= df[\"estado_fisico\"].str.replace('Morto','Óbito')\n",
    "df[\"estado_fisico\"]= df[\"estado_fisico\"].str.replace('Ignorado','Ileso')\n",
    "df[\"estado_fisico\"]= df[\"estado_fisico\"].str.replace('Não Informado','Ileso')\n",
    "\n",
    "df[\"estado_fisico\"].value_counts()"
   ]
  },
  {
   "cell_type": "markdown",
   "metadata": {},
   "source": [
    "Coluna **`idade`**(idade da pessoa):\n",
    "\n",
    "Nesta coluna normalizamos valores nulos para -1, alteramos o tipo de dado para int32, alteramos os valores com idade acima de 100 anos para o valor -1 e valores maiores que 1000 normalizamos pra 2020-idade"
   ]
  },
  {
   "cell_type": "code",
   "execution_count": null,
   "metadata": {},
   "outputs": [],
   "source": [
    "df[\"idade\"].fillna(-1, inplace=True)\n",
    "df[\"idade\"]= df[\"idade\"].astype(np.int32)\n",
    "df[\"idade\"][df[\"idade\"] > 1000]= (2020-(df[\"idade\"][df[\"idade\"]>1000])) \n",
    "df[\"idade\"][df[\"idade\"] > 100]= -1\n",
    "df[\"idade\"].value_counts().head(10)"
   ]
  },
  {
   "cell_type": "markdown",
   "metadata": {},
   "source": [
    "Coluna **`sexo`**(sexo da pessoa): \n",
    "\n",
    "Nesta coluna limpamos os espaços em branco no inicio e fim das palavras e normalizamos os nomes parecidos mas com mesmo significado"
   ]
  },
  {
   "cell_type": "code",
   "execution_count": null,
   "metadata": {},
   "outputs": [],
   "source": [
    "seri = pd.Series(df[\"sexo\"])\n",
    "seri = seri.str.strip()\n",
    "df[\"sexo\"] = seri\n",
    "\n",
    "\n",
    "correcao_sexo = {'F': 'Feminino', \n",
    "                 'M': 'Masculino', \n",
    "                 'I': 'Não informado',\n",
    "                 'Ignorado': 'Não informado',\n",
    "                 'Inválido': 'Não informado', \n",
    "                 'Masculino': 'Masculino',\n",
    "                 'Feminino': 'Feminino',\n",
    "                 'Não Informado': 'Não informado',\n",
    "                }\n",
    "\n",
    "df[\"sexo\"] = df[\"sexo\"].fillna('Inválido').map(correcao_sexo)\n",
    "df[\"sexo\"].value_counts()"
   ]
  },
  {
   "cell_type": "code",
   "execution_count": null,
   "metadata": {},
   "outputs": [],
   "source": [
    "df.to_csv('pessoas.csv')"
   ]
  }
 ],
 "metadata": {
  "kernelspec": {
   "display_name": "Python 3",
   "language": "python",
   "name": "python3"
  },
  "language_info": {
   "codemirror_mode": {
    "name": "ipython",
    "version": 3
   },
   "file_extension": ".py",
   "mimetype": "text/x-python",
   "name": "python",
   "nbconvert_exporter": "python",
   "pygments_lexer": "ipython3",
   "version": "3.6.9"
  }
 },
 "nbformat": 4,
 "nbformat_minor": 4
}
