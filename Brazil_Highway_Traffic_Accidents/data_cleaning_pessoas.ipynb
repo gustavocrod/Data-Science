{
 "cells": [
  {
   "cell_type": "markdown",
   "metadata": {},
   "source": [
    "**Importação das Bibliotecas**"
   ]
  },
  {
   "cell_type": "code",
   "execution_count": 1,
   "metadata": {},
   "outputs": [],
   "source": [
    "import pandas as pd\n",
    "import numpy as np\n",
    "\n",
    "import matplotlib.pyplot as plt\n",
    "import seaborn as sns"
   ]
  },
  {
   "cell_type": "markdown",
   "metadata": {},
   "source": [
    "# **1. Análise exploratória**\n",
    "\n",
    "###  **Carregamento dos Arquivos:**\n",
    "\n",
    "**OBS:** Os DataFrame df\\_pessoas\\_'ano' são DataFrames de complemento para os dados dos DataFrames df\\_ocorrencia\\_'ano'\n",
    "\n",
    "- **Base de dados por pessoas:**"
   ]
  },
  {
   "cell_type": "code",
   "execution_count": 2,
   "metadata": {},
   "outputs": [],
   "source": [
    "cols = ['id','pesid', 'id_veiculo', 'tipo_veiculo', 'marca', 'ano_fabricacao_veiculo', 'tipo_envolvido', 'estado_fisico', 'idade', 'sexo']\n",
    "\n",
    "df_pessoas_2007 = pd.read_csv('archive/por_pessoas/acidentes2007.csv', sep=',', engine='python', encoding='latin-1', usecols=cols)\n",
    "df_pessoas_2008 = pd.read_csv('archive/por_pessoas/acidentes2008.csv', sep=',', engine='python', encoding='latin-1', usecols=cols)\n",
    "df_pessoas_2009 = pd.read_csv('archive/por_pessoas/acidentes2009.csv', sep=',', engine='python', encoding='latin-1', usecols=cols)\n",
    "df_pessoas_2010 = pd.read_csv('archive/por_pessoas/acidentes2010.csv', sep=',', engine='python', encoding='latin-1', usecols=cols)\n",
    "df_pessoas_2011 = pd.read_csv('archive/por_pessoas/acidentes2011.csv', sep=',', engine='python', encoding='latin-1', usecols=cols)\n",
    "df_pessoas_2012 = pd.read_csv('archive/por_pessoas/acidentes2012.csv', sep=',', engine='python', encoding='latin-1', usecols=cols)\n",
    "df_pessoas_2013 = pd.read_csv('archive/por_pessoas/acidentes2013.csv', sep=',', engine='python', encoding='latin-1', usecols=cols)\n",
    "df_pessoas_2014 = pd.read_csv('archive/por_pessoas/acidentes2014.csv', sep=',', engine='python', encoding='latin-1', usecols=cols)\n",
    "df_pessoas_2015 = pd.read_csv('archive/por_pessoas/acidentes2015.csv', sep=',', engine='python', encoding='latin-1', usecols=cols)\n",
    "df_pessoas_2016 = pd.read_csv('archive/por_pessoas/acidentes2016.csv', sep=';', engine='python', encoding='latin-1', usecols=cols)\n",
    "df_pessoas_2017 = pd.read_csv('archive/por_pessoas/acidentes2017.csv', sep=';', engine='python', encoding='latin-1', usecols=cols)\n",
    "df_pessoas_2018 = pd.read_csv('archive/por_pessoas/acidentes2018.csv', sep=';', engine='python', encoding='latin-1', usecols=cols)\n",
    "df_pessoas_2019 = pd.read_csv('archive/por_pessoas/acidentes2019.csv', sep=';', engine='python', encoding='latin-1', usecols=cols)\n",
    "df_pessoas_2020 = pd.read_csv('archive/por_pessoas/acidentes2020.csv', sep=';', engine='python', encoding='latin-1', usecols=cols)"
   ]
  },
  {
   "cell_type": "markdown",
   "metadata": {},
   "source": [
    "- **Cabeçalho**\n",
    "\n",
    "Visualizar os 10 primeiros registros do conjunto de dados"
   ]
  },
  {
   "cell_type": "code",
   "execution_count": 3,
   "metadata": {},
   "outputs": [
    {
     "data": {
      "text/html": [
       "<div>\n",
       "<style scoped>\n",
       "    .dataframe tbody tr th:only-of-type {\n",
       "        vertical-align: middle;\n",
       "    }\n",
       "\n",
       "    .dataframe tbody tr th {\n",
       "        vertical-align: top;\n",
       "    }\n",
       "\n",
       "    .dataframe thead th {\n",
       "        text-align: right;\n",
       "    }\n",
       "</style>\n",
       "<table border=\"1\" class=\"dataframe\">\n",
       "  <thead>\n",
       "    <tr style=\"text-align: right;\">\n",
       "      <th></th>\n",
       "      <th>id</th>\n",
       "      <th>pesid</th>\n",
       "      <th>id_veiculo</th>\n",
       "      <th>tipo_veiculo</th>\n",
       "      <th>marca</th>\n",
       "      <th>ano_fabricacao_veiculo</th>\n",
       "      <th>tipo_envolvido</th>\n",
       "      <th>estado_fisico</th>\n",
       "      <th>idade</th>\n",
       "      <th>sexo</th>\n",
       "    </tr>\n",
       "  </thead>\n",
       "  <tbody>\n",
       "    <tr>\n",
       "      <th>0</th>\n",
       "      <td>10</td>\n",
       "      <td>647938</td>\n",
       "      <td>439395</td>\n",
       "      <td>Automóvel</td>\n",
       "      <td>GM/CLASSIC LIFE</td>\n",
       "      <td>2005</td>\n",
       "      <td>Condutor</td>\n",
       "      <td>Ileso</td>\n",
       "      <td>23.0</td>\n",
       "      <td>Masculino</td>\n",
       "    </tr>\n",
       "    <tr>\n",
       "      <th>1</th>\n",
       "      <td>10</td>\n",
       "      <td>647938</td>\n",
       "      <td>439395</td>\n",
       "      <td>Automóvel</td>\n",
       "      <td>GM/CLASSIC LIFE</td>\n",
       "      <td>2005</td>\n",
       "      <td>Condutor</td>\n",
       "      <td>Ileso</td>\n",
       "      <td>23.0</td>\n",
       "      <td>Masculino</td>\n",
       "    </tr>\n",
       "    <tr>\n",
       "      <th>2</th>\n",
       "      <td>10</td>\n",
       "      <td>648468</td>\n",
       "      <td>439395</td>\n",
       "      <td>Automóvel</td>\n",
       "      <td>GM/CLASSIC LIFE</td>\n",
       "      <td>2005</td>\n",
       "      <td>Passageiro</td>\n",
       "      <td>Ferido Leve</td>\n",
       "      <td>44.0</td>\n",
       "      <td>Masculino</td>\n",
       "    </tr>\n",
       "    <tr>\n",
       "      <th>3</th>\n",
       "      <td>10</td>\n",
       "      <td>648468</td>\n",
       "      <td>439395</td>\n",
       "      <td>Automóvel</td>\n",
       "      <td>GM/CLASSIC LIFE</td>\n",
       "      <td>2005</td>\n",
       "      <td>Passageiro</td>\n",
       "      <td>Ferido Leve</td>\n",
       "      <td>44.0</td>\n",
       "      <td>Masculino</td>\n",
       "    </tr>\n",
       "    <tr>\n",
       "      <th>4</th>\n",
       "      <td>10</td>\n",
       "      <td>648470</td>\n",
       "      <td>439395</td>\n",
       "      <td>Automóvel</td>\n",
       "      <td>GM/CLASSIC LIFE</td>\n",
       "      <td>2005</td>\n",
       "      <td>Passageiro</td>\n",
       "      <td>Ferido Leve</td>\n",
       "      <td>10.0</td>\n",
       "      <td>Feminino</td>\n",
       "    </tr>\n",
       "    <tr>\n",
       "      <th>5</th>\n",
       "      <td>10</td>\n",
       "      <td>648470</td>\n",
       "      <td>439395</td>\n",
       "      <td>Automóvel</td>\n",
       "      <td>GM/CLASSIC LIFE</td>\n",
       "      <td>2005</td>\n",
       "      <td>Passageiro</td>\n",
       "      <td>Ferido Leve</td>\n",
       "      <td>10.0</td>\n",
       "      <td>Feminino</td>\n",
       "    </tr>\n",
       "    <tr>\n",
       "      <th>6</th>\n",
       "      <td>10</td>\n",
       "      <td>648471</td>\n",
       "      <td>439395</td>\n",
       "      <td>Automóvel</td>\n",
       "      <td>GM/CLASSIC LIFE</td>\n",
       "      <td>2005</td>\n",
       "      <td>Passageiro</td>\n",
       "      <td>Ferido Leve</td>\n",
       "      <td>39.0</td>\n",
       "      <td>Masculino</td>\n",
       "    </tr>\n",
       "    <tr>\n",
       "      <th>7</th>\n",
       "      <td>10</td>\n",
       "      <td>648471</td>\n",
       "      <td>439395</td>\n",
       "      <td>Automóvel</td>\n",
       "      <td>GM/CLASSIC LIFE</td>\n",
       "      <td>2005</td>\n",
       "      <td>Passageiro</td>\n",
       "      <td>Ferido Leve</td>\n",
       "      <td>39.0</td>\n",
       "      <td>Masculino</td>\n",
       "    </tr>\n",
       "    <tr>\n",
       "      <th>8</th>\n",
       "      <td>10</td>\n",
       "      <td>2068191</td>\n",
       "      <td>1204697</td>\n",
       "      <td>Automóvel</td>\n",
       "      <td>FIAT/UNO MILLE FIRE FLEX</td>\n",
       "      <td>2008</td>\n",
       "      <td>Condutor</td>\n",
       "      <td>Ileso</td>\n",
       "      <td>NaN</td>\n",
       "      <td>NaN</td>\n",
       "    </tr>\n",
       "    <tr>\n",
       "      <th>9</th>\n",
       "      <td>10</td>\n",
       "      <td>2068191</td>\n",
       "      <td>1204697</td>\n",
       "      <td>Automóvel</td>\n",
       "      <td>FIAT/UNO MILLE FIRE FLEX</td>\n",
       "      <td>2008</td>\n",
       "      <td>Condutor</td>\n",
       "      <td>Ileso</td>\n",
       "      <td>NaN</td>\n",
       "      <td>NaN</td>\n",
       "    </tr>\n",
       "  </tbody>\n",
       "</table>\n",
       "</div>"
      ],
      "text/plain": [
       "   id    pesid id_veiculo tipo_veiculo                     marca  \\\n",
       "0  10   647938     439395    Automóvel           GM/CLASSIC LIFE   \n",
       "1  10   647938     439395    Automóvel           GM/CLASSIC LIFE   \n",
       "2  10   648468     439395    Automóvel           GM/CLASSIC LIFE   \n",
       "3  10   648468     439395    Automóvel           GM/CLASSIC LIFE   \n",
       "4  10   648470     439395    Automóvel           GM/CLASSIC LIFE   \n",
       "5  10   648470     439395    Automóvel           GM/CLASSIC LIFE   \n",
       "6  10   648471     439395    Automóvel           GM/CLASSIC LIFE   \n",
       "7  10   648471     439395    Automóvel           GM/CLASSIC LIFE   \n",
       "8  10  2068191    1204697    Automóvel  FIAT/UNO MILLE FIRE FLEX   \n",
       "9  10  2068191    1204697    Automóvel  FIAT/UNO MILLE FIRE FLEX   \n",
       "\n",
       "  ano_fabricacao_veiculo tipo_envolvido estado_fisico  idade       sexo  \n",
       "0                   2005       Condutor  Ileso          23.0  Masculino  \n",
       "1                   2005       Condutor  Ileso          23.0  Masculino  \n",
       "2                   2005     Passageiro  Ferido Leve    44.0  Masculino  \n",
       "3                   2005     Passageiro  Ferido Leve    44.0  Masculino  \n",
       "4                   2005     Passageiro  Ferido Leve    10.0   Feminino  \n",
       "5                   2005     Passageiro  Ferido Leve    10.0   Feminino  \n",
       "6                   2005     Passageiro  Ferido Leve    39.0  Masculino  \n",
       "7                   2005     Passageiro  Ferido Leve    39.0  Masculino  \n",
       "8                   2008       Condutor  Ileso           NaN        NaN  \n",
       "9                   2008       Condutor  Ileso           NaN        NaN  "
      ]
     },
     "execution_count": 3,
     "metadata": {},
     "output_type": "execute_result"
    }
   ],
   "source": [
    "df_pessoas_2007.head(10)"
   ]
  },
  {
   "cell_type": "markdown",
   "metadata": {},
   "source": [
    "### **2. Limpezas e Normalização dos DataFrames**\n",
    "\n",
    "- **Adicionar coluna ```ano``` em todos os dataframes:**"
   ]
  },
  {
   "cell_type": "code",
   "execution_count": 4,
   "metadata": {},
   "outputs": [],
   "source": [
    "df_pessoas_2007['ano'] = 2007\n",
    "df_pessoas_2008['ano'] = 2008\n",
    "df_pessoas_2009['ano'] = 2009\n",
    "df_pessoas_2010['ano'] = 2010\n",
    "df_pessoas_2011['ano'] = 2011\n",
    "df_pessoas_2012['ano'] = 2012\n",
    "df_pessoas_2013['ano'] = 2013\n",
    "df_pessoas_2014['ano'] = 2014\n",
    "df_pessoas_2015['ano'] = 2015\n",
    "df_pessoas_2016['ano'] = 2016\n",
    "df_pessoas_2017['ano'] = 2017\n",
    "df_pessoas_2018['ano'] = 2018\n",
    "df_pessoas_2019['ano'] = 2019\n",
    "df_pessoas_2020['ano'] = 2020"
   ]
  },
  {
   "cell_type": "markdown",
   "metadata": {},
   "source": [
    "- **Concatenar todos os dataframes**"
   ]
  },
  {
   "cell_type": "code",
   "execution_count": 5,
   "metadata": {},
   "outputs": [],
   "source": [
    "df = pd.concat([df_pessoas_2007,df_pessoas_2008,df_pessoas_2009,df_pessoas_2010,df_pessoas_2011,\n",
    "                              df_pessoas_2012,df_pessoas_2013,df_pessoas_2014,df_pessoas_2015,df_pessoas_2016,\n",
    "                              df_pessoas_2017,df_pessoas_2018,df_pessoas_2019,df_pessoas_2020], sort = False)"
   ]
  },
  {
   "cell_type": "markdown",
   "metadata": {},
   "source": [
    "- **Tipos de dados:**\n",
    "\n",
    "Visualizar as colunas e os respectivos tipos de dados que elas estão classificadas"
   ]
  },
  {
   "cell_type": "code",
   "execution_count": 6,
   "metadata": {},
   "outputs": [
    {
     "data": {
      "text/plain": [
       "id                        float64\n",
       "pesid                     float64\n",
       "id_veiculo                 object\n",
       "tipo_veiculo               object\n",
       "marca                      object\n",
       "ano_fabricacao_veiculo     object\n",
       "tipo_envolvido             object\n",
       "estado_fisico              object\n",
       "idade                     float64\n",
       "sexo                       object\n",
       "ano                         int64\n",
       "dtype: object"
      ]
     },
     "execution_count": 6,
     "metadata": {},
     "output_type": "execute_result"
    }
   ],
   "source": [
    "df.dtypes"
   ]
  },
  {
   "cell_type": "markdown",
   "metadata": {},
   "source": [
    "- **Quantidade de linhas e colunas**"
   ]
  },
  {
   "cell_type": "code",
   "execution_count": 7,
   "metadata": {},
   "outputs": [
    {
     "name": "stdout",
     "output_type": "stream",
     "text": [
      "4005281 linhas e 11 colunas.\n"
     ]
    }
   ],
   "source": [
    "print(f\"{df.shape[0]} linhas e {df.shape[1]} colunas.\")"
   ]
  },
  {
   "cell_type": "markdown",
   "metadata": {},
   "source": [
    "- **Eliminar linhas duplicadas do dataframe:**"
   ]
  },
  {
   "cell_type": "code",
   "execution_count": 8,
   "metadata": {},
   "outputs": [],
   "source": [
    "df.drop_duplicates(subset=cols, keep='first', inplace=True)"
   ]
  },
  {
   "cell_type": "code",
   "execution_count": 9,
   "metadata": {},
   "outputs": [
    {
     "name": "stdout",
     "output_type": "stream",
     "text": [
      "Após a remoção dos registros duplicados: 4005209 linhas e 11 colunas.\n"
     ]
    }
   ],
   "source": [
    "print(f\"Após a remoção dos registros duplicados: {df.shape[0]} linhas e {df.shape[1]} colunas.\")"
   ]
  },
  {
   "cell_type": "markdown",
   "metadata": {},
   "source": [
    "- **_missing_ values**"
   ]
  },
  {
   "cell_type": "code",
   "execution_count": 10,
   "metadata": {},
   "outputs": [
    {
     "data": {
      "text/plain": [
       "id                        0.000000e+00\n",
       "tipo_envolvido            0.000000e+00\n",
       "ano                       0.000000e+00\n",
       "estado_fisico             7.490246e-07\n",
       "pesid                     9.986994e-07\n",
       "sexo                      2.274538e-04\n",
       "id_veiculo                9.984498e-04\n",
       "tipo_veiculo              9.991988e-04\n",
       "ano_fabricacao_veiculo    1.292592e-02\n",
       "marca                     1.625134e-02\n",
       "idade                     2.471432e-02\n",
       "dtype: float64"
      ]
     },
     "execution_count": 10,
     "metadata": {},
     "output_type": "execute_result"
    }
   ],
   "source": [
    "# Porcentagem de valores faltantes\n",
    "(df.isnull().sum()/df.shape[0]).sort_values()"
   ]
  },
  {
   "cell_type": "markdown",
   "metadata": {},
   "source": [
    "- **Eliminar linhas com todos os valores incompletos ou nulos:**"
   ]
  },
  {
   "cell_type": "code",
   "execution_count": 11,
   "metadata": {},
   "outputs": [],
   "source": [
    "df.dropna(how='all', inplace=True)"
   ]
  },
  {
   "cell_type": "code",
   "execution_count": 12,
   "metadata": {},
   "outputs": [
    {
     "name": "stdout",
     "output_type": "stream",
     "text": [
      "Após a remoção dos registros nulos: 4005209 linhas e 11 colunas.\n"
     ]
    }
   ],
   "source": [
    "print(f\"Após a remoção dos registros nulos: {df.shape[0]} linhas e {df.shape[1]} colunas.\")"
   ]
  },
  {
   "cell_type": "markdown",
   "metadata": {},
   "source": [
    "- **Reindexar os registros, por conta da remoção das duplicatas**"
   ]
  },
  {
   "cell_type": "code",
   "execution_count": 13,
   "metadata": {},
   "outputs": [],
   "source": [
    "df.reset_index(inplace=True)"
   ]
  },
  {
   "cell_type": "markdown",
   "metadata": {},
   "source": [
    "- **Completar com outros valores as colunas com valores nulos ou incompletos**\n",
    "\n",
    "Vamos nos atentar apenas para a idade. As demais colunas não são passiveis de correção."
   ]
  },
  {
   "cell_type": "code",
   "execution_count": 14,
   "metadata": {},
   "outputs": [],
   "source": [
    "df['idade'].fillna(df['idade'].mean(), inplace=True)"
   ]
  },
  {
   "cell_type": "markdown",
   "metadata": {},
   "source": [
    "### **3. Visualização dos valores possíveis**\n",
    "\n",
    "Vamos verificar os valores das variáveis categóricas:\n",
    "\n",
    "- `tipo_envolvido`\n",
    "- `estado_fisico`\n",
    "- `tipo_veiculo`\n",
    "- `marca`\n",
    "- `sexo`\n",
    "\n",
    "e algumas visualizações sobre tendências nas variáveis numéricas como:\n",
    "- `ano_fabricacao_veiculo` \n",
    "- `idade`"
   ]
  },
  {
   "cell_type": "code",
   "execution_count": 15,
   "metadata": {},
   "outputs": [
    {
     "data": {
      "text/plain": [
       "array(['Condutor', 'Passageiro', 'Autor', 'Pedestre', 'Vítima',\n",
       "       'Cavaleiro', 'Ciclista', 'Proprietário de Carga',\n",
       "       'Proprietário da CNH', 'Testemunha', 'Não Informado'], dtype=object)"
      ]
     },
     "execution_count": 15,
     "metadata": {},
     "output_type": "execute_result"
    }
   ],
   "source": [
    "df['tipo_envolvido'].unique()"
   ]
  },
  {
   "cell_type": "code",
   "execution_count": 16,
   "metadata": {},
   "outputs": [
    {
     "data": {
      "text/plain": [
       "array(['Ileso       ', 'Ferido Leve ', 'Ferido Grave', 'Morto       ',\n",
       "       'Ignorado    ', '(null)', 'Morto', 'Ileso', 'Ferido Leve',\n",
       "       'Ignorado', nan, 'Lesões Graves', 'Lesões Leves', 'Óbito',\n",
       "       'Não Informado'], dtype=object)"
      ]
     },
     "execution_count": 16,
     "metadata": {},
     "output_type": "execute_result"
    }
   ],
   "source": [
    "df['estado_fisico'].unique()"
   ]
  },
  {
   "cell_type": "code",
   "execution_count": 17,
   "metadata": {},
   "outputs": [
    {
     "data": {
      "text/plain": [
       "array(['Automóvel', 'Camioneta', '(null)', 'Caminhão', 'Caminhonete',\n",
       "       'Motocicletas', 'Ônibus', 'Não identificado', 'Microônibus',\n",
       "       'Caminhão-Trator', 'Motoneta', 'Bicicleta', 'Reboque', 'Carroça',\n",
       "       'Utilitário', 'Semi-Reboque', 'Caminhão-Tanque', 'Charrete',\n",
       "       'Trator de esteiras', 'Trator de rodas', 'Trator misto',\n",
       "       'Carro-de-mao', 'Ciclomotor', 'Bonde / Trem', 'Triciclo',\n",
       "       'Quadriciclo', 'Side-car', 'Motor-Casa', nan, 'Motocicleta',\n",
       "       'Caminhão-trator', 'Carroça-charrete', 'Semireboque',\n",
       "       'Micro-ônibus', 'Outros', 'Não Informado', 'Carro de mão',\n",
       "       'Trem-bonde', 'Chassi-plataforma', 'Trator de esteira'],\n",
       "      dtype=object)"
      ]
     },
     "execution_count": 17,
     "metadata": {},
     "output_type": "execute_result"
    }
   ],
   "source": [
    "df['tipo_veiculo'].unique()"
   ]
  },
  {
   "cell_type": "code",
   "execution_count": 18,
   "metadata": {},
   "outputs": [
    {
     "data": {
      "text/plain": [
       "array(['GM/CLASSIC LIFE', 'FIAT/UNO MILLE FIRE FLEX',\n",
       "       'VW/SAVEIRO GL 1.8                                 ', ...,\n",
       "       'MMC/OUTLANDER SPT HPEAWD', 'GM/CHEVROLET C1503',\n",
       "       'CHEV/ONIX PLUS 10MT LT2'], dtype=object)"
      ]
     },
     "execution_count": 18,
     "metadata": {},
     "output_type": "execute_result"
    }
   ],
   "source": [
    "df['marca'].unique()"
   ]
  },
  {
   "cell_type": "code",
   "execution_count": 19,
   "metadata": {},
   "outputs": [
    {
     "data": {
      "text/plain": [
       "array(['Masculino', 'Feminino', nan, 'Não Informado', 'Inválido', 'M',\n",
       "       'F', 'I', 'Ignorado'], dtype=object)"
      ]
     },
     "execution_count": 19,
     "metadata": {},
     "output_type": "execute_result"
    }
   ],
   "source": [
    "df['sexo'].unique()"
   ]
  },
  {
   "cell_type": "markdown",
   "metadata": {},
   "source": [
    "- **Análise dos valores**\n",
    "\n",
    "OK, para o `tipo_envolvido` temos os valores: \n",
    "* \"Condutor\", \n",
    "* \"Passageiro\", \n",
    "* \"Pedestre\", \n",
    "* \"Testemunha\", \n",
    "* \"Cavaleiro\", \n",
    "* \"Vítima\", \n",
    "* \"Autor\", \n",
    "* \"Ciclista\", \n",
    "* \"Não Informado\", \n",
    "* \"Proprietário de Carga\" \n",
    "* \"Proprietário da CNH\". \n",
    "\n",
    "Todos os valores estão limpos e não são duplicados.\n",
    "\n",
    "`estado_fisico` possui os valores: 'Ileso       ', 'Ferido Leve ', 'Ferido Grave', 'Morto       ', 'Ignorado    ', '(null)', 'Morto', 'Ileso', 'Ferido Leve', 'Ignorado', nan, 'Lesões Graves', 'Lesões Leves', 'Óbito', 'Não Informado'. Podemos observar alguns espaços em branco que discretizam valores, porém são duplicados, e também há erro sobre os valores nulos '(null)' que devem ser descartados. E valores sinônimos, como Ferido ou Lesões, e óbito e morte. Portanto, os valores únicos reais são: \n",
    "* \"Ileso\", \n",
    "* \"Ferido Leve\", \n",
    "* \"Ferido Grave\", \n",
    "* \"Óbito\", \n",
    "* \"Ignorado\",\n",
    "* \"Não informado\"\n",
    "\n",
    "`tipo_veiculo` possui os valores: \n",
    "'Automóvel', 'Camioneta', '(null)', 'Caminhão', 'Caminhonete',\n",
    "       'Motocicletas', 'Ônibus', 'Não identificado', 'Microônibus',\n",
    "       'Caminhão-Trator', 'Motoneta', 'Bicicleta', 'Reboque', 'Carroça',\n",
    "       'Utilitário', 'Semi-Reboque', 'Caminhão-Tanque', 'Charrete',\n",
    "       'Trator de esteiras', 'Trator de rodas', 'Trator misto',\n",
    "       'Carro-de-mao', 'Ciclomotor', 'Bonde / Trem', 'Triciclo',\n",
    "       'Quadriciclo', 'Side-car', 'Motor-Casa', nan, 'Motocicleta',\n",
    "       'Caminhão-trator', 'Carroça-charrete', 'Semireboque',\n",
    "       'Micro-ônibus', 'Outros', 'Não Informado', 'Carro de mão',\n",
    "       'Trem-bonde', 'Chassi-plataforma', 'Trator de esteira'. Possui o valor '(null)' que deve ser removido, e alguns valores equivalentes, como \"Carro-de-mao' e 'Carro de mão'; Todos os tratores para \"Trator\"; \"Semi-reboque\" e \"Semireboque\"; \"Micro-ônibus\" e \"Microonibus\".\n",
    "       \n",
    "Os valores únicos reais são:\n",
    "* \"Automóvel\",\n",
    "* \"Camioneta\",\n",
    "* \"Caminhonete\", (esses dois parecem ambíguos mas são distintos)\n",
    "* \"Motocicletas\",\n",
    "* \"Ônibus\",\n",
    "* \"Microônibus\",\n",
    "* \"Caminhão-Trator\",\n",
    "* \"Motoneta\",\n",
    "* \"Bicicleta\",\n",
    "* \"Reboque\",\n",
    "* \"Carroça\",\n",
    "* \"Utilitário\",\n",
    "* \"Semi-reboque\",\n",
    "* \"Caminhão-Tanque\",\n",
    "* \"Charrete\",\n",
    "* \"Trator\"\n",
    "* \"Carro de mao\",\n",
    "* \"Ciclomotor\",\n",
    "* \"Bonde / Trem\", \n",
    "* \"Triciclo\",\n",
    "* \"Quadriciclo\", \n",
    "* \"Side-car\", \n",
    "* \"Motor-Casa\", \n",
    "* \"Motocicleta\",\n",
    "* \"Caminhão-trator\",\n",
    "* \"Carroça-charrete\",\n",
    "* \"Outros\",\n",
    "* \"Não Informado\",\n",
    "* \"Trem-bonde\",\n",
    "* \"Chassi-plataforma\"\n",
    "\n",
    "`marca` possui um padrão de \"marca\" / \"modelo do veículo\".\n",
    "\n",
    "`sexo` compreende os valores: 'Masculino', 'Feminino', nan, 'Não Informado', 'Inválido', 'M', 'F', 'I', 'Ignorado'. Porém esses valores são abreviações. Portanto, os valores reais e utilizados são:\n",
    "\n",
    "* \"Masculino\",\n",
    "* \"Feminino\",\n",
    "* \"Não Informado\",\n",
    "* \"Inválido\""
   ]
  },
  {
   "cell_type": "markdown",
   "metadata": {},
   "source": [
    "- **Correção dos campos**\n",
    "\n",
    "coluna `pesid` (id da pessoa):\n",
    "\n",
    "valores nulos viram -1 e alterar o tipo de dado da coluna para int64"
   ]
  },
  {
   "cell_type": "code",
   "execution_count": 20,
   "metadata": {},
   "outputs": [],
   "source": [
    "#coluna `pesid` (id da pessoa):\n",
    "\n",
    "#valores nulos viraram -1 e foi alterado o tipo de dado da coluna para int64\n",
    "# df.isnull().value_counts()\n",
    "df[\"pesid\"].fillna(-1, inplace=True)\n",
    "df[\"pesid\"] = df[\"pesid\"].astype(np.int64)\n",
    "#dataframe_pessoa.pesid.value_counts()"
   ]
  },
  {
   "cell_type": "markdown",
   "metadata": {},
   "source": [
    "coluna `id_veiculo` (id dos veículos):\n",
    "\n",
    "normalizado os campos (null) para número -1, retirado espaços em branco, dados 'Na' viraram -1, "
   ]
  },
  {
   "cell_type": "code",
   "execution_count": 21,
   "metadata": {},
   "outputs": [],
   "source": [
    "#coluna 'id_veiculo'(id dos veículos):\n",
    "\n",
    "#normalizado os campos (null) para número -1, retirado espaços em branco, dados 'Na' viraram -1, \n",
    "#tipo de dado da coluna alterado para int64\n",
    "df[\"id_veiculo\"] = df[\"id_veiculo\"].replace('(null)', np.nan)\n",
    "df[\"id_veiculo\"].fillna(-1, inplace=True)\n",
    "df[\"id_veiculo\"] = df[\"id_veiculo\"].astype(np.int64)"
   ]
  },
  {
   "cell_type": "code",
   "execution_count": 24,
   "metadata": {},
   "outputs": [
    {
     "data": {
      "text/plain": [
       "array(['Automóvel', 'Camioneta', nan, 'Caminhão', 'Caminhonete',\n",
       "       'Motocicletas', 'Ônibus', 'Não Informado', 'Caminhão-Trator',\n",
       "       'Motoneta', 'Bicicleta', 'Reboque', 'Carroça', 'Utilitário',\n",
       "       'Semirreboque', 'Caminhão-Tanque', 'Charrete', 'Trator',\n",
       "       'Carro de mão', 'Ciclomotor', 'Bonde / Trem', 'Triciclo',\n",
       "       'Quadriciclo', 'Side-car', 'Motor-Casa', 'Motocicleta',\n",
       "       'Carroça-charrete', 'Microônibus', 'Outros', 'Chassi-plataforma'],\n",
       "      dtype=object)"
      ]
     },
     "execution_count": 24,
     "metadata": {},
     "output_type": "execute_result"
    }
   ],
   "source": [
    "#coluna 'tipo_veiculo'(tipo de veículos):\n",
    "\n",
    "df[\"tipo_veiculo\"] = df[\"tipo_veiculo\"].replace('(null)', np.nan)\n",
    "df[\"tipo_veiculo\"].fillna(\"Não informado\", inplace=True)\n",
    "\n",
    "correcao_nomes = {\n",
    "    'Automóvel': 'Automóvel', \n",
    "    'Camioneta' : 'Camioneta',\n",
    "    'Caminhão': 'Caminhão',\n",
    "    'Caminhonete': 'Caminhonete',  \n",
    "    'Micro-ônibus': 'Microônibus',\n",
    "    'Trator de esteiras': 'Trator de esteira',\n",
    "    'Semireboque': 'Semirreboque',\n",
    "    'Semi-Reboque': 'Semirreboque',\n",
    "    'Carro-de-mao': 'Carro de mão', \n",
    "    'Trator de esteiras': 'Trator',\n",
    "    'Trator de esteira': 'Trator', \n",
    "    'Trator de rodas': 'Trator', \n",
    "    'Trator misto': 'Trator',\n",
    "    'Não identificado': 'Não Informado',\n",
    "    'Motocicletas': 'Motocicletas',\n",
    "    'Ônibus': 'Ônibus',\n",
    "    'Caminhão-Trator': 'Caminhão-Trator',\n",
    "    'Motoneta': 'Motoneta', \n",
    "    'Bicicleta': 'Bicicleta', \n",
    "    'Reboque': 'Reboque', \n",
    "    'Carroça': 'Carroça',\n",
    "    'Utilitário': 'Utilitário',\n",
    "    'Caminhão-Tanque': 'Caminhão-Tanque', \n",
    "    'Charrete': 'Charrete',\n",
    "    'Ciclomotor': 'Ciclomotor',\n",
    "    'Bonde / Trem': 'Bonde / Trem',\n",
    "    'Triciclo': 'Triciclo',\n",
    "    'Quadriciclo': 'Quadriciclo', \n",
    "    'Side-car': 'Side-car',\n",
    "    'Motor-Casa': 'Motor-Casa',\n",
    "    'Motocicleta': 'Motocicleta',\n",
    "    'Carroça-charrete': 'Carroça-charrete',\n",
    "    'Outros': 'Outros',\n",
    "    'Chassi-plataforma': 'Chassi-plataforma',\n",
    "    \n",
    "\n",
    "}\n",
    "\n",
    "df[\"tipo_veiculo\"] = df[\"tipo_veiculo\"].map(correcao_nomes)\n",
    "#normalizado os campos(null) para 'Não Informado', alterado nomes parecidos para um só tipo\n",
    "\n",
    "df['tipo_veiculo'].unique()"
   ]
  },
  {
   "cell_type": "code",
   "execution_count": null,
   "metadata": {},
   "outputs": [],
   "source": []
  }
 ],
 "metadata": {
  "kernelspec": {
   "display_name": "Python 3",
   "language": "python",
   "name": "python3"
  },
  "language_info": {
   "codemirror_mode": {
    "name": "ipython",
    "version": 3
   },
   "file_extension": ".py",
   "mimetype": "text/x-python",
   "name": "python",
   "nbconvert_exporter": "python",
   "pygments_lexer": "ipython3",
   "version": "3.6.9"
  }
 },
 "nbformat": 4,
 "nbformat_minor": 4
}
