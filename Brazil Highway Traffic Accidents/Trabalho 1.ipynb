{
 "cells": [
  {
   "cell_type": "markdown",
   "metadata": {},
   "source": [
    "# Acidentes de trânsito na *highway* brasileira (BR)\n",
    "\n",
    "A Polícia Rodoviária Federal - PRF (Anteriormente com a denominação \"Polícia das Estradas\") foi criada pelo presidente Washington Luís no [Decreto nº 18.323, de 24 de Julho de 1928](https://www2.camara.leg.br/legin/fed/decret/1920-1929/decreto-18323-24-julho-1928-516789-publicacaooriginal-1-pe.html#:~:text=DECRETA%3A,conformidade%20com%20o%20decreto%20n.) - que definia as regras de trânsito daquele tempo.\n",
    "\n",
    "Com o advento da Constituição brasileira de 1998, a PRF foi instituicionalizada e integrada ao Sistema Nacional de Segurança Publica. Inserino no Art. 144, do Título V - Da Defesa do Estado e das Instituições Democráticas, Capítulo III - Da Segurança Pública, a PRF definitivamente ganhou o status permanente de uma instituição Estatal, agindo no policiamento e inspecionamento de rodoviais e áreas de interesse da União.\n",
    "\n",
    "A sede da PRF estão localizadas em Brasília, Distrito Federal. Atualmente, há 27 divisões regionais que estão responsáveis por inspecionar e policiar mais de 70000km de rodovias federais e várias áreas de interesse da União.\n",
    "\n",
    "Sua missão é \"Promover a prosperidade da Naão e garantir a segurança pública e mobilidade no Brasil\".\n",
    "\n",
    "(Texto retirado e adaptado do [website da Polícia Rodoviária Federal](https://www.gov.br/prf/pt-br/acesso-a-informacao/institucional-1]))\n",
    "\n",
    "### Aquisição dos dados\n",
    "Os conjuntos de dados correspondem ao período de 2007 a 2020 e foram disponibilizados através da [plataforma Kaggle](https://www.kaggle.com/mcamera/brazil-highway-traffic-accidents). Estes foram extraídos diretamente do [website da PRF](https://www.gov.br/prf/pt-br/acesso-a-informacao/dados-abertos/dados-abertos-acidentes),\n",
    "\n",
    "Esses dados são divididos em arquivos .CSV anuais e o ultimo arquivo (ano atual) é atualizado mensalmente.\n",
    "\n",
    "Os dados são disponibilizados em 3 grupos:\n",
    "\n",
    "1. Agrupados por ocorrencia - (arquivos como datatranANO.csv)\n",
    "2. Agrupados por pessoa - (arquivos como acidentesANO.csv)\n",
    "3. Agrupados por pessoa - Todas as causas e tipos de acidentes (a partir de 2017) - (arquivos como acidentesANO\\_todascausas\\_tipos)\n",
    "\n",
    "Os dados são provenientes dos sistemas BR-Brasil e Boletim de Acidente de Trânsito (BAT), com as seguintes considerações:\n",
    "* O sistema BR-Brasil foi usado em nivel nacional entre 2007 a 2016. Os acidentes foram armazenados usando o sistema BR-Brasil. Nesse sistema o policial responsável pela ocorrencia insere os dados relacionados aos involvidos, localização, veículos e a dinâmica do acidente.\n",
    "\n",
    "* A partir de janeiro de 2017, o sistema BR-Brasil foi descontinuado e a PRF começou a utilizar um novo sistema para armazenar as ocorrências de acidentes, o sistema BAT.\n",
    "\n",
    "\n",
    "### *overview* dos dados por ocorrência\n",
    "\n",
    "**De 2007 até 2016:** \n",
    "\n",
    "| Nome da variável       | Descricao                                                                                                     |\n",
    "|------------------------|---------------------------------------------------------------------------------------------------------------|\n",
    "| id                     | Variável com valores numéricos, representando o identificador do acidente                                     |\n",
    "| data_inversa           | Data da ocorrência no formato dd/mm/aaaa.                                                                     |\n",
    "| dia_semana             | Dia da semana da ocorrência. Ex.: Segunda, Terça, etc                                                         |\n",
    "| horario                | Horário da ocorrência no formato hh:mm:ss.                                                                    |\n",
    "| uf                     | Unidade da Federação. Ex.: MG, PE, DF, etc.                                                                   |\n",
    "| br                     | Variável com valores numéricos representando o identificador da BR do acidente                                |\n",
    "| municipio              | Nome do município de ocorrência do acidente.                                                                  |\n",
    "| causa_acidente         | Identificação da causa presumível do acidente. Ex.: Falta de atenção, Velocidade incompatível, etc.           |\n",
    "| tipo_acidente          | Identificação do tipo de acidente. Ex.: Colisão frontal, Saída de pista,etc                                   |\n",
    "| classificação_acidente | Classificação quanto à gravidade do acidente: Sem Vítimas, Com Vítimas Feridas, Com Vítimas Fatais e Ignorado |\n",
    "| fase_dia               | Fase do dia no momento do acidente. Ex. Amanhecer, Pleno dia, etc.                                            |\n",
    "| sentido_via            | Sentido da via considerando o ponto de colisão: Crescente e decrescente.                                      |\n",
    "| condição_meteorologica | Condição meteorológica no momento do acidente: Céu claro, chuva,vento,etc.                                    |\n",
    "| tipo_pista             | Tipo da pista considerando a quantidade de faixas:Dupla,simples ou múltipla.                                  |\n",
    "| tracado_via            | Descrição do traçado da via: reta, curva ou cruzamento.                                                       |\n",
    "| uso_solo               | Descrição sobre as características do local do acidente: Urbano ou rural.                                     |\n",
    "| pessoas                | Total de pessoas envolvidas na ocorrência.                                                                    |\n",
    "| mortos                 | Total de pessoas mortas envolvidas na ocorrência.                                                             |\n",
    "| feridos_leves          | Total de pessoas com ferimentos leves envolvidas na ocorrência.                                               |\n",
    "| feridos_graves         | Total de pessoas com ferimentos graves envolvidas na ocorrência.                                              |\n",
    "| Ilesos                 | Total de pessoas ilesas envolvidas na ocorrência.                                                             |\n",
    "| Ignorados              | Total de pessoas envolvidas na ocorrência e que não se soube o estado físico.                                 |\n",
    "| feridos                | Total de pessoas feridas envolvidas na ocorrência (é a soma dos feridos leves com os graves).                 |\n",
    "| veiculos               | Total de veículos envolvidos na ocorrência.                                                                   |\n",
    "\n",
    "**De 2017 até 2020:** \n",
    "Acréscimo dos seguintes campos\n",
    "\n",
    "| Nome da variável       | Descricao                                                                                                     |\n",
    "|------------------------|---------------------------------------------------------------------------------------------------------------|\n",
    "| latitude                     | Latitude do local do acidente em formato geodésico decimal.                                    |\n",
    "| longitude           | Longitude do local do acidente em formato geodésico decimal  \n",
    "| regional               | Código da regional da PRF.                                                                   |\n",
    "| delegacia               | Código da delegacia que registrou a ocorrência.                                                                   |\n",
    "| uop               | --- |                                                                   |\n",
    "\n",
    "\n",
    "### *Algumas questões / hipóteses pertinentes sobre os dados*\n",
    "\n",
    "**Questões informativas/descritivas**\n",
    "\n",
    " - #1 Quais dias da semana em que ocorrem mais acidentes em todo Brasil?\n",
    "\n",
    " - #2 Quais meses ocorreram mais acidentes em todo Brasil? \n",
    "\n",
    " - #3 Que tipos de acidentes tem maior ocorrência em todo Brasil? \n",
    "\n",
    " - #4 Quais causas levaram a ocorrer mais acidentes no Brasil? \n",
    "\n",
    " - #5 Que tipos de veículos mais se envolvem em acidentes? (motocicletas, automóveis ou caminhões)\n",
    "\n",
    " - #6 Quais as marcas de veículos que se envolvem em acidentes por falha mecânica?\n",
    "\n",
    " - #7 Veículos novos ou antigos se envolvem em mais acidentes?\n",
    "\n",
    " - #8 Onde e em que condições precisamos ter mais atenção no trânsito?\n",
    "\n",
    " - #9 Qual a faixa etária que mais se envolve em acidente?\n",
    "\n",
    " - #10 Quais as causas de acidentes com maior taxa de mortalidade?\n",
    "\n",
    "\n",
    "**Hipoteses**\n",
    "\n",
    " - #1 Os \"horários de pico\" são mais perigosos para transitar? Os horários diurnos são mais perigosos para transitar do que nos períodos noturnos?\n",
    "\n",
    " - #2 Vésperas de datas comemorativas possuem um maior índice de acidentes (Brasil e RS).\n",
    "\n",
    " - #3 A faixa etária de 20 - 30 anos é que mais se envolve em acidente causado por consumo alcoólico."
   ]
  },
  {
   "cell_type": "markdown",
   "metadata": {},
   "source": [
    "**Importação das Bibliotecas**"
   ]
  },
  {
   "cell_type": "code",
   "execution_count": 2,
   "metadata": {},
   "outputs": [],
   "source": [
    "import pandas as pd\n",
    "import numpy as np\n",
    "\n",
    "import matplotlib.pyplot as plt\n",
    "import seaborn as sns\n",
    "\n",
    "#plt.rc('figure', figsize=(5, 5))"
   ]
  },
  {
   "cell_type": "markdown",
   "metadata": {},
   "source": [
    "# **1. Análise exploratória**"
   ]
  },
  {
   "cell_type": "markdown",
   "metadata": {},
   "source": [
    "###  **Carregamento dos Arquivos:**\n",
    "\n",
    "**OBS:** os Data Frame df_pessoas_'ano' são Data Frames de complemento para os dados dos Data Frames df_ocorrencia_'ano'\n",
    "\n",
    "a partir do ano de 2017 até 2020 teve acréscimo de geolocalização das tabelas"
   ]
  },
  {
   "cell_type": "markdown",
   "metadata": {},
   "source": [
    "- #### **Base de dados por ocorrência:**"
   ]
  },
  {
   "cell_type": "code",
   "execution_count": 3,
   "metadata": {},
   "outputs": [],
   "source": [
    "df_ocorrencia_2007= pd.read_csv('archive/por_ocorrencias/datatran2007.csv', sep=';', engine='python', encoding='latin-1', usecols=['id','data_inversa','dia_semana','horario','uf','br','causa_acidente','tipo_acidente','fase_dia','condicao_metereologica','tracado_via','uso_solo','pessoas','mortos','feridos_leves','feridos_graves','ilesos','feridos','veiculos'])\n",
    "df_ocorrencia_2008= pd.read_csv('archive/por_ocorrencias/datatran2008.csv', sep=';', engine='python', encoding='latin-1', usecols=['id','data_inversa','dia_semana','horario','uf','br','causa_acidente','tipo_acidente','fase_dia','condicao_metereologica','tracado_via','uso_solo','pessoas','mortos','feridos_leves','feridos_graves','ilesos','feridos','veiculos'])\n",
    "df_ocorrencia_2009= pd.read_csv('archive/por_ocorrencias/datatran2009.csv', sep=';', engine='python', encoding='latin-1', usecols=['id','data_inversa','dia_semana','horario','uf','br','causa_acidente','tipo_acidente','fase_dia','condicao_metereologica','tracado_via','uso_solo','pessoas','mortos','feridos_leves','feridos_graves','ilesos','feridos','veiculos'])\n",
    "df_ocorrencia_2010= pd.read_csv('archive/por_ocorrencias/datatran2010.csv', sep=';', engine='python', encoding='latin-1', usecols=['id','data_inversa','dia_semana','horario','uf','br','causa_acidente','tipo_acidente','fase_dia','condicao_metereologica','tracado_via','uso_solo','pessoas','mortos','feridos_leves','feridos_graves','ilesos','feridos','veiculos'])\n",
    "df_ocorrencia_2011= pd.read_csv('archive/por_ocorrencias/datatran2011.csv', sep=';', engine='python', encoding='latin-1', usecols=['id','data_inversa','dia_semana','horario','uf','br','causa_acidente','tipo_acidente','fase_dia','condicao_metereologica','tracado_via','uso_solo','pessoas','mortos','feridos_leves','feridos_graves','ilesos','feridos','veiculos'])\n",
    "df_ocorrencia_2012= pd.read_csv('archive/por_ocorrencias/datatran2012.csv', sep=';', engine='python', encoding='latin-1', usecols=['id','data_inversa','dia_semana','horario','uf','br','causa_acidente','tipo_acidente','fase_dia','condicao_metereologica','tracado_via','uso_solo','pessoas','mortos','feridos_leves','feridos_graves','ilesos','feridos','veiculos'])\n",
    "df_ocorrencia_2013= pd.read_csv('archive/por_ocorrencias/datatran2013.csv', sep=';', engine='python', encoding='latin-1', usecols=['id','data_inversa','dia_semana','horario','uf','br','causa_acidente','tipo_acidente','fase_dia','condicao_metereologica','tracado_via','uso_solo','pessoas','mortos','feridos_leves','feridos_graves','ilesos','feridos','veiculos'])\n",
    "df_ocorrencia_2014= pd.read_csv('archive/por_ocorrencias/datatran2014.csv', sep=';', engine='python', encoding='latin-1', usecols=['id','data_inversa','dia_semana','horario','uf','br','causa_acidente','tipo_acidente','fase_dia','condicao_metereologica','tracado_via','uso_solo','pessoas','mortos','feridos_leves','feridos_graves','ilesos','feridos','veiculos'])\n",
    "df_ocorrencia_2015= pd.read_csv('archive/por_ocorrencias/datatran2015.csv', sep=';', engine='python', encoding='latin-1', usecols=['id','data_inversa','dia_semana','horario','uf','br','causa_acidente','tipo_acidente','fase_dia','condicao_metereologica','tracado_via','uso_solo','pessoas','mortos','feridos_leves','feridos_graves','ilesos','feridos','veiculos'])\n",
    "df_ocorrencia_2016= pd.read_csv('archive/por_ocorrencias/datatran2016.csv', sep=';', engine='python', encoding='latin-1', usecols=['id','data_inversa','dia_semana','horario','uf','br','causa_acidente','tipo_acidente','fase_dia','condicao_metereologica','tracado_via','uso_solo','pessoas','mortos','feridos_leves','feridos_graves','ilesos','feridos','veiculos'])\n",
    "df_ocorrencia_2017= pd.read_csv('archive/por_ocorrencias/datatran2017.csv', sep=';', engine='python', encoding='latin-1', usecols=['id','data_inversa','dia_semana','horario','uf','br','causa_acidente','tipo_acidente','fase_dia','condicao_metereologica','tracado_via','uso_solo','pessoas','mortos','feridos_leves','feridos_graves','ilesos','feridos','veiculos','latitude','longitude'])\n",
    "df_ocorrencia_2018= pd.read_csv('archive/por_ocorrencias/datatran2018.csv', sep=';', engine='python', encoding='latin-1', usecols=['id','data_inversa','dia_semana','horario','uf','br','causa_acidente','tipo_acidente','fase_dia','condicao_metereologica','tracado_via','uso_solo','pessoas','mortos','feridos_leves','feridos_graves','ilesos','feridos','veiculos','latitude','longitude'])\n",
    "df_ocorrencia_2019= pd.read_csv('archive/por_ocorrencias/datatran2019.csv', sep=';', engine='python', encoding='latin-1', usecols=['id','data_inversa','dia_semana','horario','uf','br','causa_acidente','tipo_acidente','fase_dia','condicao_metereologica','tracado_via','uso_solo','pessoas','mortos','feridos_leves','feridos_graves','ilesos','feridos','veiculos','latitude','longitude'])\n",
    "df_ocorrencia_2020= pd.read_csv('archive/por_ocorrencias/datatran2020.csv', sep=';', engine='python', encoding='latin-1', usecols=['id','data_inversa','dia_semana','horario','uf','br','causa_acidente','tipo_acidente','fase_dia','condicao_metereologica','tracado_via','uso_solo','pessoas','mortos','feridos_leves','feridos_graves','ilesos','feridos','veiculos','latitude','longitude'])"
   ]
  },
  {
   "cell_type": "markdown",
   "metadata": {},
   "source": [
    "- #### **Base de dados por pessoas:**"
   ]
  },
  {
   "cell_type": "code",
   "execution_count": 4,
   "metadata": {},
   "outputs": [],
   "source": [
    "df_pessoas_2007= pd.read_csv('archive/por_pessoas/acidentes2007.csv', sep=',', engine='python', encoding='latin-1', usecols=['id','pesid','id_veiculo','tipo_veiculo','marca','ano_fabricacao_veiculo','tipo_envolvido','estado_fisico','idade','sexo'])\n",
    "df_pessoas_2008= pd.read_csv('archive/por_pessoas/acidentes2008.csv', sep=',', engine='python', encoding='latin-1', usecols=['id','pesid','id_veiculo','tipo_veiculo','marca','ano_fabricacao_veiculo','tipo_envolvido','estado_fisico','idade','sexo'])\n",
    "df_pessoas_2009= pd.read_csv('archive/por_pessoas/acidentes2009.csv', sep=',', engine='python', encoding='latin-1', usecols=['id','pesid','id_veiculo','tipo_veiculo','marca','ano_fabricacao_veiculo','tipo_envolvido','estado_fisico','idade','sexo'])\n",
    "df_pessoas_2010= pd.read_csv('archive/por_pessoas/acidentes2010.csv', sep=',', engine='python', encoding='latin-1', usecols=['id','pesid','id_veiculo','tipo_veiculo','marca','ano_fabricacao_veiculo','tipo_envolvido','estado_fisico','idade','sexo'])\n",
    "df_pessoas_2011= pd.read_csv('archive/por_pessoas/acidentes2011.csv', sep=',', engine='python', encoding='latin-1', usecols=['id','pesid','id_veiculo','tipo_veiculo','marca','ano_fabricacao_veiculo','tipo_envolvido','estado_fisico','idade','sexo'])\n",
    "df_pessoas_2012= pd.read_csv('archive/por_pessoas/acidentes2012.csv', sep=',', engine='python', encoding='latin-1', usecols=['id','pesid','id_veiculo','tipo_veiculo','marca','ano_fabricacao_veiculo','tipo_envolvido','estado_fisico','idade','sexo'])\n",
    "df_pessoas_2013= pd.read_csv('archive/por_pessoas/acidentes2013.csv', sep=',', engine='python', encoding='latin-1', usecols=['id','pesid','id_veiculo','tipo_veiculo','marca','ano_fabricacao_veiculo','tipo_envolvido','estado_fisico','idade','sexo'])\n",
    "df_pessoas_2014= pd.read_csv('archive/por_pessoas/acidentes2014.csv', sep=',', engine='python', encoding='latin-1', usecols=['id','pesid','id_veiculo','tipo_veiculo','marca','ano_fabricacao_veiculo','tipo_envolvido','estado_fisico','idade','sexo'])\n",
    "df_pessoas_2015= pd.read_csv('archive/por_pessoas/acidentes2015.csv', sep=',', engine='python', encoding='latin-1', usecols=['id','pesid','id_veiculo','tipo_veiculo','marca','ano_fabricacao_veiculo','tipo_envolvido','estado_fisico','idade','sexo'])\n",
    "df_pessoas_2016= pd.read_csv('archive/por_pessoas/acidentes2016.csv', sep=';', engine='python', encoding='latin-1', usecols=['id','pesid','id_veiculo','tipo_veiculo','marca','ano_fabricacao_veiculo','tipo_envolvido','estado_fisico','idade','sexo'])\n",
    "df_pessoas_2017= pd.read_csv('archive/por_pessoas/acidentes2017.csv', sep=';', engine='python', encoding='latin-1', usecols=['id','pesid','id_veiculo','tipo_veiculo','marca','ano_fabricacao_veiculo','tipo_envolvido','estado_fisico','idade','sexo'])\n",
    "df_pessoas_2018= pd.read_csv('archive/por_pessoas/acidentes2018.csv', sep=';', engine='python', encoding='latin-1', usecols=['id','pesid','id_veiculo','tipo_veiculo','marca','ano_fabricacao_veiculo','tipo_envolvido','estado_fisico','idade','sexo'])\n",
    "df_pessoas_2019= pd.read_csv('archive/por_pessoas/acidentes2019.csv', sep=';', engine='python', encoding='latin-1', usecols=['id','pesid','id_veiculo','tipo_veiculo','marca','ano_fabricacao_veiculo','tipo_envolvido','estado_fisico','idade','sexo'])\n",
    "df_pessoas_2020= pd.read_csv('archive/por_pessoas/acidentes2020.csv', sep=';', engine='python', encoding='latin-1', usecols=['id','pesid','id_veiculo','tipo_veiculo','marca','ano_fabricacao_veiculo','tipo_envolvido','estado_fisico','idade','sexo'])"
   ]
  },
  {
   "cell_type": "markdown",
   "metadata": {},
   "source": [
    "# 2. Limpezas e Normalização dos Data Frames"
   ]
  },
  {
   "cell_type": "markdown",
   "metadata": {},
   "source": [
    "- #### **Adicionar coluna \"ano\" em todos os dataframes:**"
   ]
  },
  {
   "cell_type": "code",
   "execution_count": 85,
   "metadata": {},
   "outputs": [],
   "source": [
    "df_pessoas_2007['ano']= 2007\n",
    "df_pessoas_2008['ano']= 2008\n",
    "df_pessoas_2009['ano']= 2009\n",
    "df_pessoas_2010['ano']= 2010\n",
    "df_pessoas_2011['ano']= 2011\n",
    "df_pessoas_2012['ano']= 2012\n",
    "df_pessoas_2013['ano']= 2013\n",
    "df_pessoas_2014['ano']= 2014\n",
    "df_pessoas_2015['ano']= 2015\n",
    "df_pessoas_2016['ano']= 2016\n",
    "df_pessoas_2017['ano']= 2017\n",
    "df_pessoas_2018['ano']= 2018\n",
    "df_pessoas_2019['ano']= 2019\n",
    "df_pessoas_2020['ano']= 2020\n",
    "\n",
    "df_ocorrencia_2007['ano']= 2007\n",
    "df_ocorrencia_2008['ano']= 2008\n",
    "df_ocorrencia_2009['ano']= 2009\n",
    "df_ocorrencia_2010['ano']= 2010\n",
    "df_ocorrencia_2011['ano']= 2011\n",
    "df_ocorrencia_2012['ano']= 2012\n",
    "df_ocorrencia_2013['ano']= 2013\n",
    "df_ocorrencia_2014['ano']= 2014\n",
    "df_ocorrencia_2015['ano']= 2015\n",
    "df_ocorrencia_2016['ano']= 2016\n",
    "df_ocorrencia_2017['ano']= 2017\n",
    "df_ocorrencia_2018['ano']= 2018\n",
    "df_ocorrencia_2019['ano']= 2019\n",
    "df_ocorrencia_2020['ano']= 2020"
   ]
  },
  {
   "cell_type": "markdown",
   "metadata": {},
   "source": [
    "- #### **Concatenar todos os DataFrames \"por ocorrencia\" e \"por pessoas\" para dois DataFrames principais:**"
   ]
  },
  {
   "cell_type": "code",
   "execution_count": 132,
   "metadata": {},
   "outputs": [],
   "source": [
    "dataframe_ocorrencia= pd.concat([df_ocorrencia_2007,df_ocorrencia_2008,df_ocorrencia_2009,df_ocorrencia_2010,\n",
    "                                 df_ocorrencia_2011,df_ocorrencia_2012,df_ocorrencia_2013,df_ocorrencia_2014,\n",
    "                                 df_ocorrencia_2015,df_ocorrencia_2016,df_ocorrencia_2017,df_ocorrencia_2018,\n",
    "                                 df_ocorrencia_2019,df_ocorrencia_2020], sort = False)\n",
    "\n",
    "dataframe_pessoas= pd.concat([df_pessoas_2007,df_pessoas_2008,df_pessoas_2009,df_pessoas_2010,df_pessoas_2011,\n",
    "                              df_pessoas_2012,df_pessoas_2013,df_pessoas_2014,df_pessoas_2015,df_pessoas_2016,\n",
    "                              df_pessoas_2017,df_pessoas_2018,df_pessoas_2019,df_pessoas_2020], sort = False)"
   ]
  },
  {
   "cell_type": "markdown",
   "metadata": {},
   "source": [
    "- #### **Eliminar linhas duplicadas dos DataFrames:**"
   ]
  },
  {
   "cell_type": "code",
   "execution_count": 137,
   "metadata": {},
   "outputs": [],
   "source": [
    "dataframe_ocorrencia.drop_duplicates(inplace= True)\n",
    "dataframe_pessoas.drop_duplicates(inplace= True)"
   ]
  },
  {
   "cell_type": "markdown",
   "metadata": {},
   "source": [
    "- #### **Eliminar linhas com todos os valores incompletos ou nulos:**"
   ]
  },
  {
   "cell_type": "code",
   "execution_count": 139,
   "metadata": {},
   "outputs": [],
   "source": [
    "dataframe_ocorrencia.dropna(how='all', inplace= True)\n",
    "dataframe_pessoas.dropna(how='all', inplace= True)"
   ]
  },
  {
   "cell_type": "markdown",
   "metadata": {},
   "source": [
    "- #### **Normalizar colunas com dados nulos para valores neutros:**"
   ]
  },
  {
   "cell_type": "code",
   "execution_count": 61,
   "metadata": {},
   "outputs": [
    {
     "name": "stdout",
     "output_type": "stream",
     "text": [
      "False    269123\n",
      "Name: id, dtype: int64\n",
      "False    269123\n",
      "Name: pesid, dtype: int64\n",
      "False    269123\n",
      "Name: id_veiculo, dtype: int64\n",
      "False    269123\n",
      "Name: tipo_veiculo, dtype: int64\n",
      "False    269123\n",
      "Name: marca, dtype: int64\n",
      "False    269123\n",
      "Name: ano_fabricacao_veiculo, dtype: int64\n",
      "False    269123\n",
      "Name: tipo_envolvido, dtype: int64\n",
      "False    269123\n",
      "Name: estado_fisico, dtype: int64\n",
      "False    269123\n",
      "Name: idade, dtype: int64\n",
      "False    269123\n",
      "Name: sexo, dtype: int64\n",
      "<class 'str'>\n"
     ]
    }
   ],
   "source": [
    "df_ocorrencia_2007\n",
    "print(df_pessoas_2007.id.isnull().value_counts())\n",
    "print(df_pessoas_2007.pesid.isnull().value_counts())\n",
    "print(df_pessoas_2007.id_veiculo.isnull().value_counts())\n",
    "print(df_pessoas_2007.tipo_veiculo.isnull().value_counts())\n",
    "print(df_pessoas_2007.marca.isnull().value_counts())\n",
    "print(df_pessoas_2007.ano_fabricacao_veiculo.isnull().value_counts())\n",
    "print(df_pessoas_2007.tipo_envolvido.isnull().value_counts())\n",
    "print(df_pessoas_2007.estado_fisico.isnull().value_counts())\n",
    "print(df_pessoas_2007.idade.isnull().value_counts())\n",
    "print(df_pessoas_2007.sexo.isnull().value_counts())\n",
    "print(type(df_pessoas_2007.id_veiculo[0]))"
   ]
  },
  {
   "cell_type": "markdown",
   "metadata": {},
   "source": [
    "- **Completar com outros valores colunas com valores nulos ou incompletos**"
   ]
  },
  {
   "cell_type": "code",
   "execution_count": 38,
   "metadata": {},
   "outputs": [
    {
     "name": "stderr",
     "output_type": "stream",
     "text": [
      "C:\\ProgramData\\Anaconda3\\lib\\site-packages\\ipykernel_launcher.py:1: SettingWithCopyWarning: \n",
      "A value is trying to be set on a copy of a slice from a DataFrame\n",
      "\n",
      "See the caveats in the documentation: http://pandas.pydata.org/pandas-docs/stable/indexing.html#indexing-view-versus-copy\n",
      "  \"\"\"Entry point for launching an IPython kernel.\n",
      "C:\\ProgramData\\Anaconda3\\lib\\site-packages\\ipykernel_launcher.py:2: SettingWithCopyWarning: \n",
      "A value is trying to be set on a copy of a slice from a DataFrame\n",
      "\n",
      "See the caveats in the documentation: http://pandas.pydata.org/pandas-docs/stable/indexing.html#indexing-view-versus-copy\n",
      "  \n"
     ]
    }
   ],
   "source": [
    "df_pessoas_2007.idade[df_pessoas_2007.idade.isnull() == True]= 0\n",
    "df_pessoas_2007.sexo[df_pessoas_2007.sexo.isnull() == True]= 'Inválido'"
   ]
  },
  {
   "cell_type": "code",
   "execution_count": 21,
   "metadata": {},
   "outputs": [],
   "source": [
    "#adicionar depois os anos em todos os registros de cada dataframe\n",
    "#tem colunas com dados faltantes ou incompletos"
   ]
  },
  {
   "cell_type": "code",
   "execution_count": 22,
   "metadata": {},
   "outputs": [],
   "source": []
  },
  {
   "cell_type": "markdown",
   "metadata": {},
   "source": [
    "# União dos Data Frames"
   ]
  },
  {
   "cell_type": "code",
   "execution_count": null,
   "metadata": {},
   "outputs": [],
   "source": []
  },
  {
   "cell_type": "code",
   "execution_count": null,
   "metadata": {},
   "outputs": [],
   "source": []
  },
  {
   "cell_type": "markdown",
   "metadata": {},
   "source": [
    "# **Análise exploratória**"
   ]
  },
  {
   "cell_type": "code",
   "execution_count": 25,
   "metadata": {},
   "outputs": [
    {
     "data": {
      "text/plain": [
       "id                          int64\n",
       "data_inversa               object\n",
       "dia_semana                 object\n",
       "horario                    object\n",
       "uf                         object\n",
       "br                        float64\n",
       "km                         object\n",
       "municipio                  object\n",
       "causa_acidente             object\n",
       "tipo_acidente              object\n",
       "classificacao_acidente     object\n",
       "fase_dia                   object\n",
       "sentido_via                object\n",
       "condicao_metereologica     object\n",
       "tipo_pista                 object\n",
       "tracado_via                object\n",
       "uso_solo                   object\n",
       "pessoas                     int64\n",
       "mortos                      int64\n",
       "feridos_leves               int64\n",
       "feridos_graves              int64\n",
       "ilesos                      int64\n",
       "ignorados                   int64\n",
       "feridos                     int64\n",
       "veiculos                    int64\n",
       "latitude                   object\n",
       "longitude                  object\n",
       "regional                   object\n",
       "delegacia                  object\n",
       "uop                        object\n",
       "dtype: object"
      ]
     },
     "execution_count": 25,
     "metadata": {},
     "output_type": "execute_result"
    }
   ],
   "source": [
    "dataframe2017.dtypes"
   ]
  },
  {
   "cell_type": "code",
   "execution_count": 10,
   "metadata": {},
   "outputs": [
    {
     "data": {
      "text/plain": [
       "Simples     46344\n",
       "Dupla       37242\n",
       "Múltipla     5977\n",
       "Name: tipo_pista, dtype: int64"
      ]
     },
     "execution_count": 10,
     "metadata": {},
     "output_type": "execute_result"
    }
   ],
   "source": [
    "dataframe2017['tipo_pista'].value_counts()"
   ]
  },
  {
   "cell_type": "code",
   "execution_count": 11,
   "metadata": {},
   "outputs": [
    {
     "data": {
      "text/plain": [
       "Falta de Atenção à Condução                                                       34508\n",
       "Velocidade Incompatível                                                           10432\n",
       "Ingestão de Álcool                                                                 6448\n",
       "Não guardar distância de segurança                                                 5837\n",
       "Desobediência às normas de trânsito pelo condutor                                  5219\n",
       "Defeito Mecânico no Veículo                                                        4649\n",
       "Pista Escorregadia                                                                 4253\n",
       "Condutor Dormindo                                                                  3798\n",
       "Animais na Pista                                                                   2623\n",
       "Falta de Atenção do Pedestre                                                       2390\n",
       "Ultrapassagem Indevida                                                             2054\n",
       "Avarias e/ou desgaste excessivo no pneu                                            1588\n",
       "Defeito na Via                                                                     1422\n",
       "Mal Súbito                                                                          972\n",
       "Restrição de Visibilidade                                                           884\n",
       "Objeto estático sobre o leito carroçável                                            769\n",
       "Carga excessiva e/ou mal acondicionada                                              545\n",
       "Fenômenos da Natureza                                                               442\n",
       "Sinalização da via insuficiente ou inadequada                                       414\n",
       "Deficiência ou não Acionamento do Sistema de Iluminação/Sinalização do Veículo      235\n",
       "Ingestão de Substâncias Psicoativas                                                  78\n",
       "Agressão Externa                                                                      2\n",
       "Desobediência às normas de trânsito pelo pedestre                                     1\n",
       "Name: causa_acidente, dtype: int64"
      ]
     },
     "execution_count": 11,
     "metadata": {},
     "output_type": "execute_result"
    }
   ],
   "source": [
    "dataframe2017['causa_acidente'].value_counts()"
   ]
  },
  {
   "cell_type": "code",
   "execution_count": 12,
   "metadata": {},
   "outputs": [
    {
     "data": {
      "text/plain": [
       "Com Vítimas Feridas    53699\n",
       "Sem Vítimas            30681\n",
       "Com Vítimas Fatais      5183\n",
       "Name: classificacao_acidente, dtype: int64"
      ]
     },
     "execution_count": 12,
     "metadata": {},
     "output_type": "execute_result"
    }
   ],
   "source": [
    "dataframe2017['classificacao_acidente'].value_counts()"
   ]
  },
  {
   "cell_type": "code",
   "execution_count": 13,
   "metadata": {},
   "outputs": [
    {
     "data": {
      "text/plain": [
       "sábado           15174\n",
       "domingo          14784\n",
       "sexta-feira      13849\n",
       "segunda-feira    12175\n",
       "quinta-feira     11787\n",
       "quarta-feira     11029\n",
       "terça-feira      10765\n",
       "Name: dia_semana, dtype: int64"
      ]
     },
     "execution_count": 13,
     "metadata": {},
     "output_type": "execute_result"
    }
   ],
   "source": [
    "dataframe2017['dia_semana'].value_counts()"
   ]
  },
  {
   "cell_type": "code",
   "execution_count": 14,
   "metadata": {},
   "outputs": [
    {
     "data": {
      "text/plain": [
       "Não    52863\n",
       "Sim    36700\n",
       "Name: uso_solo, dtype: int64"
      ]
     },
     "execution_count": 14,
     "metadata": {},
     "output_type": "execute_result"
    }
   ],
   "source": [
    "dataframe2017['uso_solo'].value_counts()"
   ]
  },
  {
   "cell_type": "code",
   "execution_count": 15,
   "metadata": {},
   "outputs": [],
   "source": [
    "### latitude e longite para plot\n",
    "dataframe2017['latitude']  = dataframe2017['latitude'].str.replace(',','.')\n",
    "dataframe2017['longitude']  = dataframe2017['longitude'].str.replace(',','.')"
   ]
  },
  {
   "cell_type": "code",
   "execution_count": 16,
   "metadata": {},
   "outputs": [],
   "source": [
    "dataframe2017['latitude'] = dataframe2017['latitude'].astype(float)\n",
    "dataframe2017['longitude'] = dataframe2017['longitude'].astype(float)"
   ]
  },
  {
   "cell_type": "markdown",
   "metadata": {},
   "source": [
    "# **Normalização dos tipos de dados de cada coluna dos dataframes**"
   ]
  },
  {
   "cell_type": "code",
   "execution_count": 20,
   "metadata": {},
   "outputs": [],
   "source": [
    "#a maioria está em string e precisa estar em formato data ou numérico"
   ]
  }
 ],
 "metadata": {
  "kernelspec": {
   "display_name": "Python 3",
   "language": "python",
   "name": "python3"
  },
  "language_info": {
   "codemirror_mode": {
    "name": "ipython",
    "version": 3
   },
   "file_extension": ".py",
   "mimetype": "text/x-python",
   "name": "python",
   "nbconvert_exporter": "python",
   "pygments_lexer": "ipython3",
   "version": "3.7.3"
  }
 },
 "nbformat": 4,
 "nbformat_minor": 4
}
