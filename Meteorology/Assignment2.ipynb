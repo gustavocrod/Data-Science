{
 "cells": [
  {
   "cell_type": "markdown",
   "metadata": {},
   "source": [
    "# Recordes Metereológicos de 2005 a 2014 vs 2015 - Região de Ann Arbor, Michigan\n",
    "\n",
    "![chart](chart.png)"
   ]
  },
  {
   "cell_type": "markdown",
   "metadata": {},
   "source": [
    "Vamos construir o gráfico mostrado acima!\n",
    "\n",
    "#### Nota: essa é uma atividade do curso \"[Applied Plotting, Charting & Data Representation in Python](https://www.coursera.org/learn/python-plotting)\", da University of Michigan no Coursera.\n",
    "\n",
    "\n",
    "\n",
    "Nele, temos dados de um subset da \"The National Centers for Environmental Information\" (NCEI) [Daily Global Historical Climatology Network](https://www1.ncdc.noaa.gov/pub/data/ghcn/daily/readme.txt) (GHCN-Daily). Um GHCN-Daily é composto por registros climáticos diários de milhares de estações de superfície terrestre em todo o mundo.\n",
    "\n",
    "Cada linha no dataset corresponde a uma única observação.\n",
    "\n",
    "\n",
    "Temos essas variáveis:\n",
    "\n",
    "* **id** : Código de identificação da estação\n",
    "* **date** : data no formato YYYY-MM-DD (e.g. 2012-01-24 = January 24, 2012)\n",
    "* **element** : indicador do tipo do elemento\n",
    "    * TMAX : Maximum temperature (em décimos de graus Celcius)\n",
    "    * TMIN : Minimum temperature (em décimos de graus Celcius)\n",
    "* **value** : Temperatura (em décimos de graus Celcius)\n",
    "\n",
    "\n",
    "Para nossa tarefa, devemos:\n",
    "1. Ler e nos familiarizar com o dataset, e então escrever um código python que retorne um grafíco de linhas que contenha os recordes de mínima e máxima temperaturas POR DIA do ano, no período de 2005-2014. A área entre o recorde máximo e mínimo deve estar sombreada.\n",
    "2. Adicionar um scatterplot para cada ponto (máximo e minimo) em que o recorde de máxima e mínima de 2015 quebrou o recorde dos 10 anos anteriores (2005-2014).\n",
    "3. Atentar para *leap days* como o famoso 29 de fevereiro. Então devemos removê-lo.\n",
    "4. Fazer um gráfico bonito! Usando princípios de organização e não-poluição de legendas, labels, e sujeiras.\n",
    "\n",
    "Os dados recebidos são de Ann Arbor, Michigan, United States.\n"
   ]
  },
  {
   "cell_type": "markdown",
   "metadata": {},
   "source": [
    "## Primeiramente vamos ler o dataset e verificar seu shape, cabecalho e fim, e tipos de dados"
   ]
  },
  {
   "cell_type": "code",
   "execution_count": 197,
   "metadata": {
    "collapsed": false
   },
   "outputs": [
    {
     "data": {
      "text/plain": [
       "(165085, 4)"
      ]
     },
     "execution_count": 197,
     "metadata": {},
     "output_type": "execute_result"
    }
   ],
   "source": [
    "# read csv\n",
    "df = pd.read_csv('fb441e62df2d58994928907a91895ec62c2c42e6cd075c2700843b89.csv')\n",
    "df.shape"
   ]
  },
  {
   "cell_type": "code",
   "execution_count": 198,
   "metadata": {
    "collapsed": false
   },
   "outputs": [
    {
     "data": {
      "text/html": [
       "<div>\n",
       "<table border=\"1\" class=\"dataframe\">\n",
       "  <thead>\n",
       "    <tr style=\"text-align: right;\">\n",
       "      <th></th>\n",
       "      <th>ID</th>\n",
       "      <th>Date</th>\n",
       "      <th>Element</th>\n",
       "      <th>Data_Value</th>\n",
       "    </tr>\n",
       "  </thead>\n",
       "  <tbody>\n",
       "    <tr>\n",
       "      <th>0</th>\n",
       "      <td>USW00094889</td>\n",
       "      <td>2014-11-12</td>\n",
       "      <td>TMAX</td>\n",
       "      <td>22</td>\n",
       "    </tr>\n",
       "    <tr>\n",
       "      <th>1</th>\n",
       "      <td>USC00208972</td>\n",
       "      <td>2009-04-29</td>\n",
       "      <td>TMIN</td>\n",
       "      <td>56</td>\n",
       "    </tr>\n",
       "    <tr>\n",
       "      <th>2</th>\n",
       "      <td>USC00200032</td>\n",
       "      <td>2008-05-26</td>\n",
       "      <td>TMAX</td>\n",
       "      <td>278</td>\n",
       "    </tr>\n",
       "    <tr>\n",
       "      <th>3</th>\n",
       "      <td>USC00205563</td>\n",
       "      <td>2005-11-11</td>\n",
       "      <td>TMAX</td>\n",
       "      <td>139</td>\n",
       "    </tr>\n",
       "    <tr>\n",
       "      <th>4</th>\n",
       "      <td>USC00200230</td>\n",
       "      <td>2014-02-27</td>\n",
       "      <td>TMAX</td>\n",
       "      <td>-106</td>\n",
       "    </tr>\n",
       "  </tbody>\n",
       "</table>\n",
       "</div>"
      ],
      "text/plain": [
       "            ID        Date Element  Data_Value\n",
       "0  USW00094889  2014-11-12    TMAX          22\n",
       "1  USC00208972  2009-04-29    TMIN          56\n",
       "2  USC00200032  2008-05-26    TMAX         278\n",
       "3  USC00205563  2005-11-11    TMAX         139\n",
       "4  USC00200230  2014-02-27    TMAX        -106"
      ]
     },
     "execution_count": 198,
     "metadata": {},
     "output_type": "execute_result"
    }
   ],
   "source": [
    "df.head()"
   ]
  },
  {
   "cell_type": "code",
   "execution_count": 199,
   "metadata": {
    "collapsed": false
   },
   "outputs": [
    {
     "data": {
      "text/html": [
       "<div>\n",
       "<table border=\"1\" class=\"dataframe\">\n",
       "  <thead>\n",
       "    <tr style=\"text-align: right;\">\n",
       "      <th></th>\n",
       "      <th>ID</th>\n",
       "      <th>Date</th>\n",
       "      <th>Element</th>\n",
       "      <th>Data_Value</th>\n",
       "    </tr>\n",
       "  </thead>\n",
       "  <tbody>\n",
       "    <tr>\n",
       "      <th>45691</th>\n",
       "      <td>USC00200032</td>\n",
       "      <td>2015-12-31</td>\n",
       "      <td>TMAX</td>\n",
       "      <td>11</td>\n",
       "    </tr>\n",
       "    <tr>\n",
       "      <th>10573</th>\n",
       "      <td>USC00205050</td>\n",
       "      <td>2015-12-31</td>\n",
       "      <td>TMIN</td>\n",
       "      <td>-17</td>\n",
       "    </tr>\n",
       "    <tr>\n",
       "      <th>21088</th>\n",
       "      <td>USC00208202</td>\n",
       "      <td>2015-12-31</td>\n",
       "      <td>TMAX</td>\n",
       "      <td>0</td>\n",
       "    </tr>\n",
       "    <tr>\n",
       "      <th>10253</th>\n",
       "      <td>USC00201250</td>\n",
       "      <td>2015-12-31</td>\n",
       "      <td>TMIN</td>\n",
       "      <td>-6</td>\n",
       "    </tr>\n",
       "    <tr>\n",
       "      <th>29410</th>\n",
       "      <td>USC00200230</td>\n",
       "      <td>2015-12-31</td>\n",
       "      <td>TMIN</td>\n",
       "      <td>-17</td>\n",
       "    </tr>\n",
       "  </tbody>\n",
       "</table>\n",
       "</div>"
      ],
      "text/plain": [
       "                ID        Date Element  Data_Value\n",
       "45691  USC00200032  2015-12-31    TMAX          11\n",
       "10573  USC00205050  2015-12-31    TMIN         -17\n",
       "21088  USC00208202  2015-12-31    TMAX           0\n",
       "10253  USC00201250  2015-12-31    TMIN          -6\n",
       "29410  USC00200230  2015-12-31    TMIN         -17"
      ]
     },
     "execution_count": 199,
     "metadata": {},
     "output_type": "execute_result"
    }
   ],
   "source": [
    "df.sort_values(by='Date').tail()"
   ]
  },
  {
   "cell_type": "code",
   "execution_count": 200,
   "metadata": {
    "collapsed": false
   },
   "outputs": [
    {
     "data": {
      "text/html": [
       "<div>\n",
       "<table border=\"1\" class=\"dataframe\">\n",
       "  <thead>\n",
       "    <tr style=\"text-align: right;\">\n",
       "      <th></th>\n",
       "      <th>ID</th>\n",
       "      <th>Date</th>\n",
       "      <th>Element</th>\n",
       "      <th>Data_Value</th>\n",
       "    </tr>\n",
       "  </thead>\n",
       "  <tbody>\n",
       "    <tr>\n",
       "      <th>60995</th>\n",
       "      <td>USW00004848</td>\n",
       "      <td>2005-01-01</td>\n",
       "      <td>TMIN</td>\n",
       "      <td>0</td>\n",
       "    </tr>\n",
       "    <tr>\n",
       "      <th>17153</th>\n",
       "      <td>USC00207320</td>\n",
       "      <td>2005-01-01</td>\n",
       "      <td>TMAX</td>\n",
       "      <td>150</td>\n",
       "    </tr>\n",
       "    <tr>\n",
       "      <th>17155</th>\n",
       "      <td>USC00207320</td>\n",
       "      <td>2005-01-01</td>\n",
       "      <td>TMIN</td>\n",
       "      <td>-11</td>\n",
       "    </tr>\n",
       "    <tr>\n",
       "      <th>10079</th>\n",
       "      <td>USW00014833</td>\n",
       "      <td>2005-01-01</td>\n",
       "      <td>TMIN</td>\n",
       "      <td>-44</td>\n",
       "    </tr>\n",
       "    <tr>\n",
       "      <th>10073</th>\n",
       "      <td>USW00014833</td>\n",
       "      <td>2005-01-01</td>\n",
       "      <td>TMAX</td>\n",
       "      <td>33</td>\n",
       "    </tr>\n",
       "  </tbody>\n",
       "</table>\n",
       "</div>"
      ],
      "text/plain": [
       "                ID        Date Element  Data_Value\n",
       "60995  USW00004848  2005-01-01    TMIN           0\n",
       "17153  USC00207320  2005-01-01    TMAX         150\n",
       "17155  USC00207320  2005-01-01    TMIN         -11\n",
       "10079  USW00014833  2005-01-01    TMIN         -44\n",
       "10073  USW00014833  2005-01-01    TMAX          33"
      ]
     },
     "execution_count": 200,
     "metadata": {},
     "output_type": "execute_result"
    }
   ],
   "source": [
    "df.sort_values(by='Date').head()"
   ]
  },
  {
   "cell_type": "code",
   "execution_count": 25,
   "metadata": {
    "collapsed": false
   },
   "outputs": [
    {
     "data": {
      "text/plain": [
       "ID            object\n",
       "Date          object\n",
       "Element       object\n",
       "Data_Value     int64\n",
       "dtype: object"
      ]
     },
     "execution_count": 25,
     "metadata": {},
     "output_type": "execute_result"
    }
   ],
   "source": [
    "df.dtypes"
   ]
  },
  {
   "cell_type": "markdown",
   "metadata": {},
   "source": [
    "# Data Cleansing\n",
    "\n",
    "Vamos primeiramente remover a coluna ID que não sera utilizada.\n",
    "\n",
    "Converteremos o campo Date para datetime, ja q ele esta em object.\n",
    "\n",
    "Logo, iremos separar o mes e dia, para podermos agrupar apenas pela data (dia-mes)\n",
    "\n",
    "Por fim vamos converter as temperaturas de Décimo de Celcius para Celcius e remover 29 de fevereiro"
   ]
  },
  {
   "cell_type": "code",
   "execution_count": 201,
   "metadata": {
    "collapsed": true
   },
   "outputs": [],
   "source": [
    "# remover id\n",
    "df.drop('ID', axis=1, inplace=True)"
   ]
  },
  {
   "cell_type": "code",
   "execution_count": 202,
   "metadata": {
    "collapsed": false
   },
   "outputs": [
    {
     "data": {
      "text/html": [
       "<div>\n",
       "<table border=\"1\" class=\"dataframe\">\n",
       "  <thead>\n",
       "    <tr style=\"text-align: right;\">\n",
       "      <th></th>\n",
       "      <th>Date</th>\n",
       "      <th>Element</th>\n",
       "      <th>Data_Value</th>\n",
       "      <th>Year</th>\n",
       "      <th>Month_date</th>\n",
       "    </tr>\n",
       "  </thead>\n",
       "  <tbody>\n",
       "    <tr>\n",
       "      <th>0</th>\n",
       "      <td>2014-11-12</td>\n",
       "      <td>TMAX</td>\n",
       "      <td>2.2</td>\n",
       "      <td>2014</td>\n",
       "      <td>11-12</td>\n",
       "    </tr>\n",
       "    <tr>\n",
       "      <th>1</th>\n",
       "      <td>2009-04-29</td>\n",
       "      <td>TMIN</td>\n",
       "      <td>5.6</td>\n",
       "      <td>2009</td>\n",
       "      <td>04-29</td>\n",
       "    </tr>\n",
       "    <tr>\n",
       "      <th>2</th>\n",
       "      <td>2008-05-26</td>\n",
       "      <td>TMAX</td>\n",
       "      <td>27.8</td>\n",
       "      <td>2008</td>\n",
       "      <td>05-26</td>\n",
       "    </tr>\n",
       "    <tr>\n",
       "      <th>3</th>\n",
       "      <td>2005-11-11</td>\n",
       "      <td>TMAX</td>\n",
       "      <td>13.9</td>\n",
       "      <td>2005</td>\n",
       "      <td>11-11</td>\n",
       "    </tr>\n",
       "    <tr>\n",
       "      <th>4</th>\n",
       "      <td>2014-02-27</td>\n",
       "      <td>TMAX</td>\n",
       "      <td>-10.6</td>\n",
       "      <td>2014</td>\n",
       "      <td>02-27</td>\n",
       "    </tr>\n",
       "  </tbody>\n",
       "</table>\n",
       "</div>"
      ],
      "text/plain": [
       "        Date Element  Data_Value  Year Month_date\n",
       "0 2014-11-12    TMAX         2.2  2014      11-12\n",
       "1 2009-04-29    TMIN         5.6  2009      04-29\n",
       "2 2008-05-26    TMAX        27.8  2008      05-26\n",
       "3 2005-11-11    TMAX        13.9  2005      11-11\n",
       "4 2014-02-27    TMAX       -10.6  2014      02-27"
      ]
     },
     "execution_count": 202,
     "metadata": {},
     "output_type": "execute_result"
    }
   ],
   "source": [
    "df['Date'] = pd.to_datetime(df['Date'])\n",
    "\n",
    "# decimo celcius para celcius\n",
    "df['Data_Value'] = df['Data_Value'] / 10\n",
    "\n",
    "# separar ano do mes e dia, para podermos agrupar apenas pela data dia-mes\n",
    "df['Year'], df['Month_date'] = df['Date'].dt.year, df['Date'].dt.strftime('%m-%d')\n",
    "\n",
    "# remover feb\n",
    "df = df[~df['Month_date'].str.contains(\"02-29\")]\n",
    "df.head()"
   ]
  },
  {
   "cell_type": "markdown",
   "metadata": {},
   "source": [
    "Não podemos esquecer de antes separar o ano de 2015."
   ]
  },
  {
   "cell_type": "code",
   "execution_count": 203,
   "metadata": {
    "collapsed": false
   },
   "outputs": [
    {
     "data": {
      "text/html": [
       "<div>\n",
       "<table border=\"1\" class=\"dataframe\">\n",
       "  <thead>\n",
       "    <tr style=\"text-align: right;\">\n",
       "      <th></th>\n",
       "      <th>Date</th>\n",
       "      <th>Element</th>\n",
       "      <th>Data_Value</th>\n",
       "      <th>Year</th>\n",
       "      <th>Month_date</th>\n",
       "    </tr>\n",
       "  </thead>\n",
       "  <tbody>\n",
       "    <tr>\n",
       "      <th>19</th>\n",
       "      <td>2015-01-03</td>\n",
       "      <td>TMIN</td>\n",
       "      <td>-3.9</td>\n",
       "      <td>2015</td>\n",
       "      <td>01-03</td>\n",
       "    </tr>\n",
       "    <tr>\n",
       "      <th>30</th>\n",
       "      <td>2015-03-17</td>\n",
       "      <td>TMAX</td>\n",
       "      <td>18.9</td>\n",
       "      <td>2015</td>\n",
       "      <td>03-17</td>\n",
       "    </tr>\n",
       "    <tr>\n",
       "      <th>34</th>\n",
       "      <td>2015-06-06</td>\n",
       "      <td>TMIN</td>\n",
       "      <td>12.8</td>\n",
       "      <td>2015</td>\n",
       "      <td>06-06</td>\n",
       "    </tr>\n",
       "    <tr>\n",
       "      <th>46</th>\n",
       "      <td>2015-08-30</td>\n",
       "      <td>TMIN</td>\n",
       "      <td>17.8</td>\n",
       "      <td>2015</td>\n",
       "      <td>08-30</td>\n",
       "    </tr>\n",
       "    <tr>\n",
       "      <th>50</th>\n",
       "      <td>2015-08-30</td>\n",
       "      <td>TMIN</td>\n",
       "      <td>15.6</td>\n",
       "      <td>2015</td>\n",
       "      <td>08-30</td>\n",
       "    </tr>\n",
       "  </tbody>\n",
       "</table>\n",
       "</div>"
      ],
      "text/plain": [
       "         Date Element  Data_Value  Year Month_date\n",
       "19 2015-01-03    TMIN        -3.9  2015      01-03\n",
       "30 2015-03-17    TMAX        18.9  2015      03-17\n",
       "34 2015-06-06    TMIN        12.8  2015      06-06\n",
       "46 2015-08-30    TMIN        17.8  2015      08-30\n",
       "50 2015-08-30    TMIN        15.6  2015      08-30"
      ]
     },
     "execution_count": 203,
     "metadata": {},
     "output_type": "execute_result"
    }
   ],
   "source": [
    "# dataframe de 2015\n",
    "df_15 = df[df['Date'] >= '2015']\n",
    "df_15.head()"
   ]
  },
  {
   "cell_type": "markdown",
   "metadata": {},
   "source": [
    "## OK, agora vamos procurar pelos recordes metereológicos, por dia no periodo de 2005 a 2014\n",
    "\n",
    "Existem vários registros sobre o mesmo dia, mes e ano, mas já que são registros de varias regiões isso é perfeitamente normal. Mas devemos atentar que devemos pegar o máximo ou mínimo daquele determinado dia, em 10 anos. \n",
    "\n",
    "Para um agrupamento disso, pois precisamos de uma classificação diária, precisamos extrair apenas os meses e dias do campo 'Date'.\n",
    "\n"
   ]
  },
  {
   "cell_type": "code",
   "execution_count": 204,
   "metadata": {
    "collapsed": false
   },
   "outputs": [],
   "source": [
    "# Dataframe de 2005 a 2014\n",
    "df_ten_years = df[df['Year'] < 2015]"
   ]
  },
  {
   "cell_type": "code",
   "execution_count": 205,
   "metadata": {
    "collapsed": false
   },
   "outputs": [
    {
     "data": {
      "text/html": [
       "<div>\n",
       "<table border=\"1\" class=\"dataframe\">\n",
       "  <thead>\n",
       "    <tr style=\"text-align: right;\">\n",
       "      <th></th>\n",
       "      <th>Date</th>\n",
       "      <th>Element</th>\n",
       "      <th>Data_Value</th>\n",
       "      <th>Year</th>\n",
       "      <th>Month_date</th>\n",
       "    </tr>\n",
       "  </thead>\n",
       "  <tbody>\n",
       "    <tr>\n",
       "      <th>47170</th>\n",
       "      <td>2014-12-31</td>\n",
       "      <td>TMIN</td>\n",
       "      <td>-12.2</td>\n",
       "      <td>2014</td>\n",
       "      <td>12-31</td>\n",
       "    </tr>\n",
       "    <tr>\n",
       "      <th>62752</th>\n",
       "      <td>2014-12-31</td>\n",
       "      <td>TMIN</td>\n",
       "      <td>-8.8</td>\n",
       "      <td>2014</td>\n",
       "      <td>12-31</td>\n",
       "    </tr>\n",
       "    <tr>\n",
       "      <th>46718</th>\n",
       "      <td>2014-12-31</td>\n",
       "      <td>TMAX</td>\n",
       "      <td>-3.9</td>\n",
       "      <td>2014</td>\n",
       "      <td>12-31</td>\n",
       "    </tr>\n",
       "    <tr>\n",
       "      <th>62784</th>\n",
       "      <td>2014-12-31</td>\n",
       "      <td>TMAX</td>\n",
       "      <td>-2.8</td>\n",
       "      <td>2014</td>\n",
       "      <td>12-31</td>\n",
       "    </tr>\n",
       "    <tr>\n",
       "      <th>46383</th>\n",
       "      <td>2014-12-31</td>\n",
       "      <td>TMAX</td>\n",
       "      <td>-5.6</td>\n",
       "      <td>2014</td>\n",
       "      <td>12-31</td>\n",
       "    </tr>\n",
       "  </tbody>\n",
       "</table>\n",
       "</div>"
      ],
      "text/plain": [
       "            Date Element  Data_Value  Year Month_date\n",
       "47170 2014-12-31    TMIN       -12.2  2014      12-31\n",
       "62752 2014-12-31    TMIN        -8.8  2014      12-31\n",
       "46718 2014-12-31    TMAX        -3.9  2014      12-31\n",
       "62784 2014-12-31    TMAX        -2.8  2014      12-31\n",
       "46383 2014-12-31    TMAX        -5.6  2014      12-31"
      ]
     },
     "execution_count": 205,
     "metadata": {},
     "output_type": "execute_result"
    }
   ],
   "source": [
    "# verificar o final dos df dos 10 anos\n",
    "df_ten_years.sort_values(by='Date').tail()"
   ]
  },
  {
   "cell_type": "markdown",
   "metadata": {},
   "source": [
    "O campo 'Element' nos diz se é um valor mínimo (TMIN) ou máximo (TMAX). Se o valor for 'TMIN', devemos compará-lo com o menor mínimo, se for 'TMAX' devemos compará-lo com o maior máximo.\n",
    "\n",
    "Podemos utilizar o método `group_by` para agrupar por 'Date' (e 'Element'), e verificar rapidamente os valores de 'Data_Value' com os métodos `min` e `max` para vermos os menores valores mínimos e maiores valores máximos de cada data."
   ]
  },
  {
   "cell_type": "code",
   "execution_count": 206,
   "metadata": {
    "collapsed": false
   },
   "outputs": [
    {
     "data": {
      "text/html": [
       "<div>\n",
       "<table border=\"1\" class=\"dataframe\">\n",
       "  <thead>\n",
       "    <tr style=\"text-align: right;\">\n",
       "      <th></th>\n",
       "      <th></th>\n",
       "      <th>Date</th>\n",
       "      <th>Data_Value</th>\n",
       "      <th>Year</th>\n",
       "    </tr>\n",
       "    <tr>\n",
       "      <th>Month_date</th>\n",
       "      <th>Element</th>\n",
       "      <th></th>\n",
       "      <th></th>\n",
       "      <th></th>\n",
       "    </tr>\n",
       "  </thead>\n",
       "  <tbody>\n",
       "    <tr>\n",
       "      <th rowspan=\"2\" valign=\"top\">01-01</th>\n",
       "      <th>TMAX</th>\n",
       "      <td>2005-01-01</td>\n",
       "      <td>-9.3</td>\n",
       "      <td>2005</td>\n",
       "    </tr>\n",
       "    <tr>\n",
       "      <th>TMIN</th>\n",
       "      <td>2005-01-01</td>\n",
       "      <td>-16.0</td>\n",
       "      <td>2005</td>\n",
       "    </tr>\n",
       "    <tr>\n",
       "      <th rowspan=\"2\" valign=\"top\">01-02</th>\n",
       "      <th>TMAX</th>\n",
       "      <td>2005-01-02</td>\n",
       "      <td>-10.0</td>\n",
       "      <td>2005</td>\n",
       "    </tr>\n",
       "    <tr>\n",
       "      <th>TMIN</th>\n",
       "      <td>2005-01-02</td>\n",
       "      <td>-26.7</td>\n",
       "      <td>2005</td>\n",
       "    </tr>\n",
       "    <tr>\n",
       "      <th rowspan=\"2\" valign=\"top\">01-03</th>\n",
       "      <th>TMAX</th>\n",
       "      <td>2005-01-03</td>\n",
       "      <td>-11.7</td>\n",
       "      <td>2005</td>\n",
       "    </tr>\n",
       "    <tr>\n",
       "      <th>TMIN</th>\n",
       "      <td>2005-01-03</td>\n",
       "      <td>-26.7</td>\n",
       "      <td>2005</td>\n",
       "    </tr>\n",
       "  </tbody>\n",
       "</table>\n",
       "</div>"
      ],
      "text/plain": [
       "                         Date  Data_Value  Year\n",
       "Month_date Element                             \n",
       "01-01      TMAX    2005-01-01        -9.3  2005\n",
       "           TMIN    2005-01-01       -16.0  2005\n",
       "01-02      TMAX    2005-01-02       -10.0  2005\n",
       "           TMIN    2005-01-02       -26.7  2005\n",
       "01-03      TMAX    2005-01-03       -11.7  2005\n",
       "           TMIN    2005-01-03       -26.7  2005"
      ]
     },
     "execution_count": 206,
     "metadata": {},
     "output_type": "execute_result"
    }
   ],
   "source": [
    "# minimo das baixas temperaturas\n",
    "(df_ten_years.groupby(['Month_date', 'Element']).min()).head(6)"
   ]
  },
  {
   "cell_type": "code",
   "execution_count": 207,
   "metadata": {
    "collapsed": false
   },
   "outputs": [
    {
     "data": {
      "text/html": [
       "<div>\n",
       "<table border=\"1\" class=\"dataframe\">\n",
       "  <thead>\n",
       "    <tr style=\"text-align: right;\">\n",
       "      <th></th>\n",
       "      <th></th>\n",
       "      <th>Date</th>\n",
       "      <th>Data_Value</th>\n",
       "      <th>Year</th>\n",
       "    </tr>\n",
       "    <tr>\n",
       "      <th>Month_date</th>\n",
       "      <th>Element</th>\n",
       "      <th></th>\n",
       "      <th></th>\n",
       "      <th></th>\n",
       "    </tr>\n",
       "  </thead>\n",
       "  <tbody>\n",
       "    <tr>\n",
       "      <th rowspan=\"2\" valign=\"top\">01-01</th>\n",
       "      <th>TMAX</th>\n",
       "      <td>2014-01-01</td>\n",
       "      <td>15.6</td>\n",
       "      <td>2014</td>\n",
       "    </tr>\n",
       "    <tr>\n",
       "      <th>TMIN</th>\n",
       "      <td>2014-01-01</td>\n",
       "      <td>7.2</td>\n",
       "      <td>2014</td>\n",
       "    </tr>\n",
       "    <tr>\n",
       "      <th rowspan=\"2\" valign=\"top\">01-02</th>\n",
       "      <th>TMAX</th>\n",
       "      <td>2014-01-02</td>\n",
       "      <td>13.9</td>\n",
       "      <td>2014</td>\n",
       "    </tr>\n",
       "    <tr>\n",
       "      <th>TMIN</th>\n",
       "      <td>2014-01-02</td>\n",
       "      <td>2.8</td>\n",
       "      <td>2014</td>\n",
       "    </tr>\n",
       "    <tr>\n",
       "      <th rowspan=\"2\" valign=\"top\">01-03</th>\n",
       "      <th>TMAX</th>\n",
       "      <td>2014-01-03</td>\n",
       "      <td>13.3</td>\n",
       "      <td>2014</td>\n",
       "    </tr>\n",
       "    <tr>\n",
       "      <th>TMIN</th>\n",
       "      <td>2014-01-03</td>\n",
       "      <td>2.8</td>\n",
       "      <td>2014</td>\n",
       "    </tr>\n",
       "  </tbody>\n",
       "</table>\n",
       "</div>"
      ],
      "text/plain": [
       "                         Date  Data_Value  Year\n",
       "Month_date Element                             \n",
       "01-01      TMAX    2014-01-01        15.6  2014\n",
       "           TMIN    2014-01-01         7.2  2014\n",
       "01-02      TMAX    2014-01-02        13.9  2014\n",
       "           TMIN    2014-01-02         2.8  2014\n",
       "01-03      TMAX    2014-01-03        13.3  2014\n",
       "           TMIN    2014-01-03         2.8  2014"
      ]
     },
     "execution_count": 207,
     "metadata": {},
     "output_type": "execute_result"
    }
   ],
   "source": [
    "# maximo das altas temperaturas\n",
    "(df_ten_years.groupby(['Month_date', 'Element']).max()).head(6)"
   ]
  },
  {
   "cell_type": "markdown",
   "metadata": {},
   "source": [
    "## Pegar os recordes\n",
    "\n",
    "Ok, por ultimo, podemos agrupar por 'Date', selecionar apenas 'Data_Value'. Logo após, utilizamos o método de agregação ``agg`` utilizando os parametros min e max."
   ]
  },
  {
   "cell_type": "markdown",
   "metadata": {},
   "source": [
    "#### Recordes de 2005 a 2014"
   ]
  },
  {
   "cell_type": "code",
   "execution_count": 208,
   "metadata": {
    "collapsed": false
   },
   "outputs": [
    {
     "data": {
      "text/html": [
       "<div>\n",
       "<table border=\"1\" class=\"dataframe\">\n",
       "  <thead>\n",
       "    <tr style=\"text-align: right;\">\n",
       "      <th></th>\n",
       "      <th>Record Low</th>\n",
       "      <th>Record High</th>\n",
       "    </tr>\n",
       "    <tr>\n",
       "      <th>Month_date</th>\n",
       "      <th></th>\n",
       "      <th></th>\n",
       "    </tr>\n",
       "  </thead>\n",
       "  <tbody>\n",
       "    <tr>\n",
       "      <th>01-01</th>\n",
       "      <td>-16.0</td>\n",
       "      <td>15.6</td>\n",
       "    </tr>\n",
       "    <tr>\n",
       "      <th>01-02</th>\n",
       "      <td>-26.7</td>\n",
       "      <td>13.9</td>\n",
       "    </tr>\n",
       "    <tr>\n",
       "      <th>01-03</th>\n",
       "      <td>-26.7</td>\n",
       "      <td>13.3</td>\n",
       "    </tr>\n",
       "    <tr>\n",
       "      <th>01-04</th>\n",
       "      <td>-26.1</td>\n",
       "      <td>10.6</td>\n",
       "    </tr>\n",
       "    <tr>\n",
       "      <th>01-05</th>\n",
       "      <td>-15.0</td>\n",
       "      <td>12.8</td>\n",
       "    </tr>\n",
       "  </tbody>\n",
       "</table>\n",
       "</div>"
      ],
      "text/plain": [
       "            Record Low  Record High\n",
       "Month_date                         \n",
       "01-01            -16.0         15.6\n",
       "01-02            -26.7         13.9\n",
       "01-03            -26.7         13.3\n",
       "01-04            -26.1         10.6\n",
       "01-05            -15.0         12.8"
      ]
     },
     "execution_count": 208,
     "metadata": {},
     "output_type": "execute_result"
    }
   ],
   "source": [
    "# agg por minimo e maximo\n",
    "df_records = (df_ten_years.groupby(['Month_date'])['Data_Value']).agg([('Record Low', 'min'), ('Record High', 'max')])\n",
    "df_records.head()"
   ]
  },
  {
   "cell_type": "markdown",
   "metadata": {},
   "source": [
    "Assim temos a maior temperatura na regiao, de cada dia"
   ]
  },
  {
   "cell_type": "code",
   "execution_count": 209,
   "metadata": {
    "collapsed": false
   },
   "outputs": [
    {
     "data": {
      "text/plain": [
       "(365, 2)"
      ]
     },
     "execution_count": 209,
     "metadata": {},
     "output_type": "execute_result"
    }
   ],
   "source": [
    "df_records.shape"
   ]
  },
  {
   "cell_type": "markdown",
   "metadata": {},
   "source": [
    "#### Recordes de 2015"
   ]
  },
  {
   "cell_type": "code",
   "execution_count": 123,
   "metadata": {
    "collapsed": false
   },
   "outputs": [
    {
     "data": {
      "text/html": [
       "<div>\n",
       "<table border=\"1\" class=\"dataframe\">\n",
       "  <thead>\n",
       "    <tr style=\"text-align: right;\">\n",
       "      <th></th>\n",
       "      <th>Record Low</th>\n",
       "      <th>Record High</th>\n",
       "      <th>Date</th>\n",
       "    </tr>\n",
       "    <tr>\n",
       "      <th>Month_date</th>\n",
       "      <th></th>\n",
       "      <th></th>\n",
       "      <th></th>\n",
       "    </tr>\n",
       "  </thead>\n",
       "  <tbody>\n",
       "    <tr>\n",
       "      <th>01-01</th>\n",
       "      <td>-13.3</td>\n",
       "      <td>1.1</td>\n",
       "      <td>2015-01-01</td>\n",
       "    </tr>\n",
       "    <tr>\n",
       "      <th>01-02</th>\n",
       "      <td>-12.2</td>\n",
       "      <td>3.9</td>\n",
       "      <td>2015-01-02</td>\n",
       "    </tr>\n",
       "    <tr>\n",
       "      <th>01-03</th>\n",
       "      <td>-6.7</td>\n",
       "      <td>3.9</td>\n",
       "      <td>2015-01-03</td>\n",
       "    </tr>\n",
       "    <tr>\n",
       "      <th>01-04</th>\n",
       "      <td>-8.8</td>\n",
       "      <td>4.4</td>\n",
       "      <td>2015-01-04</td>\n",
       "    </tr>\n",
       "    <tr>\n",
       "      <th>01-05</th>\n",
       "      <td>-15.5</td>\n",
       "      <td>2.8</td>\n",
       "      <td>2015-01-05</td>\n",
       "    </tr>\n",
       "  </tbody>\n",
       "</table>\n",
       "</div>"
      ],
      "text/plain": [
       "            Record Low  Record High       Date\n",
       "Month_date                                    \n",
       "01-01            -13.3          1.1 2015-01-01\n",
       "01-02            -12.2          3.9 2015-01-02\n",
       "01-03             -6.7          3.9 2015-01-03\n",
       "01-04             -8.8          4.4 2015-01-04\n",
       "01-05            -15.5          2.8 2015-01-05"
      ]
     },
     "execution_count": 123,
     "metadata": {},
     "output_type": "execute_result"
    }
   ],
   "source": [
    "df_records_2015 = (df_15.groupby(['Month_date'])['Data_Value']).agg([('Record Low', 'min'), ('Record High', 'max')])\n",
    "df_records_2015['Date'] = df_15['Date'].sort_values().unique() # mantendo a data pra utilizar como index posteriormente\n",
    "df_records_2015.head()"
   ]
  },
  {
   "cell_type": "code",
   "execution_count": 210,
   "metadata": {
    "collapsed": false
   },
   "outputs": [
    {
     "data": {
      "text/plain": [
       "(365, 3)"
      ]
     },
     "execution_count": 210,
     "metadata": {},
     "output_type": "execute_result"
    }
   ],
   "source": [
    "df_records_2015.shape"
   ]
  },
  {
   "cell_type": "markdown",
   "metadata": {},
   "source": [
    "## Recordes de 10 anos (2005 - 2014) que foram quebrados em 2015"
   ]
  },
  {
   "cell_type": "code",
   "execution_count": 212,
   "metadata": {
    "collapsed": false
   },
   "outputs": [
    {
     "data": {
      "text/html": [
       "<div>\n",
       "<table border=\"1\" class=\"dataframe\">\n",
       "  <thead>\n",
       "    <tr style=\"text-align: right;\">\n",
       "      <th></th>\n",
       "      <th>Record Low</th>\n",
       "      <th>Date</th>\n",
       "    </tr>\n",
       "    <tr>\n",
       "      <th>Month_date</th>\n",
       "      <th></th>\n",
       "      <th></th>\n",
       "    </tr>\n",
       "  </thead>\n",
       "  <tbody>\n",
       "    <tr>\n",
       "      <th>01-05</th>\n",
       "      <td>-15.5</td>\n",
       "      <td>2015-01-05</td>\n",
       "    </tr>\n",
       "    <tr>\n",
       "      <th>01-11</th>\n",
       "      <td>-20.0</td>\n",
       "      <td>2015-01-11</td>\n",
       "    </tr>\n",
       "    <tr>\n",
       "      <th>02-03</th>\n",
       "      <td>-23.8</td>\n",
       "      <td>2015-02-03</td>\n",
       "    </tr>\n",
       "    <tr>\n",
       "      <th>02-14</th>\n",
       "      <td>-23.9</td>\n",
       "      <td>2015-02-14</td>\n",
       "    </tr>\n",
       "    <tr>\n",
       "      <th>02-15</th>\n",
       "      <td>-26.0</td>\n",
       "      <td>2015-02-15</td>\n",
       "    </tr>\n",
       "  </tbody>\n",
       "</table>\n",
       "</div>"
      ],
      "text/plain": [
       "            Record Low       Date\n",
       "Month_date                       \n",
       "01-05            -15.5 2015-01-05\n",
       "01-11            -20.0 2015-01-11\n",
       "02-03            -23.8 2015-02-03\n",
       "02-14            -23.9 2015-02-14\n",
       "02-15            -26.0 2015-02-15"
      ]
     },
     "execution_count": 212,
     "metadata": {},
     "output_type": "execute_result"
    }
   ],
   "source": [
    "# menores temperaturas registradas em 10 anos (2005 - 2014) quebradas em 2015\n",
    "df_low_broken = df_records_2015[df_records_2015['Record Low'] < df_records['Record Low']].filter(['Record Low', 'Date'])\n",
    "df_low_broken.head()"
   ]
  },
  {
   "cell_type": "code",
   "execution_count": 213,
   "metadata": {
    "collapsed": false
   },
   "outputs": [
    {
     "data": {
      "text/html": [
       "<div>\n",
       "<table border=\"1\" class=\"dataframe\">\n",
       "  <thead>\n",
       "    <tr style=\"text-align: right;\">\n",
       "      <th></th>\n",
       "      <th>Record High</th>\n",
       "      <th>Date</th>\n",
       "    </tr>\n",
       "    <tr>\n",
       "      <th>Month_date</th>\n",
       "      <th></th>\n",
       "      <th></th>\n",
       "    </tr>\n",
       "  </thead>\n",
       "  <tbody>\n",
       "    <tr>\n",
       "      <th>02-09</th>\n",
       "      <td>8.3</td>\n",
       "      <td>2015-02-09</td>\n",
       "    </tr>\n",
       "    <tr>\n",
       "      <th>04-17</th>\n",
       "      <td>27.8</td>\n",
       "      <td>2015-04-17</td>\n",
       "    </tr>\n",
       "    <tr>\n",
       "      <th>05-07</th>\n",
       "      <td>30.6</td>\n",
       "      <td>2015-05-07</td>\n",
       "    </tr>\n",
       "    <tr>\n",
       "      <th>05-08</th>\n",
       "      <td>33.3</td>\n",
       "      <td>2015-05-08</td>\n",
       "    </tr>\n",
       "    <tr>\n",
       "      <th>05-11</th>\n",
       "      <td>30.6</td>\n",
       "      <td>2015-05-11</td>\n",
       "    </tr>\n",
       "  </tbody>\n",
       "</table>\n",
       "</div>"
      ],
      "text/plain": [
       "            Record High       Date\n",
       "Month_date                        \n",
       "02-09               8.3 2015-02-09\n",
       "04-17              27.8 2015-04-17\n",
       "05-07              30.6 2015-05-07\n",
       "05-08              33.3 2015-05-08\n",
       "05-11              30.6 2015-05-11"
      ]
     },
     "execution_count": 213,
     "metadata": {},
     "output_type": "execute_result"
    }
   ],
   "source": [
    "# maiores temperaturas registradas em 10 anos (2005 - 2014) quebradas em 2015\n",
    "df_high_broken = df_records_2015[df_records_2015['Record High'] > df_records['Record High']].filter(['Record High', 'Date'])\n",
    "df_high_broken.head()"
   ]
  },
  {
   "cell_type": "markdown",
   "metadata": {},
   "source": [
    "# Data visualization\n",
    "\n",
    "**Para visualizarmos os dados, devemos primeiramente definir a data de observação (ano de 2015)**\n",
    "\n",
    "`date_index = np.arange('2015-01-01','2016-01-01', dtype='datetime64[D]')`\n",
    "\n",
    "**Posteriormente criamos a figura e plotamos as linhas de máximas e mínimas**\n",
    "\n",
    "`plt.plot(date_index,df_records['Record High'], color='lightcoral', linewidth=2.5)`\n",
    "\n",
    "`plt.plot(date_index,df_records['Record Low'], color='skyblue', linewidth=2.5)`\n",
    "\n",
    "**Entao plotamos um scatterplot dos recordes que 2015 quebrou**\n",
    "\n",
    "É necessária conversar para datetime, das datas do dataframe dos recordes quebrados, para estarem na mesma dimensão do espaço de visualização criado em `date_index`\n",
    "\n",
    "Serão plotados triangulos para mostrar recordes de máxima, e triangulos invertidos para recordes de mínima.\n",
    "\n",
    "```plt.plot(list(map(pd.to_datetime, df_high_broken['Date'])), df_high_broken['Record High'], 'r^',\n",
    "        list(map(pd.to_datetime, df_low_broken['Date'])), df_low_broken['Record Low'], 'cv', ms=8, alpha=1)```\n",
    "      \n",
    "**Linha horizontal para salientar 0 graus**\n",
    "\n",
    "``plt.axhline(linewidth=0.5, color='b', alpha=0.5)``\n",
    "\n",
    "**Definimos os limites de x e y**\n",
    "\n",
    "Dessa maneira, o gráfico fica sem espaços em branco com relação as bordas.\n",
    "\n",
    "``ax.axis(['2015/01/01','2015/12/31',-50,50])``\n",
    "\n",
    "**Renomear os ticks**\n",
    "\n",
    "``ax.set_xticklabels(('jan', 'fev', 'mar', 'abr', 'maio', 'jun', 'jul', 'ago', 'set', 'out', 'nov', 'dez'),fontsize=16)\n",
    "ax.set_yticklabels(('50 $^{\\circ}$C', '40 $^{\\circ}$C', '20 $^{\\circ}$C', \n",
    "                    '0 $^{\\circ}$C', '-20 $^{\\circ}$C', '-40 $^{\\circ}$C', '-50 $^{\\circ}$C'), fontsize=16)``\n",
    "\n",
    "**Sombrear a área entre eles**\n",
    "\n",
    "``ax.fill_between(date_index, df_records['Record High'], df_records['Record Low'], facecolor='grey', alpha=0.3)``\n",
    "\n",
    "**Por fim adicionar titulo e legenda**\n",
    "\n",
    "``plt.title()\n",
    "plt.legend()``"
   ]
  },
  {
   "cell_type": "code",
   "execution_count": 216,
   "metadata": {
    "collapsed": false
   },
   "outputs": [
    {
     "data": {
      "text/plain": [
       "<matplotlib.legend.Legend at 0x7f3789e09f60>"
      ]
     },
     "execution_count": 216,
     "metadata": {},
     "output_type": "execute_result"
    },
    {
     "data": {
      "image/png": "[encoded data removed]",
      "text/plain": [
       "<matplotlib.figure.Figure at 0x7f3789fcd470>"
      ]
     },
     "metadata": {},
     "output_type": "display_data"
    }
   ],
   "source": [
    "%matplotlib inline\n",
    "import matplotlib.pyplot as plt\n",
    "import matplotlib as mpl\n",
    "import numpy as np\n",
    "\n",
    "\n",
    "# range para visualização\n",
    "date_index = np.arange('2015-01-01','2016-01-01', dtype='datetime64[D]')\n",
    "date_index = list(map(pd.to_datetime, date_index)) # conversao para lista\n",
    "plt.figure(figsize=(20, 10)) # criacao da figura que sera desenhado o grafico\n",
    "\n",
    "# plot maximas\n",
    "plt.plot(date_index,df_records['Record High'], color='lightcoral', linewidth=2.5)\n",
    "\n",
    "# plot minimas\n",
    "plt.plot(date_index,df_records['Record Low'], color='skyblue', linewidth=2.5)\n",
    "\n",
    "#2015 recordes\n",
    "plt.plot(list(map(pd.to_datetime, df_high_broken['Date'])), df_high_broken['Record High'], 'r^',\n",
    "        list(map(pd.to_datetime, df_low_broken['Date'])), df_low_broken['Record Low'], 'cv', ms=8, alpha=1)\n",
    "\n",
    "# linha horizontal na temperatura 0\n",
    "plt.axhline(linewidth=0.5, color='b', alpha=0.5)\n",
    "\n",
    "# limites de x e y\n",
    "ax = plt.gca() # pegando os eixos atuais (get current axes)\n",
    "ax.axis(['2015/01/01','2015/12/31',-50,50])\n",
    "\n",
    "# renomeando os ticks\n",
    "ax.set_xticklabels(('jan', 'fev', 'mar', 'abr', 'maio', 'jun', 'jul', 'ago', 'set', 'out', 'nov', 'dez'),fontsize=16)\n",
    "ax.set_yticklabels(('50 $^{\\circ}$C', '40 $^{\\circ}$C', '20 $^{\\circ}$C', \n",
    "                    '0 $^{\\circ}$C', '-20 $^{\\circ}$C', '-40 $^{\\circ}$C', '-50 $^{\\circ}$C'), fontsize=16)\n",
    "\n",
    "# pintar a diferença entre as linhas\n",
    "ax.fill_between(date_index, df_records['Record High'], df_records['Record Low'], facecolor='grey', alpha=0.3)\n",
    "\n",
    "# Adicionar titulo\n",
    "plt.title(\"Recordes Metereológicos de 2005 a 2014 vs Recordes Metereológicos de 2015 na \\n Região de Ann Arbor, Michigan\", fontsize=19)\n",
    "\n",
    "# Adicionar legenda\n",
    "plt.legend(['Temperatura máxima', 'Temperatura Mínima', \"Recorde Temp. Máxima em 2015\", \"Recorde Temp. Mínima em 2015\"], loc='lower center', prop={'size':16})\n"
   ]
  }
 ],
 "metadata": {
  "kernelspec": {
   "display_name": "Python 3",
   "language": "python",
   "name": "python3"
  },
  "language_info": {
   "codemirror_mode": {
    "name": "ipython",
    "version": 3
   },
   "file_extension": ".py",
   "mimetype": "text/x-python",
   "name": "python",
   "nbconvert_exporter": "python",
   "pygments_lexer": "ipython3",
   "version": "3.6.2"
  }
 },
 "nbformat": 4,
 "nbformat_minor": 1
}
